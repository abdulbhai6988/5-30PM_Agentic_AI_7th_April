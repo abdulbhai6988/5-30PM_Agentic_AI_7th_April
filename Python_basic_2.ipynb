{
 "cells": [
  {
   "cell_type": "code",
   "execution_count": 1,
   "id": "5460cfb8-9ada-43ec-994b-37de8b280d05",
   "metadata": {},
   "outputs": [],
   "source": [
    "#11th April-FSDS with Agentic AI and Gen AI \n",
    "#Python Basics"
   ]
  },
  {
   "cell_type": "code",
   "execution_count": 3,
   "id": "9f52ad0d-d394-4ed3-b82b-c8f1ba13e1e8",
   "metadata": {},
   "outputs": [
    {
     "ename": "NameError",
     "evalue": "name 'nareshit' is not defined",
     "output_type": "error",
     "traceback": [
      "\u001b[1;31m---------------------------------------------------------------------------\u001b[0m",
      "\u001b[1;31mNameError\u001b[0m                                 Traceback (most recent call last)",
      "Cell \u001b[1;32mIn[3], line 1\u001b[0m\n\u001b[1;32m----> 1\u001b[0m nareshit\n",
      "\u001b[1;31mNameError\u001b[0m: name 'nareshit' is not defined"
     ]
    }
   ],
   "source": [
    "nareshit #Text not defined,it is called a string"
   ]
  },
  {
   "cell_type": "code",
   "execution_count": 5,
   "id": "a601bd7e-1b14-4cd6-a78c-8b1b07995acd",
   "metadata": {},
   "outputs": [
    {
     "data": {
      "text/plain": [
       "'nareshit'"
      ]
     },
     "execution_count": 5,
     "metadata": {},
     "output_type": "execute_result"
    }
   ],
   "source": [
    "'nareshit'#use quotations to write strings "
   ]
  },
  {
   "cell_type": "code",
   "execution_count": 9,
   "id": "6c774c1a-d991-4fce-9a0b-44a33df8a8c7",
   "metadata": {},
   "outputs": [
    {
     "data": {
      "text/plain": [
       "'nareshit'"
      ]
     },
     "execution_count": 9,
     "metadata": {},
     "output_type": "execute_result"
    }
   ],
   "source": [
    "s='nareshit' #storing string in variable\n",
    "s"
   ]
  },
  {
   "cell_type": "code",
   "execution_count": 11,
   "id": "5173f67d-47ca-4de1-8dd5-fa647b5cb643",
   "metadata": {},
   "outputs": [
    {
     "data": {
      "text/plain": [
       "8"
      ]
     },
     "execution_count": 11,
     "metadata": {},
     "output_type": "execute_result"
    }
   ],
   "source": [
    "len(s) #length of the string "
   ]
  },
  {
   "cell_type": "code",
   "execution_count": 15,
   "id": "ac50c8ff-b0e3-445d-8377-1f32b1f2cd56",
   "metadata": {},
   "outputs": [
    {
     "data": {
      "text/plain": [
       "'n'"
      ]
     },
     "execution_count": 15,
     "metadata": {},
     "output_type": "execute_result"
    }
   ],
   "source": [
    "s[0]"
   ]
  },
  {
   "cell_type": "code",
   "execution_count": 17,
   "id": "2bae58be-f489-4275-b3a0-9d5eb523771a",
   "metadata": {},
   "outputs": [
    {
     "data": {
      "text/plain": [
       "'h'"
      ]
     },
     "execution_count": 17,
     "metadata": {},
     "output_type": "execute_result"
    }
   ],
   "source": [
    "s[5]"
   ]
  },
  {
   "cell_type": "code",
   "execution_count": 19,
   "id": "d0931f8e-63e0-460d-81c6-99a11e7bdf82",
   "metadata": {},
   "outputs": [
    {
     "data": {
      "text/plain": [
       "'a'"
      ]
     },
     "execution_count": 19,
     "metadata": {},
     "output_type": "execute_result"
    }
   ],
   "source": [
    "s[1]"
   ]
  },
  {
   "cell_type": "code",
   "execution_count": 21,
   "id": "a6f9ead8-e007-4246-ac04-819de8facaae",
   "metadata": {},
   "outputs": [
    {
     "name": "stdout",
     "output_type": "stream",
     "text": [
      "n\n",
      "a\n",
      "r\n",
      "e\n",
      "s\n",
      "h\n",
      "i\n",
      "t\n"
     ]
    }
   ],
   "source": [
    "for i in s: #for loop\n",
    "    print (i)"
   ]
  },
  {
   "cell_type": "code",
   "execution_count": 23,
   "id": "f8d8d730-9bf8-4c8d-ab28-25f1743561a6",
   "metadata": {},
   "outputs": [
    {
     "data": {
      "text/plain": [
       "'nares'"
      ]
     },
     "execution_count": 23,
     "metadata": {},
     "output_type": "execute_result"
    }
   ],
   "source": [
    "s[0:5] #string slicing"
   ]
  },
  {
   "cell_type": "code",
   "execution_count": 25,
   "id": "2604d817-f973-4b6e-b0d7-e9ae2e6564cf",
   "metadata": {},
   "outputs": [
    {
     "data": {
      "text/plain": [
       "'tihseran'"
      ]
     },
     "execution_count": 25,
     "metadata": {},
     "output_type": "execute_result"
    }
   ],
   "source": [
    "s[::-1] # reverse indexing"
   ]
  },
  {
   "cell_type": "code",
   "execution_count": 1,
   "id": "c1c92e04-0e4e-4521-ad17-6eb7ffe86b91",
   "metadata": {},
   "outputs": [],
   "source": [
    "#15th April-FSDS with Agentic AI and Gen AI \n",
    "#Python Basics"
   ]
  },
  {
   "cell_type": "code",
   "execution_count": 9,
   "id": "16001028-05a0-4b26-8969-38a726567610",
   "metadata": {},
   "outputs": [
    {
     "data": {
      "text/plain": [
       "10"
      ]
     },
     "execution_count": 9,
     "metadata": {},
     "output_type": "execute_result"
    }
   ],
   "source": [
    "va=10 # variable name= value, (varaible = indentifier = object) \n",
    "va"
   ]
  },
  {
   "cell_type": "code",
   "execution_count": 11,
   "id": "2aea8adf-0aa3-4384-8e08-e2851c32c20e",
   "metadata": {},
   "outputs": [
    {
     "data": {
      "text/plain": [
       "140704781122264"
      ]
     },
     "execution_count": 11,
     "metadata": {},
     "output_type": "execute_result"
    }
   ],
   "source": [
    "id(va) #  'id' address of the variable location "
   ]
  },
  {
   "cell_type": "code",
   "execution_count": 13,
   "id": "7c93e9fc-2cc1-40c4-97af-40cf504cf7b6",
   "metadata": {},
   "outputs": [
    {
     "ename": "SyntaxError",
     "evalue": "invalid decimal literal (153533817.py, line 1)",
     "output_type": "error",
     "traceback": [
      "\u001b[1;36m  Cell \u001b[1;32mIn[13], line 1\u001b[1;36m\u001b[0m\n\u001b[1;33m    1nit=18\u001b[0m\n\u001b[1;37m    ^\u001b[0m\n\u001b[1;31mSyntaxError\u001b[0m\u001b[1;31m:\u001b[0m invalid decimal literal\n"
     ]
    }
   ],
   "source": [
    "1nit=18 # varaibles never start with digits/integer , but can end with integer\n",
    "1nit"
   ]
  },
  {
   "cell_type": "code",
   "execution_count": 17,
   "id": "a36340de-a762-4bee-8fcb-f951ba3d2992",
   "metadata": {},
   "outputs": [
    {
     "data": {
      "text/plain": [
       "18"
      ]
     },
     "execution_count": 17,
     "metadata": {},
     "output_type": "execute_result"
    }
   ],
   "source": [
    "nit1=18\n",
    "nit1"
   ]
  },
  {
   "cell_type": "code",
   "execution_count": 21,
   "id": "2d448dde-1505-49b0-bd66-fd2ac7a7f217",
   "metadata": {},
   "outputs": [
    {
     "ename": "NameError",
     "evalue": "name 'NIT2' is not defined",
     "output_type": "error",
     "traceback": [
      "\u001b[1;31m---------------------------------------------------------------------------\u001b[0m",
      "\u001b[1;31mNameError\u001b[0m                                 Traceback (most recent call last)",
      "Cell \u001b[1;32mIn[21], line 2\u001b[0m\n\u001b[0;32m      1\u001b[0m nit2\u001b[38;5;241m=\u001b[39m\u001b[38;5;241m19\u001b[39m\n\u001b[1;32m----> 2\u001b[0m NIT2\n",
      "\u001b[1;31mNameError\u001b[0m: name 'NIT2' is not defined"
     ]
    }
   ],
   "source": [
    "nit2=19 # variables are case sensitive \n",
    "NIT2"
   ]
  },
  {
   "cell_type": "code",
   "execution_count": 23,
   "id": "b75ad983-8a0b-4e8d-9be4-171f72de24b7",
   "metadata": {},
   "outputs": [
    {
     "data": {
      "text/plain": [
       "19"
      ]
     },
     "execution_count": 23,
     "metadata": {},
     "output_type": "execute_result"
    }
   ],
   "source": [
    "nit2"
   ]
  },
  {
   "cell_type": "code",
   "execution_count": 27,
   "id": "b5693630-bc39-44a2-a83d-f79d46fd8029",
   "metadata": {},
   "outputs": [
    {
     "ename": "SyntaxError",
     "evalue": "invalid syntax (1606725410.py, line 1)",
     "output_type": "error",
     "traceback": [
      "\u001b[1;36m  Cell \u001b[1;32mIn[27], line 1\u001b[1;36m\u001b[0m\n\u001b[1;33m    v$=19 # specails characters are not allowed\u001b[0m\n\u001b[1;37m     ^\u001b[0m\n\u001b[1;31mSyntaxError\u001b[0m\u001b[1;31m:\u001b[0m invalid syntax\n"
     ]
    }
   ],
   "source": [
    "v$=19 # specail characters are not allowed only underscore is allowed \n",
    "v$"
   ]
  },
  {
   "cell_type": "code",
   "execution_count": 31,
   "id": "0edf8fd9-4e1a-42fe-8182-a6e2a0cc9b33",
   "metadata": {},
   "outputs": [
    {
     "data": {
      "text/plain": [
       "90"
      ]
     },
     "execution_count": 31,
     "metadata": {},
     "output_type": "execute_result"
    }
   ],
   "source": [
    "v_ = 90 # underscore is allowed \n",
    "v_"
   ]
  },
  {
   "cell_type": "code",
   "execution_count": 33,
   "id": "2fd7467a-eb1f-4d0c-8c44-46936d8d0791",
   "metadata": {},
   "outputs": [
    {
     "data": {
      "text/plain": [
       "['False',\n",
       " 'None',\n",
       " 'True',\n",
       " 'and',\n",
       " 'as',\n",
       " 'assert',\n",
       " 'async',\n",
       " 'await',\n",
       " 'break',\n",
       " 'class',\n",
       " 'continue',\n",
       " 'def',\n",
       " 'del',\n",
       " 'elif',\n",
       " 'else',\n",
       " 'except',\n",
       " 'finally',\n",
       " 'for',\n",
       " 'from',\n",
       " 'global',\n",
       " 'if',\n",
       " 'import',\n",
       " 'in',\n",
       " 'is',\n",
       " 'lambda',\n",
       " 'nonlocal',\n",
       " 'not',\n",
       " 'or',\n",
       " 'pass',\n",
       " 'raise',\n",
       " 'return',\n",
       " 'try',\n",
       " 'while',\n",
       " 'with',\n",
       " 'yield']"
      ]
     },
     "execution_count": 33,
     "metadata": {},
     "output_type": "execute_result"
    }
   ],
   "source": [
    "import keyword # these keywords cant be used as variable names \n",
    "keyword.kwlist"
   ]
  },
  {
   "cell_type": "code",
   "execution_count": 35,
   "id": "c84d370d-3b09-4bde-bcd1-7745ca8dc44e",
   "metadata": {},
   "outputs": [
    {
     "data": {
      "text/plain": [
       "35"
      ]
     },
     "execution_count": 35,
     "metadata": {},
     "output_type": "execute_result"
    }
   ],
   "source": [
    "len(keyword.kwlist) # number of keywords in python "
   ]
  },
  {
   "cell_type": "code",
   "execution_count": 37,
   "id": "1c81baef-fa3b-4225-9f83-c817bc27053c",
   "metadata": {},
   "outputs": [
    {
     "ename": "SyntaxError",
     "evalue": "invalid syntax (270089347.py, line 1)",
     "output_type": "error",
     "traceback": [
      "\u001b[1;36m  Cell \u001b[1;32mIn[37], line 1\u001b[1;36m\u001b[0m\n\u001b[1;33m    for=67\u001b[0m\n\u001b[1;37m       ^\u001b[0m\n\u001b[1;31mSyntaxError\u001b[0m\u001b[1;31m:\u001b[0m invalid syntax\n"
     ]
    }
   ],
   "source": [
    "for=67 # keyword is not a variable \n",
    "for"
   ]
  },
  {
   "cell_type": "code",
   "execution_count": 41,
   "id": "d9c6b322-c4e2-474a-9ace-4954c4c48772",
   "metadata": {},
   "outputs": [
    {
     "data": {
      "text/plain": [
       "67"
      ]
     },
     "execution_count": 41,
     "metadata": {},
     "output_type": "execute_result"
    }
   ],
   "source": [
    "For = 67 # case sensitive\n",
    "For"
   ]
  },
  {
   "cell_type": "code",
   "execution_count": 45,
   "id": "88c79500-cb22-409f-a70c-4d1b3b0a7da4",
   "metadata": {},
   "outputs": [
    {
     "data": {
      "text/plain": [
       "5"
      ]
     },
     "execution_count": 45,
     "metadata": {},
     "output_type": "execute_result"
    }
   ],
   "source": [
    "a=5\n",
    "b=6\n",
    "c=7\n",
    "a"
   ]
  },
  {
   "cell_type": "code",
   "execution_count": 47,
   "id": "96f40e95-b464-49ae-be21-c902e1effcb0",
   "metadata": {},
   "outputs": [
    {
     "name": "stdout",
     "output_type": "stream",
     "text": [
      "5\n",
      "6\n",
      "7\n"
     ]
    }
   ],
   "source": [
    "print(a) # to print more than one variable or function use \"print\" function \n",
    "print(b)\n",
    "print(c)"
   ]
  },
  {
   "cell_type": "code",
   "execution_count": 49,
   "id": "d8af6602-e72e-46ed-992e-4e9c51ed06fa",
   "metadata": {},
   "outputs": [
    {
     "data": {
      "text/plain": [
       "'3.12.4 | packaged by Anaconda, Inc. | (main, Jun 18 2024, 15:03:56) [MSC v.1929 64 bit (AMD64)]'"
      ]
     },
     "execution_count": 49,
     "metadata": {},
     "output_type": "execute_result"
    }
   ],
   "source": [
    "import sys\n",
    "sys.version"
   ]
  },
  {
   "cell_type": "code",
   "execution_count": null,
   "id": "967ec261-340d-43d8-9c6e-19ad1231df4e",
   "metadata": {},
   "outputs": [],
   "source": []
  }
 ],
 "metadata": {
  "kernelspec": {
   "display_name": "Python 3 (ipykernel)",
   "language": "python",
   "name": "python3"
  },
  "language_info": {
   "codemirror_mode": {
    "name": "ipython",
    "version": 3
   },
   "file_extension": ".py",
   "mimetype": "text/x-python",
   "name": "python",
   "nbconvert_exporter": "python",
   "pygments_lexer": "ipython3",
   "version": "3.12.4"
  }
 },
 "nbformat": 4,
 "nbformat_minor": 5
}
