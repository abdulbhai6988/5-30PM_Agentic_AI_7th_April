{
 "cells": [
  {
   "cell_type": "markdown",
   "id": "42a39b21-bcda-4d2c-8f40-6d94a427b675",
   "metadata": {},
   "source": [
    "16th April-FSDS with Agentic AI and Gen AI \n",
    "Python Basics(Data Types)"
   ]
  },
  {
   "cell_type": "code",
   "execution_count": 3,
   "id": "87be3e27-f54a-4a53-a86c-2ce4759b5f48",
   "metadata": {},
   "outputs": [
    {
     "data": {
      "text/plain": [
       "'3.12.4 | packaged by Anaconda, Inc. | (main, Jun 18 2024, 15:03:56) [MSC v.1929 64 bit (AMD64)]'"
      ]
     },
     "execution_count": 3,
     "metadata": {},
     "output_type": "execute_result"
    }
   ],
   "source": [
    "import sys \n",
    "sys.version"
   ]
  },
  {
   "cell_type": "code",
   "execution_count": 23,
   "id": "b08f8e6c-c830-4c18-8347-728d0f645cd2",
   "metadata": {},
   "outputs": [
    {
     "name": "stdout",
     "output_type": "stream",
     "text": [
      "10 10.3 nit\n",
      "<class 'int'>\n",
      "<class 'float'>\n",
      "<class 'str'>\n"
     ]
    }
   ],
   "source": [
    "# Value have types ,i.e. called data types\n",
    "# 1-int,2-float,3-str,4-boolean,5-complex\n",
    "i=10\n",
    "f=10.3\n",
    "s='nit'\n",
    "print(i,f,s)\n",
    "print(type(i)) #in-built Class\n",
    "print(type(f))\n",
    "print(type(s))"
   ]
  },
  {
   "cell_type": "code",
   "execution_count": 31,
   "id": "5c6388cd-be0d-4495-a746-609017921cea",
   "metadata": {},
   "outputs": [
    {
     "name": "stdout",
     "output_type": "stream",
     "text": [
      "10 20\n",
      "30\n",
      "-10\n",
      "200\n",
      "0.5\n"
     ]
    }
   ],
   "source": [
    "i1,i2=10,20 #INTEGER\n",
    "print(i1,i2)\n",
    "print(i1+i2)\n",
    "print(i1-i2)\n",
    "print(i1*i2)\n",
    "print(i1/i2)"
   ]
  },
  {
   "cell_type": "code",
   "execution_count": 33,
   "id": "66fa180e-2592-4788-9749-e16f60943cdf",
   "metadata": {},
   "outputs": [
    {
     "ename": "NameError",
     "evalue": "name 'nareshit' is not defined",
     "output_type": "error",
     "traceback": [
      "\u001b[1;31m---------------------------------------------------------------------------\u001b[0m",
      "\u001b[1;31mNameError\u001b[0m                                 Traceback (most recent call last)",
      "Cell \u001b[1;32mIn[33], line 1\u001b[0m\n\u001b[1;32m----> 1\u001b[0m s\u001b[38;5;241m=\u001b[39mnareshit\n",
      "\u001b[1;31mNameError\u001b[0m: name 'nareshit' is not defined"
     ]
    }
   ],
   "source": [
    "s=nareshit"
   ]
  },
  {
   "cell_type": "code",
   "execution_count": 37,
   "id": "51321989-55ad-49ff-90fd-1cb38685f84e",
   "metadata": {},
   "outputs": [
    {
     "name": "stdout",
     "output_type": "stream",
     "text": [
      "nareshit\n",
      "<class 'str'>\n"
     ]
    }
   ],
   "source": [
    "s='nareshit' #string\n",
    "print(s)\n",
    "print(type(s))"
   ]
  },
  {
   "cell_type": "code",
   "execution_count": 39,
   "id": "b9e9ac7b-0887-4a75-8809-ec4c7e5f2a3c",
   "metadata": {},
   "outputs": [
    {
     "name": "stdout",
     "output_type": "stream",
     "text": [
      "nareshit\n",
      "<class 'str'>\n"
     ]
    }
   ],
   "source": [
    "s1=\"nareshit\" #string\n",
    "print(s)\n",
    "print(type(s))"
   ]
  },
  {
   "cell_type": "code",
   "execution_count": 41,
   "id": "3500397f-3017-4c11-91dc-601aefd92dd3",
   "metadata": {},
   "outputs": [
    {
     "ename": "SyntaxError",
     "evalue": "unterminated string literal (detected at line 1) (1879986466.py, line 1)",
     "output_type": "error",
     "traceback": [
      "\u001b[1;36m  Cell \u001b[1;32mIn[41], line 1\u001b[1;36m\u001b[0m\n\u001b[1;33m    s2= 'naresh it technology\u001b[0m\n\u001b[1;37m        ^\u001b[0m\n\u001b[1;31mSyntaxError\u001b[0m\u001b[1;31m:\u001b[0m unterminated string literal (detected at line 1)\n"
     ]
    }
   ],
   "source": [
    "s2= 'naresh it technology\n",
    "        datascience,ai student--6month i will change your mindset'"
   ]
  },
  {
   "cell_type": "code",
   "execution_count": 43,
   "id": "f56c1ded-65c8-4c9a-a881-2774bdc09d99",
   "metadata": {},
   "outputs": [
    {
     "ename": "SyntaxError",
     "evalue": "unterminated string literal (detected at line 1) (1564030112.py, line 1)",
     "output_type": "error",
     "traceback": [
      "\u001b[1;36m  Cell \u001b[1;32mIn[43], line 1\u001b[1;36m\u001b[0m\n\u001b[1;33m    s2= \"naresh it technology\u001b[0m\n\u001b[1;37m        ^\u001b[0m\n\u001b[1;31mSyntaxError\u001b[0m\u001b[1;31m:\u001b[0m unterminated string literal (detected at line 1)\n"
     ]
    }
   ],
   "source": [
    "s2= \"naresh it technology\n",
    "        datascience,ai student--6month i will change your mindset\""
   ]
  },
  {
   "cell_type": "code",
   "execution_count": 46,
   "id": "1c38d53c-6f78-4a5c-9111-d45a8d5cc684",
   "metadata": {},
   "outputs": [
    {
     "name": "stdout",
     "output_type": "stream",
     "text": [
      "naresh it technology\n",
      "        datascience,ai student--6month i will change your mindset\n"
     ]
    }
   ],
   "source": [
    "s2= '''naresh it technology \n",
    "        datascience,ai student--6month i will change your mindset''' #for multiple lines of text we use triple quotes\n",
    "print(s2)"
   ]
  },
  {
   "cell_type": "code",
   "execution_count": 56,
   "id": "3c3986a9-1fe4-4e9a-a92e-0e86820897a9",
   "metadata": {},
   "outputs": [
    {
     "name": "stdout",
     "output_type": "stream",
     "text": [
      "n\n",
      "t\n",
      "e\n",
      "res\n"
     ]
    }
   ],
   "source": [
    "print(s[0])\n",
    "print(s[-1])\n",
    "print(s[3])\n",
    "print(s[2:5])#slicing using colon \":\",n-1 formula is applicapbel to the right index "
   ]
  },
  {
   "cell_type": "markdown",
   "id": "9dc42a64-539e-4c5a-91cc-4c5751861d0d",
   "metadata": {},
   "source": [
    "17th April-FSDS with Agentic AI and Gen AI \n",
    "Python Basics(Datatypes 2)#boolean and Complex"
   ]
  },
  {
   "cell_type": "markdown",
   "id": "e184477e-537e-44be-8b7e-faa81e9ab514",
   "metadata": {},
   "source": [
    "#Boolean"
   ]
  },
  {
   "cell_type": "code",
   "execution_count": 5,
   "id": "3d5a94c6-b52a-4c73-8e51-fa9b4e445c21",
   "metadata": {},
   "outputs": [
    {
     "ename": "NameError",
     "evalue": "name 'true' is not defined",
     "output_type": "error",
     "traceback": [
      "\u001b[1;31m---------------------------------------------------------------------------\u001b[0m",
      "\u001b[1;31mNameError\u001b[0m                                 Traceback (most recent call last)",
      "Cell \u001b[1;32mIn[5], line 1\u001b[0m\n\u001b[1;32m----> 1\u001b[0m true\n",
      "\u001b[1;31mNameError\u001b[0m: name 'true' is not defined"
     ]
    }
   ],
   "source": [
    "true"
   ]
  },
  {
   "cell_type": "code",
   "execution_count": 7,
   "id": "72249263-a2d9-4d6c-a42a-477e50bdfdf8",
   "metadata": {},
   "outputs": [
    {
     "data": {
      "text/plain": [
       "True"
      ]
     },
     "execution_count": 7,
     "metadata": {},
     "output_type": "execute_result"
    }
   ],
   "source": [
    "True"
   ]
  },
  {
   "cell_type": "code",
   "execution_count": 11,
   "id": "6692d900-ce25-4628-a70c-bbbab0b20985",
   "metadata": {},
   "outputs": [
    {
     "ename": "NameError",
     "evalue": "name 'false' is not defined",
     "output_type": "error",
     "traceback": [
      "\u001b[1;31m---------------------------------------------------------------------------\u001b[0m",
      "\u001b[1;31mNameError\u001b[0m                                 Traceback (most recent call last)",
      "Cell \u001b[1;32mIn[11], line 1\u001b[0m\n\u001b[1;32m----> 1\u001b[0m false\n",
      "\u001b[1;31mNameError\u001b[0m: name 'false' is not defined"
     ]
    }
   ],
   "source": [
    "false"
   ]
  },
  {
   "cell_type": "code",
   "execution_count": 13,
   "id": "efd9fe58-ae9a-4bc5-92ee-376d961e30d8",
   "metadata": {},
   "outputs": [
    {
     "data": {
      "text/plain": [
       "False"
      ]
     },
     "execution_count": 13,
     "metadata": {},
     "output_type": "execute_result"
    }
   ],
   "source": [
    "False"
   ]
  },
  {
   "cell_type": "code",
   "execution_count": 19,
   "id": "6efb6471-7652-48b4-a3f8-7f1b210a68f7",
   "metadata": {},
   "outputs": [
    {
     "data": {
      "text/plain": [
       "True"
      ]
     },
     "execution_count": 19,
     "metadata": {},
     "output_type": "execute_result"
    }
   ],
   "source": [
    "b1= True # stores as 1\n",
    "b2= False #stores as 0\n",
    "b1"
   ]
  },
  {
   "cell_type": "code",
   "execution_count": 21,
   "id": "5534cbc1-e373-4195-8239-ccaffe989c21",
   "metadata": {},
   "outputs": [
    {
     "data": {
      "text/plain": [
       "False"
      ]
     },
     "execution_count": 21,
     "metadata": {},
     "output_type": "execute_result"
    }
   ],
   "source": [
    "b2"
   ]
  },
  {
   "cell_type": "code",
   "execution_count": 23,
   "id": "905bec64-87dd-4812-9a6a-bc3551637362",
   "metadata": {},
   "outputs": [
    {
     "data": {
      "text/plain": [
       "1"
      ]
     },
     "execution_count": 23,
     "metadata": {},
     "output_type": "execute_result"
    }
   ],
   "source": [
    "b1+b2 #"
   ]
  },
  {
   "cell_type": "code",
   "execution_count": 29,
   "id": "3091e60f-1c37-4a3b-ae35-937af841b409",
   "metadata": {},
   "outputs": [
    {
     "name": "stdout",
     "output_type": "stream",
     "text": [
      "1\n",
      "0\n"
     ]
    }
   ],
   "source": [
    "print(b1-b2)\n",
    "print(b1*b2)\n"
   ]
  },
  {
   "cell_type": "code",
   "execution_count": 31,
   "id": "66e5919a-ae63-492c-9ae2-283c5b2cd3d8",
   "metadata": {},
   "outputs": [
    {
     "name": "stdout",
     "output_type": "stream",
     "text": [
      "0.0\n"
     ]
    }
   ],
   "source": [
    "print(b2/b1)"
   ]
  },
  {
   "cell_type": "code",
   "execution_count": 35,
   "id": "3d2aed93-4c81-4e0e-b179-b91808bc090a",
   "metadata": {},
   "outputs": [
    {
     "name": "stdout",
     "output_type": "stream",
     "text": [
      "0\n"
     ]
    }
   ],
   "source": [
    "print(b2//b1)"
   ]
  },
  {
   "cell_type": "markdown",
   "id": "b82eb933-d463-4973-9c4d-64fac81508d4",
   "metadata": {},
   "source": [
    "#Complex datatypes"
   ]
  },
  {
   "cell_type": "code",
   "execution_count": 44,
   "id": "8b62e26d-6a49-485a-be68-bae8fa205ae7",
   "metadata": {},
   "outputs": [],
   "source": [
    "# a+bj-- format of complex datatypes--- used  in aeronautical usecases ex NASA (mathematical calculations and applications)\n",
    "# a is real part \n",
    "# b is imaginary part \n",
    "# j is squareroot of -1"
   ]
  },
  {
   "cell_type": "code",
   "execution_count": 46,
   "id": "359ea5e8-f65a-4a17-b7fd-1b07f1cd0830",
   "metadata": {},
   "outputs": [
    {
     "data": {
      "text/plain": [
       "(10+20j)"
      ]
     },
     "execution_count": 46,
     "metadata": {},
     "output_type": "execute_result"
    }
   ],
   "source": [
    "c=10+20j\n",
    "c"
   ]
  },
  {
   "cell_type": "code",
   "execution_count": 48,
   "id": "ed19af94-4d6c-42d7-a5a9-f18a2a3e714f",
   "metadata": {},
   "outputs": [
    {
     "data": {
      "text/plain": [
       "complex"
      ]
     },
     "execution_count": 48,
     "metadata": {},
     "output_type": "execute_result"
    }
   ],
   "source": [
    "type(c)"
   ]
  },
  {
   "cell_type": "code",
   "execution_count": 50,
   "id": "15d7d5fd-41cd-4273-89d9-e6c439b78087",
   "metadata": {},
   "outputs": [
    {
     "data": {
      "text/plain": [
       "10.0"
      ]
     },
     "execution_count": 50,
     "metadata": {},
     "output_type": "execute_result"
    }
   ],
   "source": [
    "c.real #to call any in built function use dot and Tab ## calling real part "
   ]
  },
  {
   "cell_type": "code",
   "execution_count": 54,
   "id": "bc47f4fe-f42f-4d12-8481-c92bccf5de44",
   "metadata": {},
   "outputs": [
    {
     "data": {
      "text/plain": [
       "20.0"
      ]
     },
     "execution_count": 54,
     "metadata": {},
     "output_type": "execute_result"
    }
   ],
   "source": [
    "c.imag # calling imaginar part"
   ]
  },
  {
   "cell_type": "code",
   "execution_count": 56,
   "id": "aa7cf5c4-9fe0-4e5f-92f3-2970bd480246",
   "metadata": {},
   "outputs": [
    {
     "data": {
      "text/plain": [
       "<function complex.conjugate()>"
      ]
     },
     "execution_count": 56,
     "metadata": {},
     "output_type": "execute_result"
    }
   ],
   "source": [
    "c.conjugate"
   ]
  },
  {
   "cell_type": "code",
   "execution_count": 60,
   "id": "cdf28e03-d013-4dd7-b417-d715fc261981",
   "metadata": {},
   "outputs": [
    {
     "data": {
      "text/plain": [
       "(3+5j)"
      ]
     },
     "execution_count": 60,
     "metadata": {},
     "output_type": "execute_result"
    }
   ],
   "source": [
    "c1=3+5J # only J is allowed and it is not case sensitive \n",
    "c1"
   ]
  },
  {
   "cell_type": "code",
   "execution_count": 64,
   "id": "4027bcb8-dd5d-406e-9e10-60f7731eba33",
   "metadata": {},
   "outputs": [
    {
     "name": "stdout",
     "output_type": "stream",
     "text": [
      "(10+20j)\n",
      "(3+5j)\n"
     ]
    }
   ],
   "source": [
    "print(c)\n",
    "print(c1)"
   ]
  },
  {
   "cell_type": "code",
   "execution_count": 68,
   "id": "998ff457-c5df-458e-b8bd-282c7a8c611e",
   "metadata": {},
   "outputs": [
    {
     "name": "stdout",
     "output_type": "stream",
     "text": [
      "(13+25j)\n",
      "(7+15j)\n",
      "(-70+110j)\n",
      "(3.823529411764706+0.29411764705882354j)\n"
     ]
    }
   ],
   "source": [
    "print(c+c1) #arthemetic operations \n",
    "print(c-c1)\n",
    "print(c*c1)\n",
    "print(c/c1)"
   ]
  },
  {
   "cell_type": "markdown",
   "id": "6c3753a6-5959-4830-8162-cde591d33750",
   "metadata": {},
   "source": [
    "Python Basics (Typecasting & Type Conversion)"
   ]
  },
  {
   "cell_type": "code",
   "execution_count": 71,
   "id": "1336aeab-086e-49ce-aac3-59f98936a628",
   "metadata": {},
   "outputs": [],
   "source": [
    "# In python function ends with() and in the brackets we pass arguments/parameter."
   ]
  },
  {
   "cell_type": "code",
   "execution_count": 73,
   "id": "3947da3f-6ff9-4915-8c23-0a0edbf065f4",
   "metadata": {},
   "outputs": [
    {
     "data": {
      "text/plain": [
       "3"
      ]
     },
     "execution_count": 73,
     "metadata": {},
     "output_type": "execute_result"
    }
   ],
   "source": [
    "int(3.4) # to convert the datatypes to other datatypes is known as typecasting"
   ]
  },
  {
   "cell_type": "code",
   "execution_count": 75,
   "id": "9e21bc98-b1b5-4060-ba8f-4c2660e9c0b5",
   "metadata": {},
   "outputs": [
    {
     "ename": "TypeError",
     "evalue": "'float' object cannot be interpreted as an integer",
     "output_type": "error",
     "traceback": [
      "\u001b[1;31m---------------------------------------------------------------------------\u001b[0m",
      "\u001b[1;31mTypeError\u001b[0m                                 Traceback (most recent call last)",
      "Cell \u001b[1;32mIn[75], line 1\u001b[0m\n\u001b[1;32m----> 1\u001b[0m \u001b[38;5;28mint\u001b[39m(\u001b[38;5;241m3.4\u001b[39m,\u001b[38;5;241m5.7\u001b[39m)\n",
      "\u001b[1;31mTypeError\u001b[0m: 'float' object cannot be interpreted as an integer"
     ]
    }
   ],
   "source": [
    "int(3.4,5.7) # but accepts 1 argument only"
   ]
  },
  {
   "cell_type": "code",
   "execution_count": 77,
   "id": "85369f9b-d8df-4681-8dee-dfe85bd42227",
   "metadata": {},
   "outputs": [
    {
     "data": {
      "text/plain": [
       "1"
      ]
     },
     "execution_count": 77,
     "metadata": {},
     "output_type": "execute_result"
    }
   ],
   "source": [
    "int(True) #bool to integer "
   ]
  },
  {
   "cell_type": "code",
   "execution_count": 79,
   "id": "7d6d072c-92b7-4b20-bbfa-b74d2e187ed8",
   "metadata": {},
   "outputs": [
    {
     "ename": "TypeError",
     "evalue": "int() can't convert non-string with explicit base",
     "output_type": "error",
     "traceback": [
      "\u001b[1;31m---------------------------------------------------------------------------\u001b[0m",
      "\u001b[1;31mTypeError\u001b[0m                                 Traceback (most recent call last)",
      "Cell \u001b[1;32mIn[79], line 1\u001b[0m\n\u001b[1;32m----> 1\u001b[0m \u001b[38;5;28mint\u001b[39m(\u001b[38;5;28;01mTrue\u001b[39;00m, \u001b[38;5;28;01mFalse\u001b[39;00m)\n",
      "\u001b[1;31mTypeError\u001b[0m: int() can't convert non-string with explicit base"
     ]
    }
   ],
   "source": [
    "int(True, False)"
   ]
  },
  {
   "cell_type": "code",
   "execution_count": 81,
   "id": "bca4b69b-67b2-4152-b064-78a26e3664ba",
   "metadata": {},
   "outputs": [
    {
     "data": {
      "text/plain": [
       "0"
      ]
     },
     "execution_count": 81,
     "metadata": {},
     "output_type": "execute_result"
    }
   ],
   "source": [
    "int(False)"
   ]
  },
  {
   "cell_type": "code",
   "execution_count": 83,
   "id": "17959ea1-92f0-4c41-a427-a236c279944d",
   "metadata": {},
   "outputs": [
    {
     "name": "stdout",
     "output_type": "stream",
     "text": [
      "3\n",
      "1\n",
      "10\n"
     ]
    }
   ],
   "source": [
    "print(int(3.4))\n",
    "print(int(True))\n",
    "print(int('10'))"
   ]
  },
  {
   "cell_type": "code",
   "execution_count": 87,
   "id": "b854d08b-ef3f-488c-8823-930a934a4c91",
   "metadata": {},
   "outputs": [
    {
     "ename": "TypeError",
     "evalue": "int() argument must be a string, a bytes-like object or a real number, not 'complex'",
     "output_type": "error",
     "traceback": [
      "\u001b[1;31m---------------------------------------------------------------------------\u001b[0m",
      "\u001b[1;31mTypeError\u001b[0m                                 Traceback (most recent call last)",
      "Cell \u001b[1;32mIn[87], line 1\u001b[0m\n\u001b[1;32m----> 1\u001b[0m \u001b[38;5;28mprint\u001b[39m(\u001b[38;5;28mint\u001b[39m(\u001b[38;5;241m3\u001b[39m\u001b[38;5;241m+\u001b[39m\u001b[38;5;241m4\u001b[39mj))\n",
      "\u001b[1;31mTypeError\u001b[0m: int() argument must be a string, a bytes-like object or a real number, not 'complex'"
     ]
    }
   ],
   "source": [
    "print(int(3+4j)) #int typecasting is possible for every datatype except complex datatype "
   ]
  },
  {
   "cell_type": "code",
   "execution_count": 89,
   "id": "9ecfa089-f26a-400f-ab83-f7ce4d409e5e",
   "metadata": {},
   "outputs": [
    {
     "ename": "ValueError",
     "evalue": "invalid literal for int() with base 10: 'ten'",
     "output_type": "error",
     "traceback": [
      "\u001b[1;31m---------------------------------------------------------------------------\u001b[0m",
      "\u001b[1;31mValueError\u001b[0m                                Traceback (most recent call last)",
      "Cell \u001b[1;32mIn[89], line 1\u001b[0m\n\u001b[1;32m----> 1\u001b[0m \u001b[38;5;28mint\u001b[39m(\u001b[38;5;124m'\u001b[39m\u001b[38;5;124mten\u001b[39m\u001b[38;5;124m'\u001b[39m)\n",
      "\u001b[1;31mValueError\u001b[0m: invalid literal for int() with base 10: 'ten'"
     ]
    }
   ],
   "source": [
    "int('ten') #only number string are allowed "
   ]
  },
  {
   "cell_type": "code",
   "execution_count": null,
   "id": "1b8027d2-53b3-4e71-a16f-1ea5de9ef2a9",
   "metadata": {},
   "outputs": [],
   "source": []
  }
 ],
 "metadata": {
  "kernelspec": {
   "display_name": "Python 3 (ipykernel)",
   "language": "python",
   "name": "python3"
  },
  "language_info": {
   "codemirror_mode": {
    "name": "ipython",
    "version": 3
   },
   "file_extension": ".py",
   "mimetype": "text/x-python",
   "name": "python",
   "nbconvert_exporter": "python",
   "pygments_lexer": "ipython3",
   "version": "3.12.4"
  }
 },
 "nbformat": 4,
 "nbformat_minor": 5
}
