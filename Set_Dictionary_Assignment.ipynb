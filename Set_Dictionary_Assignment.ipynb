{
 "cells": [
  {
   "cell_type": "markdown",
   "id": "c111ae90-a216-4d6f-b136-68c1dd81521e",
   "metadata": {},
   "source": [
    "Set Creation"
   ]
  },
  {
   "cell_type": "code",
   "execution_count": 1,
   "id": "39a13de4-34d0-4482-966a-ba662b718a2c",
   "metadata": {},
   "outputs": [
    {
     "data": {
      "text/plain": [
       "{1, 2, 3, 4, 5}"
      ]
     },
     "execution_count": 1,
     "metadata": {},
     "output_type": "execute_result"
    }
   ],
   "source": [
    "s={1,2,3,4,5} #set of numbers\n",
    "s"
   ]
  },
  {
   "cell_type": "code",
   "execution_count": 3,
   "id": "725f8358-c2e4-4323-b7eb-63c32802fd26",
   "metadata": {},
   "outputs": [
    {
     "data": {
      "text/plain": [
       "5"
      ]
     },
     "execution_count": 3,
     "metadata": {},
     "output_type": "execute_result"
    }
   ],
   "source": [
    "len(s)"
   ]
  },
  {
   "cell_type": "code",
   "execution_count": 5,
   "id": "a03d0b50-91ce-4a55-b021-598f742bc571",
   "metadata": {},
   "outputs": [
    {
     "data": {
      "text/plain": [
       "{1, 2, 3, 4, 5}"
      ]
     },
     "execution_count": 5,
     "metadata": {},
     "output_type": "execute_result"
    }
   ],
   "source": [
    "s1={1,1,2,2,3,3,4,5} #No duplicates allowed \n",
    "s1"
   ]
  },
  {
   "cell_type": "code",
   "execution_count": 8,
   "id": "a131e453-764a-434d-81b3-6991c286d08f",
   "metadata": {},
   "outputs": [
    {
     "data": {
      "text/plain": [
       "{1.33, 3.44, 12.34, 45.45}"
      ]
     },
     "execution_count": 8,
     "metadata": {},
     "output_type": "execute_result"
    }
   ],
   "source": [
    "s3={1.33,3.44,12.34,45.45}#floats\n",
    "s3"
   ]
  },
  {
   "cell_type": "code",
   "execution_count": 10,
   "id": "417f6bbe-0871-453e-93ec-276b4cced2f6",
   "metadata": {},
   "outputs": [
    {
     "data": {
      "text/plain": [
       "{'benches', 'chairs', 'fans', 'table'}"
      ]
     },
     "execution_count": 10,
     "metadata": {},
     "output_type": "execute_result"
    }
   ],
   "source": [
    "s4={'fans','table','chairs','benches'} #strings\n",
    "s4"
   ]
  },
  {
   "cell_type": "code",
   "execution_count": 12,
   "id": "21123a34-d051-47e8-a2fa-988cbd654b62",
   "metadata": {},
   "outputs": [
    {
     "data": {
      "text/plain": [
       "{(11, 21, 33), 10, 20, 'hello'}"
      ]
     },
     "execution_count": 12,
     "metadata": {},
     "output_type": "execute_result"
    }
   ],
   "source": [
    "s5={10,20,'hello',(11,21,33)}#mixed datatypes\n",
    "s5"
   ]
  },
  {
   "cell_type": "code",
   "execution_count": 14,
   "id": "2e907754-83cc-4e73-8ed3-a9556f5b7321",
   "metadata": {},
   "outputs": [
    {
     "ename": "TypeError",
     "evalue": "unhashable type: 'list'",
     "output_type": "error",
     "traceback": [
      "\u001b[1;31m---------------------------------------------------------------------------\u001b[0m",
      "\u001b[1;31mTypeError\u001b[0m                                 Traceback (most recent call last)",
      "Cell \u001b[1;32mIn[14], line 1\u001b[0m\n\u001b[1;32m----> 1\u001b[0m s6\u001b[38;5;241m=\u001b[39m{\u001b[38;5;241m10\u001b[39m,\u001b[38;5;241m20\u001b[39m,\u001b[38;5;124m'\u001b[39m\u001b[38;5;124mhello\u001b[39m\u001b[38;5;124m'\u001b[39m,[\u001b[38;5;241m11\u001b[39m,\u001b[38;5;241m21\u001b[39m,\u001b[38;5;241m33\u001b[39m]}\n\u001b[0;32m      2\u001b[0m s6\n",
      "\u001b[1;31mTypeError\u001b[0m: unhashable type: 'list'"
     ]
    }
   ],
   "source": [
    "s6={10,20,'hello',[11,21,33]} #mutable datatypes are not allowed \n",
    "s6"
   ]
  },
  {
   "cell_type": "code",
   "execution_count": 18,
   "id": "7f018bcc-70da-4105-8a5b-d2e4d68ca806",
   "metadata": {},
   "outputs": [
    {
     "name": "stdout",
     "output_type": "stream",
     "text": [
      "<class 'set'>\n"
     ]
    }
   ],
   "source": [
    "s7=set() \n",
    "print(type(s7))"
   ]
  },
  {
   "cell_type": "code",
   "execution_count": 20,
   "id": "71fc1967-a72d-43a2-8b91-26d6089c19f0",
   "metadata": {},
   "outputs": [
    {
     "data": {
      "text/plain": [
       "{'four', 'one', 'three', 'two'}"
      ]
     },
     "execution_count": 20,
     "metadata": {},
     "output_type": "execute_result"
    }
   ],
   "source": [
    "s8=set(('one','two','three','four'))\n",
    "s8"
   ]
  },
  {
   "cell_type": "markdown",
   "id": "8bfa7426-c5fc-4f28-863f-50a37239ede8",
   "metadata": {},
   "source": [
    "Loop through a Set"
   ]
  },
  {
   "cell_type": "code",
   "execution_count": 23,
   "id": "04ed25d6-ccca-4d8a-a625-50c2783db40f",
   "metadata": {},
   "outputs": [
    {
     "name": "stdout",
     "output_type": "stream",
     "text": [
      "six\n",
      "eight\n",
      "four\n",
      "five\n",
      "three\n",
      "seven\n",
      "one\n",
      "two\n"
     ]
    }
   ],
   "source": [
    "s_1 = {'one', 'two', 'three', 'four', 'five', 'six', 'seven', 'eight'}\n",
    "\n",
    "for i in s_1:\n",
    "    print(i)"
   ]
  },
  {
   "cell_type": "code",
   "execution_count": 27,
   "id": "ea350944-ed66-4033-ad8c-031db890b809",
   "metadata": {},
   "outputs": [
    {
     "name": "stdout",
     "output_type": "stream",
     "text": [
      "(0, 'six')\n",
      "(1, 'eight')\n",
      "(2, 'four')\n",
      "(3, 'five')\n",
      "(4, 'three')\n",
      "(5, 'seven')\n",
      "(6, 'one')\n",
      "(7, 'two')\n"
     ]
    }
   ],
   "source": [
    "for i in enumerate(s_1):\n",
    "    print(i)"
   ]
  },
  {
   "cell_type": "markdown",
   "id": "74c8b052-2370-4d7f-b2dc-a555cb479428",
   "metadata": {},
   "source": [
    "Set Membership"
   ]
  },
  {
   "cell_type": "code",
   "execution_count": 29,
   "id": "c4665063-5858-4725-be43-c9f7813285b2",
   "metadata": {},
   "outputs": [
    {
     "data": {
      "text/plain": [
       "{'eight', 'five', 'four', 'one', 'seven', 'six', 'three', 'two'}"
      ]
     },
     "execution_count": 29,
     "metadata": {},
     "output_type": "execute_result"
    }
   ],
   "source": [
    "s_1"
   ]
  },
  {
   "cell_type": "code",
   "execution_count": 31,
   "id": "74efd4e4-04be-423c-9758-6a93e4edf1e5",
   "metadata": {},
   "outputs": [
    {
     "data": {
      "text/plain": [
       "True"
      ]
     },
     "execution_count": 31,
     "metadata": {},
     "output_type": "execute_result"
    }
   ],
   "source": [
    "'one' in s_1"
   ]
  },
  {
   "cell_type": "code",
   "execution_count": 33,
   "id": "9115be8a-9ee8-49e8-8569-bd61b6a40479",
   "metadata": {},
   "outputs": [
    {
     "data": {
      "text/plain": [
       "False"
      ]
     },
     "execution_count": 33,
     "metadata": {},
     "output_type": "execute_result"
    }
   ],
   "source": [
    "'eleven' in s_1"
   ]
  },
  {
   "cell_type": "code",
   "execution_count": 36,
   "id": "c92878f4-071a-46f7-912f-958c4cd4d327",
   "metadata": {},
   "outputs": [
    {
     "name": "stdout",
     "output_type": "stream",
     "text": [
      "four present\n"
     ]
    }
   ],
   "source": [
    "if'four' in s_1:\n",
    "    print('four present')\n",
    "else:\n",
    "    print('four Absent')"
   ]
  },
  {
   "cell_type": "code",
   "execution_count": 38,
   "id": "f854a444-ee32-4aad-b501-d9b3a681a53a",
   "metadata": {},
   "outputs": [
    {
     "name": "stdout",
     "output_type": "stream",
     "text": [
      "twelve Absent\n"
     ]
    }
   ],
   "source": [
    "if'twelve' in s_1:\n",
    "    print('twelve present')\n",
    "else:\n",
    "    print('twelve Absent')"
   ]
  },
  {
   "cell_type": "markdown",
   "id": "84d836b3-cfc2-4795-99c2-21fe1ad9410a",
   "metadata": {},
   "source": [
    "Add & Remove Items"
   ]
  },
  {
   "cell_type": "code",
   "execution_count": 41,
   "id": "1aff3846-0fa3-4777-9b3a-eee8b4e12ad6",
   "metadata": {},
   "outputs": [
    {
     "data": {
      "text/plain": [
       "{'eight', 'five', 'four', 'one', 'seven', 'six', 'three', 'two'}"
      ]
     },
     "execution_count": 41,
     "metadata": {},
     "output_type": "execute_result"
    }
   ],
   "source": [
    "s_1"
   ]
  },
  {
   "cell_type": "code",
   "execution_count": 45,
   "id": "ed66cb0a-2223-40a5-86a1-db0eec679305",
   "metadata": {},
   "outputs": [
    {
     "data": {
      "text/plain": [
       "{'Nine',\n",
       " 'eight',\n",
       " 'five',\n",
       " 'four',\n",
       " 'nine',\n",
       " 'one',\n",
       " 'seven',\n",
       " 'six',\n",
       " 'three',\n",
       " 'two'}"
      ]
     },
     "execution_count": 45,
     "metadata": {},
     "output_type": "execute_result"
    }
   ],
   "source": [
    "s_1.add('Nine')\n",
    "s_1"
   ]
  },
  {
   "cell_type": "code",
   "execution_count": 47,
   "id": "75bb4431-2d52-497b-a1ad-c8836424a012",
   "metadata": {},
   "outputs": [],
   "source": [
    "s_1.update(['Ten','Eleven','Twelve'])"
   ]
  },
  {
   "cell_type": "code",
   "execution_count": 49,
   "id": "63680182-b13f-4a4d-86f9-e54b99c70bca",
   "metadata": {},
   "outputs": [
    {
     "data": {
      "text/plain": [
       "{'Eleven',\n",
       " 'Nine',\n",
       " 'Ten',\n",
       " 'Twelve',\n",
       " 'eight',\n",
       " 'five',\n",
       " 'four',\n",
       " 'nine',\n",
       " 'one',\n",
       " 'seven',\n",
       " 'six',\n",
       " 'three',\n",
       " 'two'}"
      ]
     },
     "execution_count": 49,
     "metadata": {},
     "output_type": "execute_result"
    }
   ],
   "source": [
    "s_1"
   ]
  },
  {
   "cell_type": "code",
   "execution_count": 51,
   "id": "af68e7a2-73ad-4906-a265-e06ba38bdf3e",
   "metadata": {},
   "outputs": [],
   "source": [
    "s_1.remove('Nine')"
   ]
  },
  {
   "cell_type": "code",
   "execution_count": 53,
   "id": "59f6f12b-2ddd-4f09-b4a4-7fe08c060f2a",
   "metadata": {},
   "outputs": [
    {
     "data": {
      "text/plain": [
       "{'Eleven',\n",
       " 'Ten',\n",
       " 'Twelve',\n",
       " 'eight',\n",
       " 'five',\n",
       " 'four',\n",
       " 'nine',\n",
       " 'one',\n",
       " 'seven',\n",
       " 'six',\n",
       " 'three',\n",
       " 'two'}"
      ]
     },
     "execution_count": 53,
     "metadata": {},
     "output_type": "execute_result"
    }
   ],
   "source": [
    "s_1"
   ]
  },
  {
   "cell_type": "code",
   "execution_count": 55,
   "id": "c7e5fe60-0d0e-4857-b531-6174c3d30fcc",
   "metadata": {},
   "outputs": [
    {
     "data": {
      "text/plain": [
       "{'Eleven',\n",
       " 'Twelve',\n",
       " 'eight',\n",
       " 'five',\n",
       " 'four',\n",
       " 'nine',\n",
       " 'one',\n",
       " 'seven',\n",
       " 'six',\n",
       " 'three',\n",
       " 'two'}"
      ]
     },
     "execution_count": 55,
     "metadata": {},
     "output_type": "execute_result"
    }
   ],
   "source": [
    "s_1.discard('Ten')\n",
    "s_1"
   ]
  },
  {
   "cell_type": "code",
   "execution_count": 59,
   "id": "60a74036-88b4-4b23-aaae-5207c49ab2d5",
   "metadata": {},
   "outputs": [
    {
     "data": {
      "text/plain": [
       "set()"
      ]
     },
     "execution_count": 59,
     "metadata": {},
     "output_type": "execute_result"
    }
   ],
   "source": [
    "s_1.clear()\n",
    "s_1"
   ]
  },
  {
   "cell_type": "code",
   "execution_count": 61,
   "id": "053f6a70-abda-44ec-880c-1e7df2f08478",
   "metadata": {},
   "outputs": [
    {
     "ename": "NameError",
     "evalue": "name 's_1' is not defined",
     "output_type": "error",
     "traceback": [
      "\u001b[1;31m---------------------------------------------------------------------------\u001b[0m",
      "\u001b[1;31mNameError\u001b[0m                                 Traceback (most recent call last)",
      "Cell \u001b[1;32mIn[61], line 2\u001b[0m\n\u001b[0;32m      1\u001b[0m \u001b[38;5;28;01mdel\u001b[39;00m s_1\n\u001b[1;32m----> 2\u001b[0m s_1\n",
      "\u001b[1;31mNameError\u001b[0m: name 's_1' is not defined"
     ]
    }
   ],
   "source": [
    "del s_1\n",
    "s_1"
   ]
  },
  {
   "cell_type": "markdown",
   "id": "e5eaf3d0-4ee3-4676-a701-49dfc71951a5",
   "metadata": {},
   "source": [
    "Copy Set"
   ]
  },
  {
   "cell_type": "code",
   "execution_count": 64,
   "id": "c55661d0-ca24-4d1c-a86f-4eee4c47e730",
   "metadata": {},
   "outputs": [
    {
     "data": {
      "text/plain": [
       "{'eight', 'five', 'four', 'one', 'seven', 'six', 'three', 'two'}"
      ]
     },
     "execution_count": 64,
     "metadata": {},
     "output_type": "execute_result"
    }
   ],
   "source": [
    "s_1={'one', 'two', 'three', 'four', 'five', 'six', 'seven', 'eight'}\n",
    "s_1"
   ]
  },
  {
   "cell_type": "code",
   "execution_count": 66,
   "id": "fa907d91-0ea7-4a9d-89c6-5b7969554a2d",
   "metadata": {},
   "outputs": [
    {
     "data": {
      "text/plain": [
       "{'eight', 'five', 'four', 'one', 'seven', 'six', 'three', 'two'}"
      ]
     },
     "execution_count": 66,
     "metadata": {},
     "output_type": "execute_result"
    }
   ],
   "source": [
    "s_2=s_1\n",
    "s_2"
   ]
  },
  {
   "cell_type": "code",
   "execution_count": 68,
   "id": "878575b5-f461-4684-be81-6e16b22eec77",
   "metadata": {},
   "outputs": [
    {
     "data": {
      "text/plain": [
       "(2816956315712, 2816956315712)"
      ]
     },
     "execution_count": 68,
     "metadata": {},
     "output_type": "execute_result"
    }
   ],
   "source": [
    "id(s_1),id(s_2)"
   ]
  },
  {
   "cell_type": "code",
   "execution_count": 70,
   "id": "f7a00a4b-2d0d-45d6-be4f-6b7abc694876",
   "metadata": {},
   "outputs": [
    {
     "data": {
      "text/plain": [
       "{'eight', 'five', 'four', 'one', 'seven', 'six', 'three', 'two'}"
      ]
     },
     "execution_count": 70,
     "metadata": {},
     "output_type": "execute_result"
    }
   ],
   "source": [
    "s_3=s_1.copy()\n",
    "s_3"
   ]
  },
  {
   "cell_type": "code",
   "execution_count": 72,
   "id": "1896191b-5eb7-4a8d-ad7d-da5443904a17",
   "metadata": {},
   "outputs": [
    {
     "data": {
      "text/plain": [
       "2816956316384"
      ]
     },
     "execution_count": 72,
     "metadata": {},
     "output_type": "execute_result"
    }
   ],
   "source": [
    "id(s_3)"
   ]
  },
  {
   "cell_type": "code",
   "execution_count": 74,
   "id": "1422a8d4-d84d-4a73-beef-d7ba8264b57e",
   "metadata": {},
   "outputs": [
    {
     "data": {
      "text/plain": [
       "{'eight', 'five', 'four', 'nine', 'one', 'seven', 'six', 'three', 'two'}"
      ]
     },
     "execution_count": 74,
     "metadata": {},
     "output_type": "execute_result"
    }
   ],
   "source": [
    "s_1.add('nine')\n",
    "s_1"
   ]
  },
  {
   "cell_type": "code",
   "execution_count": 76,
   "id": "489fca3a-f85e-447e-8a7b-e7e4760077b4",
   "metadata": {},
   "outputs": [
    {
     "data": {
      "text/plain": [
       "{'eight', 'five', 'four', 'one', 'seven', 'six', 'three', 'two'}"
      ]
     },
     "execution_count": 76,
     "metadata": {},
     "output_type": "execute_result"
    }
   ],
   "source": [
    "s_3"
   ]
  },
  {
   "cell_type": "markdown",
   "id": "03cdea58-6a3c-4f83-b1e9-19faa80b188a",
   "metadata": {},
   "source": [
    "Set Operations \n",
    "Unions"
   ]
  },
  {
   "cell_type": "code",
   "execution_count": 79,
   "id": "f1141e94-aece-4f7a-af46-6ff69b648e33",
   "metadata": {},
   "outputs": [],
   "source": [
    "A = {1,2,3,4,5}\n",
    "B = {4,5,6,7,8}\n",
    "C = {8,9,10}"
   ]
  },
  {
   "cell_type": "code",
   "execution_count": 83,
   "id": "dc01eb84-2552-44a0-b669-6be490746c59",
   "metadata": {},
   "outputs": [
    {
     "data": {
      "text/plain": [
       "{1, 2, 3, 4, 5, 6, 7, 8}"
      ]
     },
     "execution_count": 83,
     "metadata": {},
     "output_type": "execute_result"
    }
   ],
   "source": [
    "A|B"
   ]
  },
  {
   "cell_type": "code",
   "execution_count": 85,
   "id": "2bd2bc95-0ac5-4a0b-ae5f-1281a43f6e98",
   "metadata": {},
   "outputs": [
    {
     "data": {
      "text/plain": [
       "{1, 2, 3, 4, 5, 6, 7, 8}"
      ]
     },
     "execution_count": 85,
     "metadata": {},
     "output_type": "execute_result"
    }
   ],
   "source": [
    "A.union(B)"
   ]
  },
  {
   "cell_type": "code",
   "execution_count": 87,
   "id": "af1467fd-a36c-4bca-815d-03c0f0d1b17c",
   "metadata": {},
   "outputs": [
    {
     "data": {
      "text/plain": [
       "{1, 2, 3, 4, 5, 8, 9, 10}"
      ]
     },
     "execution_count": 87,
     "metadata": {},
     "output_type": "execute_result"
    }
   ],
   "source": [
    "A.union(C)"
   ]
  },
  {
   "cell_type": "code",
   "execution_count": 89,
   "id": "e318a87d-be7a-4c90-b71a-f3c186a68104",
   "metadata": {},
   "outputs": [],
   "source": [
    "A.update(B,C)"
   ]
  },
  {
   "cell_type": "code",
   "execution_count": 91,
   "id": "49924fa9-3e21-4591-b669-7d5f987d3658",
   "metadata": {},
   "outputs": [
    {
     "data": {
      "text/plain": [
       "{1, 2, 3, 4, 5, 6, 7, 8, 9, 10}"
      ]
     },
     "execution_count": 91,
     "metadata": {},
     "output_type": "execute_result"
    }
   ],
   "source": [
    "A"
   ]
  },
  {
   "cell_type": "code",
   "execution_count": 101,
   "id": "6dc2f52a-602a-425c-a694-7c26548f5403",
   "metadata": {},
   "outputs": [],
   "source": [
    "A = {1,2,3,4,5}\n",
    "B = {4,5,6,7,8}"
   ]
  },
  {
   "cell_type": "code",
   "execution_count": 95,
   "id": "0f523c4b-a561-437c-84df-489ca2bfa2e9",
   "metadata": {},
   "outputs": [
    {
     "data": {
      "text/plain": [
       "{4, 5}"
      ]
     },
     "execution_count": 95,
     "metadata": {},
     "output_type": "execute_result"
    }
   ],
   "source": [
    "A&B"
   ]
  },
  {
   "cell_type": "code",
   "execution_count": 97,
   "id": "a43ed9e5-f7b3-4edc-a6d4-3b84f3e9a37b",
   "metadata": {},
   "outputs": [
    {
     "data": {
      "text/plain": [
       "{4, 5}"
      ]
     },
     "execution_count": 97,
     "metadata": {},
     "output_type": "execute_result"
    }
   ],
   "source": [
    "A.intersection(B)"
   ]
  },
  {
   "cell_type": "code",
   "execution_count": 105,
   "id": "e28993c1-5662-418c-9163-3deb04912d62",
   "metadata": {},
   "outputs": [],
   "source": [
    "A.intersection_update(B)"
   ]
  },
  {
   "cell_type": "code",
   "execution_count": 107,
   "id": "793f3a8f-aa5e-4258-82b7-0fb1573153b9",
   "metadata": {},
   "outputs": [
    {
     "data": {
      "text/plain": [
       "{4, 5}"
      ]
     },
     "execution_count": 107,
     "metadata": {},
     "output_type": "execute_result"
    }
   ],
   "source": [
    "A"
   ]
  },
  {
   "cell_type": "markdown",
   "id": "2dbb8ce8-7c0f-4ea7-a533-f0a36d46c733",
   "metadata": {},
   "source": [
    "Difference"
   ]
  },
  {
   "cell_type": "code",
   "execution_count": 110,
   "id": "a630d54f-1806-4dfa-8b37-965cb0b731ca",
   "metadata": {},
   "outputs": [],
   "source": [
    "A = {1,2,3,4,5}\n",
    "B = {4,5,6,7,8}\n"
   ]
  },
  {
   "cell_type": "code",
   "execution_count": 112,
   "id": "6632b482-862c-4e77-ab93-0a83e9d43c71",
   "metadata": {},
   "outputs": [
    {
     "data": {
      "text/plain": [
       "{1, 2, 3}"
      ]
     },
     "execution_count": 112,
     "metadata": {},
     "output_type": "execute_result"
    }
   ],
   "source": [
    "A-B"
   ]
  },
  {
   "cell_type": "code",
   "execution_count": 114,
   "id": "168c16db-c58a-41f3-95c4-2ea4eb369284",
   "metadata": {},
   "outputs": [
    {
     "data": {
      "text/plain": [
       "{1, 2, 3}"
      ]
     },
     "execution_count": 114,
     "metadata": {},
     "output_type": "execute_result"
    }
   ],
   "source": [
    "A.difference(B)"
   ]
  },
  {
   "cell_type": "code",
   "execution_count": 116,
   "id": "12ad8a78-eef4-4c41-a488-6d3900e2ff4d",
   "metadata": {},
   "outputs": [
    {
     "data": {
      "text/plain": [
       "{6, 7, 8}"
      ]
     },
     "execution_count": 116,
     "metadata": {},
     "output_type": "execute_result"
    }
   ],
   "source": [
    "B-A"
   ]
  },
  {
   "cell_type": "code",
   "execution_count": 118,
   "id": "8a9c238f-1ea8-4000-ad3f-eaeae043c69a",
   "metadata": {},
   "outputs": [
    {
     "data": {
      "text/plain": [
       "{6, 7, 8}"
      ]
     },
     "execution_count": 118,
     "metadata": {},
     "output_type": "execute_result"
    }
   ],
   "source": [
    "B.difference(A)"
   ]
  },
  {
   "cell_type": "code",
   "execution_count": 120,
   "id": "4e17cdc9-6801-4ecb-a378-2ebbabdfceba",
   "metadata": {},
   "outputs": [
    {
     "data": {
      "text/plain": [
       "{6, 7, 8}"
      ]
     },
     "execution_count": 120,
     "metadata": {},
     "output_type": "execute_result"
    }
   ],
   "source": [
    "B.difference_update(A)\n",
    "B"
   ]
  },
  {
   "cell_type": "markdown",
   "id": "8e71db1a-3b84-434d-8bac-20da57a100a9",
   "metadata": {},
   "source": [
    "Symmetric Difference"
   ]
  },
  {
   "cell_type": "code",
   "execution_count": 124,
   "id": "077879fe-da5f-492c-bde2-6a0ef78e58a3",
   "metadata": {},
   "outputs": [
    {
     "data": {
      "text/plain": [
       "{1, 2, 3, 4, 5, 6, 7, 8}"
      ]
     },
     "execution_count": 124,
     "metadata": {},
     "output_type": "execute_result"
    }
   ],
   "source": [
    "A^B"
   ]
  },
  {
   "cell_type": "code",
   "execution_count": 126,
   "id": "e15d9866-c140-4443-8a6a-e86251c1aa91",
   "metadata": {},
   "outputs": [
    {
     "data": {
      "text/plain": [
       "{1, 2, 3, 4, 5, 6, 7, 8}"
      ]
     },
     "execution_count": 126,
     "metadata": {},
     "output_type": "execute_result"
    }
   ],
   "source": [
    "A.symmetric_difference(B)# Symmetric difference (Set of elements in A and B but not in both"
   ]
  },
  {
   "cell_type": "code",
   "execution_count": 128,
   "id": "a8fe5395-4bde-4455-acd8-d3ef50642eef",
   "metadata": {},
   "outputs": [
    {
     "data": {
      "text/plain": [
       "{1, 2, 3, 4, 5, 6, 7, 8}"
      ]
     },
     "execution_count": 128,
     "metadata": {},
     "output_type": "execute_result"
    }
   ],
   "source": [
    "A.symmetric_difference_update(B)\n",
    "A"
   ]
  },
  {
   "cell_type": "markdown",
   "id": "472e7b0a-9106-4030-b3af-13082e3100e5",
   "metadata": {},
   "source": [
    "Other built-in Functions"
   ]
  },
  {
   "cell_type": "code",
   "execution_count": 133,
   "id": "1da36cf9-3fef-4dfe-be22-4694ae726d89",
   "metadata": {},
   "outputs": [
    {
     "data": {
      "text/plain": [
       "{1, 2, 3, 4, 5, 6, 7, 8, 9}"
      ]
     },
     "execution_count": 133,
     "metadata": {},
     "output_type": "execute_result"
    }
   ],
   "source": [
    "A={1,2,3,4,5,6,7,8,9}\n",
    "A"
   ]
  },
  {
   "cell_type": "code",
   "execution_count": 135,
   "id": "263b535f-1aa9-454f-a1a1-61db035c205c",
   "metadata": {},
   "outputs": [
    {
     "data": {
      "text/plain": [
       "45"
      ]
     },
     "execution_count": 135,
     "metadata": {},
     "output_type": "execute_result"
    }
   ],
   "source": [
    "sum(A)"
   ]
  },
  {
   "cell_type": "code",
   "execution_count": 137,
   "id": "6191006c-41cd-4d70-923a-502836ca0197",
   "metadata": {},
   "outputs": [
    {
     "data": {
      "text/plain": [
       "9"
      ]
     },
     "execution_count": 137,
     "metadata": {},
     "output_type": "execute_result"
    }
   ],
   "source": [
    "max(A)"
   ]
  },
  {
   "cell_type": "code",
   "execution_count": 139,
   "id": "6889eaa4-9e01-448c-8aa6-ce34a8a4e040",
   "metadata": {},
   "outputs": [
    {
     "data": {
      "text/plain": [
       "1"
      ]
     },
     "execution_count": 139,
     "metadata": {},
     "output_type": "execute_result"
    }
   ],
   "source": [
    "min(A)"
   ]
  },
  {
   "cell_type": "code",
   "execution_count": 141,
   "id": "1ededa36-4db7-4071-86e8-a88f008bb168",
   "metadata": {},
   "outputs": [
    {
     "data": {
      "text/plain": [
       "9"
      ]
     },
     "execution_count": 141,
     "metadata": {},
     "output_type": "execute_result"
    }
   ],
   "source": [
    "len(A)"
   ]
  },
  {
   "cell_type": "code",
   "execution_count": 143,
   "id": "44c12e1d-fe54-4d8e-8622-0cc3e3bf5ea3",
   "metadata": {},
   "outputs": [
    {
     "data": {
      "text/plain": [
       "[(0, 1), (1, 2), (2, 3), (3, 4), (4, 5), (5, 6), (6, 7), (7, 8), (8, 9)]"
      ]
     },
     "execution_count": 143,
     "metadata": {},
     "output_type": "execute_result"
    }
   ],
   "source": [
    "list(enumerate(A))"
   ]
  },
  {
   "cell_type": "code",
   "execution_count": 145,
   "id": "546f0b70-aaf1-46c9-bd1c-de036b257251",
   "metadata": {},
   "outputs": [],
   "source": [
    "D=sorted(A,reverse=True)"
   ]
  },
  {
   "cell_type": "code",
   "execution_count": 147,
   "id": "44ba4ea5-7c02-45c1-9c6e-f27ae0c8c32d",
   "metadata": {},
   "outputs": [
    {
     "data": {
      "text/plain": [
       "[9, 8, 7, 6, 5, 4, 3, 2, 1]"
      ]
     },
     "execution_count": 147,
     "metadata": {},
     "output_type": "execute_result"
    }
   ],
   "source": [
    "D"
   ]
  },
  {
   "cell_type": "code",
   "execution_count": 151,
   "id": "1372d6b8-200c-488c-b6e4-8b7ed6ab8e62",
   "metadata": {},
   "outputs": [
    {
     "data": {
      "text/plain": [
       "[1, 2, 3, 4, 5, 6, 7, 8, 9]"
      ]
     },
     "execution_count": 151,
     "metadata": {},
     "output_type": "execute_result"
    }
   ],
   "source": [
    "sorted(D)"
   ]
  },
  {
   "cell_type": "markdown",
   "id": "8a21faae-13f7-4dbc-8453-4f12d10ee263",
   "metadata": {},
   "source": [
    "Dictionary"
   ]
  },
  {
   "cell_type": "markdown",
   "id": "7f39edda-b759-43be-bd69-b0722382a085",
   "metadata": {},
   "source": [
    "Create dictionary"
   ]
  },
  {
   "cell_type": "code",
   "execution_count": 156,
   "id": "6e0e66cb-4df9-44c0-87b3-6169823a6784",
   "metadata": {},
   "outputs": [
    {
     "data": {
      "text/plain": [
       "{}"
      ]
     },
     "execution_count": 156,
     "metadata": {},
     "output_type": "execute_result"
    }
   ],
   "source": [
    "d=dict()\n",
    "d"
   ]
  },
  {
   "cell_type": "code",
   "execution_count": 158,
   "id": "c336a62a-99b7-46d1-b8ac-678d4624acd3",
   "metadata": {},
   "outputs": [
    {
     "data": {
      "text/plain": [
       "{}"
      ]
     },
     "execution_count": 158,
     "metadata": {},
     "output_type": "execute_result"
    }
   ],
   "source": [
    "d1={}\n",
    "d1"
   ]
  },
  {
   "cell_type": "code",
   "execution_count": 160,
   "id": "7e377b82-d1f6-4558-a115-0386157015d4",
   "metadata": {},
   "outputs": [
    {
     "data": {
      "text/plain": [
       "{1: 'one', 2: 'two', 3: 'three'}"
      ]
     },
     "execution_count": 160,
     "metadata": {},
     "output_type": "execute_result"
    }
   ],
   "source": [
    "d1={1:'one' , 2:'two' , 3:'three'}\n",
    "d1"
   ]
  },
  {
   "cell_type": "code",
   "execution_count": 162,
   "id": "fa0f324f-c73c-448f-b181-ca8536f93327",
   "metadata": {},
   "outputs": [],
   "source": [
    "d1=dict({1:'one' , 2:'two' , 3:'three'})"
   ]
  },
  {
   "cell_type": "code",
   "execution_count": 164,
   "id": "6c1bb877-853e-4489-8a17-bba6566a04dc",
   "metadata": {},
   "outputs": [
    {
     "data": {
      "text/plain": [
       "{1: 'one', 2: 'two', 3: 'three'}"
      ]
     },
     "execution_count": 164,
     "metadata": {},
     "output_type": "execute_result"
    }
   ],
   "source": [
    "d1"
   ]
  },
  {
   "cell_type": "code",
   "execution_count": 166,
   "id": "ef119de5-c371-4a2a-8221-5a0ec3362599",
   "metadata": {},
   "outputs": [
    {
     "data": {
      "text/plain": [
       "{'A': 'one', 'B': 'two', 'C': 'three'}"
      ]
     },
     "execution_count": 166,
     "metadata": {},
     "output_type": "execute_result"
    }
   ],
   "source": [
    "d2={'A':'one' , 'B':'two' , 'C':'three'}\n",
    "d2"
   ]
  },
  {
   "cell_type": "code",
   "execution_count": 168,
   "id": "315c1c20-4b1f-4e60-a9dd-5a40b1f1dfc1",
   "metadata": {},
   "outputs": [],
   "source": [
    "d3={1:'one' , 'A':'two' , 3:'three'}"
   ]
  },
  {
   "cell_type": "code",
   "execution_count": 170,
   "id": "8772d5dc-7ea5-4f5c-bde8-4c430621050b",
   "metadata": {},
   "outputs": [
    {
     "data": {
      "text/plain": [
       "{1: 'one', 'A': 'two', 3: 'three'}"
      ]
     },
     "execution_count": 170,
     "metadata": {},
     "output_type": "execute_result"
    }
   ],
   "source": [
    "d3"
   ]
  },
  {
   "cell_type": "code",
   "execution_count": 176,
   "id": "657132a2-75c9-47bf-9433-a24ec8f55744",
   "metadata": {},
   "outputs": [
    {
     "data": {
      "text/plain": [
       "dict_values(['one', 'two', 'three'])"
      ]
     },
     "execution_count": 176,
     "metadata": {},
     "output_type": "execute_result"
    }
   ],
   "source": [
    "d3.values()"
   ]
  },
  {
   "cell_type": "code",
   "execution_count": 180,
   "id": "d681a386-38b0-4cc7-8f1c-2d965f556f46",
   "metadata": {},
   "outputs": [
    {
     "data": {
      "text/plain": [
       "dict_items([(1, 'one'), ('A', 'two'), (3, 'three')])"
      ]
     },
     "execution_count": 180,
     "metadata": {},
     "output_type": "execute_result"
    }
   ],
   "source": [
    "d3.items()"
   ]
  },
  {
   "cell_type": "code",
   "execution_count": 182,
   "id": "6311dcd1-0c14-40e6-814d-773e8eb366d4",
   "metadata": {},
   "outputs": [
    {
     "data": {
      "text/plain": [
       "{1: 'one', 2: 'two', 'A': ['asif', 'john', 'Maria']}"
      ]
     },
     "execution_count": 182,
     "metadata": {},
     "output_type": "execute_result"
    }
   ],
   "source": [
    "d4={1:'one' , 2:'two' , 'A':['asif' , 'john' , 'Maria']}\n",
    "d4"
   ]
  },
  {
   "cell_type": "code",
   "execution_count": 184,
   "id": "08ce12f6-e092-4e8e-b883-990692676fec",
   "metadata": {},
   "outputs": [],
   "source": [
    "d4={1:'one' , 2:'two' , 'A':['asif' , 'john' , 'Maria'],'B':('bat','cat','hat')}"
   ]
  },
  {
   "cell_type": "code",
   "execution_count": 186,
   "id": "d8644e81-eade-42b5-9c55-6db31b00c749",
   "metadata": {},
   "outputs": [
    {
     "data": {
      "text/plain": [
       "{1: 'one',\n",
       " 2: 'two',\n",
       " 'A': ['asif', 'john', 'Maria'],\n",
       " 'B': ('bat', 'cat', 'hat')}"
      ]
     },
     "execution_count": 186,
     "metadata": {},
     "output_type": "execute_result"
    }
   ],
   "source": [
    "d4"
   ]
  },
  {
   "cell_type": "code",
   "execution_count": 190,
   "id": "399f244a-4afc-40da-beea-1f249bfd1a22",
   "metadata": {},
   "outputs": [
    {
     "data": {
      "text/plain": [
       "{'d': None, 'c': None, 'a': None, 'b': None}"
      ]
     },
     "execution_count": 190,
     "metadata": {},
     "output_type": "execute_result"
    }
   ],
   "source": [
    "keys={'a','b','c','d'}\n",
    "d5=dict.fromkeys(keys)# Create a dictionary from a sequence of keys\n",
    "d5"
   ]
  },
  {
   "cell_type": "code",
   "execution_count": 192,
   "id": "278e7c64-64ca-4ec1-a7f9-8aba812e9def",
   "metadata": {},
   "outputs": [
    {
     "data": {
      "text/plain": [
       "{'d': 10, 'c': 10, 'a': 10, 'b': 10}"
      ]
     },
     "execution_count": 192,
     "metadata": {},
     "output_type": "execute_result"
    }
   ],
   "source": [
    "keys={'a','b','c','d'}\n",
    "value=10\n",
    "d5=dict.fromkeys(keys,value)# Create a dictionary from a sequence of keys and values\n",
    "d5"
   ]
  },
  {
   "cell_type": "code",
   "execution_count": 194,
   "id": "e4620f18-41ec-4826-8b45-eedba89c7bfa",
   "metadata": {},
   "outputs": [
    {
     "data": {
      "text/plain": [
       "{'d': [10, 20, 30], 'c': [10, 20, 30], 'a': [10, 20, 30], 'b': [10, 20, 30]}"
      ]
     },
     "execution_count": 194,
     "metadata": {},
     "output_type": "execute_result"
    }
   ],
   "source": [
    "keys = {'a' , 'b' , 'c' , 'd'}\n",
    "value = [10,20,30]\n",
    "d5 = dict.fromkeys(keys , value) # Create a dictionary from a sequence of valus\n",
    "d5"
   ]
  },
  {
   "cell_type": "code",
   "execution_count": 198,
   "id": "9cde495b-7144-4291-b0a7-c75acb5b1536",
   "metadata": {},
   "outputs": [
    {
     "data": {
      "text/plain": [
       "{'d': [10, 20, 30, 40],\n",
       " 'c': [10, 20, 30, 40],\n",
       " 'a': [10, 20, 30, 40],\n",
       " 'b': [10, 20, 30, 40]}"
      ]
     },
     "execution_count": 198,
     "metadata": {},
     "output_type": "execute_result"
    }
   ],
   "source": [
    "value.append(40)\n",
    "d5"
   ]
  },
  {
   "cell_type": "markdown",
   "id": "b3766758-93f9-49d8-a41a-0095fc35cd56",
   "metadata": {},
   "source": [
    "Accessing Items"
   ]
  },
  {
   "cell_type": "code",
   "execution_count": 201,
   "id": "ed849d1b-2600-49ae-95d6-38b4c90cce7b",
   "metadata": {},
   "outputs": [
    {
     "data": {
      "text/plain": [
       "{1: 'one', 2: 'two', 3: 'three', 4: 'four'}"
      ]
     },
     "execution_count": 201,
     "metadata": {},
     "output_type": "execute_result"
    }
   ],
   "source": [
    "d_1={1:'one' , 2:'two' , 3:'three' , 4:'four'}\n",
    "d_1"
   ]
  },
  {
   "cell_type": "code",
   "execution_count": 203,
   "id": "57d25b40-ca20-454d-a401-0d46b62a6e56",
   "metadata": {},
   "outputs": [
    {
     "data": {
      "text/plain": [
       "'one'"
      ]
     },
     "execution_count": 203,
     "metadata": {},
     "output_type": "execute_result"
    }
   ],
   "source": [
    "d_1[1]"
   ]
  },
  {
   "cell_type": "code",
   "execution_count": 205,
   "id": "35fe5e39-65c1-46d4-acf4-a1ad6291026a",
   "metadata": {},
   "outputs": [
    {
     "data": {
      "text/plain": [
       "'two'"
      ]
     },
     "execution_count": 205,
     "metadata": {},
     "output_type": "execute_result"
    }
   ],
   "source": [
    "d_1.get(2)"
   ]
  },
  {
   "cell_type": "code",
   "execution_count": 207,
   "id": "b3e17a00-913d-4050-98d0-3b885bdaf718",
   "metadata": {},
   "outputs": [
    {
     "data": {
      "text/plain": [
       "{'Name': 'Becky', 'ID': 74123, 'DOB': 1999, 'job': 'Manager'}"
      ]
     },
     "execution_count": 207,
     "metadata": {},
     "output_type": "execute_result"
    }
   ],
   "source": [
    "d_2={'Name':'Becky' , 'ID': 74123 , 'DOB': 1999 , 'job' :'Manager'}\n",
    "d_2"
   ]
  },
  {
   "cell_type": "code",
   "execution_count": 209,
   "id": "867be484-a0b1-47a9-aaf6-2e943f370460",
   "metadata": {},
   "outputs": [
    {
     "data": {
      "text/plain": [
       "'Manager'"
      ]
     },
     "execution_count": 209,
     "metadata": {},
     "output_type": "execute_result"
    }
   ],
   "source": [
    "d_2['job']"
   ]
  },
  {
   "cell_type": "code",
   "execution_count": 213,
   "id": "b26f0238-1304-4190-9da2-c049682e67cd",
   "metadata": {},
   "outputs": [
    {
     "data": {
      "text/plain": [
       "74123"
      ]
     },
     "execution_count": 213,
     "metadata": {},
     "output_type": "execute_result"
    }
   ],
   "source": [
    "d_2.get('ID')"
   ]
  },
  {
   "cell_type": "markdown",
   "id": "8b176ffa-4b4c-4be1-aebf-04d20160d671",
   "metadata": {},
   "source": [
    "Add, Remove & Chage items"
   ]
  },
  {
   "cell_type": "code",
   "execution_count": 218,
   "id": "8424fb47-e309-4e4b-b4a3-2fb17ca4f4ae",
   "metadata": {},
   "outputs": [
    {
     "data": {
      "text/plain": [
       "{'Name': 'Asif', 'ID': 12345, 'DOB': 1991, 'Address': 'Hilsinki'}"
      ]
     },
     "execution_count": 218,
     "metadata": {},
     "output_type": "execute_result"
    }
   ],
   "source": [
    "d_3={'Name':'Asif' , 'ID': 12345 , 'DOB': 1991 , 'Address' : 'Hilsinki'}\n",
    "d_3"
   ]
  },
  {
   "cell_type": "code",
   "execution_count": 220,
   "id": "1e1271e4-8dc0-4cfd-9c24-e6054a808a8b",
   "metadata": {},
   "outputs": [
    {
     "data": {
      "text/plain": [
       "{'Name': 'Asif', 'ID': 12345, 'DOB': 2000, 'Address': 'Hyderabad'}"
      ]
     },
     "execution_count": 220,
     "metadata": {},
     "output_type": "execute_result"
    }
   ],
   "source": [
    "d_3['DOB']=2000\n",
    "d_3['Address']='Hyderabad'\n",
    "d_3"
   ]
  },
  {
   "cell_type": "code",
   "execution_count": 222,
   "id": "c786e074-36b0-461e-8b63-301da956d6c8",
   "metadata": {},
   "outputs": [],
   "source": [
    "d_4={'DOB':1999}\n",
    "d_3.update(d_4)"
   ]
  },
  {
   "cell_type": "code",
   "execution_count": 224,
   "id": "2b916f7a-588e-4975-8cd7-59a7f15a4a27",
   "metadata": {},
   "outputs": [
    {
     "data": {
      "text/plain": [
       "{'Name': 'Asif', 'ID': 12345, 'DOB': 1999, 'Address': 'Hyderabad'}"
      ]
     },
     "execution_count": 224,
     "metadata": {},
     "output_type": "execute_result"
    }
   ],
   "source": [
    "d_3"
   ]
  },
  {
   "cell_type": "code",
   "execution_count": 228,
   "id": "a286f23d-96cc-4690-98ee-2d9fff385323",
   "metadata": {},
   "outputs": [
    {
     "data": {
      "text/plain": [
       "{'Name': 'Asif',\n",
       " 'ID': 12345,\n",
       " 'DOB': 1999,\n",
       " 'Address': 'Hyderabad',\n",
       " 'Job': 'Manager'}"
      ]
     },
     "execution_count": 228,
     "metadata": {},
     "output_type": "execute_result"
    }
   ],
   "source": [
    "d_3['Job']='Manager'\n",
    "d_3"
   ]
  },
  {
   "cell_type": "code",
   "execution_count": 232,
   "id": "bc1446df-1aad-4339-953c-4c2fd0a858f7",
   "metadata": {},
   "outputs": [
    {
     "data": {
      "text/plain": [
       "'Manager'"
      ]
     },
     "execution_count": 232,
     "metadata": {},
     "output_type": "execute_result"
    }
   ],
   "source": [
    "d_3.pop('Job')"
   ]
  },
  {
   "cell_type": "code",
   "execution_count": 234,
   "id": "e4754d2e-a1aa-4739-8bb0-422c6eeb3e43",
   "metadata": {},
   "outputs": [
    {
     "data": {
      "text/plain": [
       "('Address', 'Hyderabad')"
      ]
     },
     "execution_count": 234,
     "metadata": {},
     "output_type": "execute_result"
    }
   ],
   "source": [
    "d_3.popitem()"
   ]
  },
  {
   "cell_type": "code",
   "execution_count": 236,
   "id": "17f357b5-3682-4798-9595-93411f555778",
   "metadata": {},
   "outputs": [
    {
     "data": {
      "text/plain": [
       "{'Name': 'Asif', 'ID': 12345, 'DOB': 1999}"
      ]
     },
     "execution_count": 236,
     "metadata": {},
     "output_type": "execute_result"
    }
   ],
   "source": [
    "d_3"
   ]
  },
  {
   "cell_type": "code",
   "execution_count": 238,
   "id": "dc73c72d-f401-4bdf-a0c1-a1732ee8accf",
   "metadata": {},
   "outputs": [
    {
     "data": {
      "text/plain": [
       "{'Name': 'Asif', 'DOB': 1999}"
      ]
     },
     "execution_count": 238,
     "metadata": {},
     "output_type": "execute_result"
    }
   ],
   "source": [
    "del[d_3['ID']]\n",
    "d_3"
   ]
  },
  {
   "cell_type": "code",
   "execution_count": 240,
   "id": "f8a63c41-c376-4b4c-a4eb-d45767ce7f0c",
   "metadata": {},
   "outputs": [
    {
     "data": {
      "text/plain": [
       "{}"
      ]
     },
     "execution_count": 240,
     "metadata": {},
     "output_type": "execute_result"
    }
   ],
   "source": [
    "d_3.clear()\n",
    "d_3"
   ]
  },
  {
   "cell_type": "code",
   "execution_count": 242,
   "id": "601a6f0e-5490-4605-a117-8b02cdb936d0",
   "metadata": {},
   "outputs": [
    {
     "ename": "NameError",
     "evalue": "name 'd_3' is not defined",
     "output_type": "error",
     "traceback": [
      "\u001b[1;31m---------------------------------------------------------------------------\u001b[0m",
      "\u001b[1;31mNameError\u001b[0m                                 Traceback (most recent call last)",
      "Cell \u001b[1;32mIn[242], line 2\u001b[0m\n\u001b[0;32m      1\u001b[0m \u001b[38;5;28;01mdel\u001b[39;00m d_3\n\u001b[1;32m----> 2\u001b[0m d_3\n",
      "\u001b[1;31mNameError\u001b[0m: name 'd_3' is not defined"
     ]
    }
   ],
   "source": [
    "del d_3\n",
    "d_3"
   ]
  },
  {
   "cell_type": "markdown",
   "id": "ac4c1145-11ba-4bfd-92d5-e946d9408bd5",
   "metadata": {},
   "source": [
    "Copy Dictionary"
   ]
  },
  {
   "cell_type": "code",
   "execution_count": 246,
   "id": "d0c97efd-3371-4954-9653-aa7112a11234",
   "metadata": {},
   "outputs": [
    {
     "data": {
      "text/plain": [
       "{'Name': 'Asif', 'ID': 12345, 'DOB': 1991, 'Address': 'Hilsinki'}"
      ]
     },
     "execution_count": 246,
     "metadata": {},
     "output_type": "execute_result"
    }
   ],
   "source": [
    "mydict = {'Name':'Asif' , 'ID': 12345 , 'DOB': 1991 , 'Address' : 'Hilsinki'}\n",
    "mydict"
   ]
  },
  {
   "cell_type": "code",
   "execution_count": 248,
   "id": "cded9653-7087-485d-8a37-f8f48321b9fe",
   "metadata": {},
   "outputs": [],
   "source": [
    "mydict1 = mydict # Create a new reference \"mydict1\""
   ]
  },
  {
   "cell_type": "code",
   "execution_count": 250,
   "id": "e657ed98-2841-4c34-91eb-91c7cf25d13e",
   "metadata": {},
   "outputs": [
    {
     "data": {
      "text/plain": [
       "(2817002688576, 2817002688576)"
      ]
     },
     "execution_count": 250,
     "metadata": {},
     "output_type": "execute_result"
    }
   ],
   "source": [
    "id(mydict) , id(mydict1)"
   ]
  },
  {
   "cell_type": "code",
   "execution_count": 252,
   "id": "fc88c0c2-5a9a-46fb-b29f-ea382d780fae",
   "metadata": {},
   "outputs": [],
   "source": [
    "mydict2 = mydict.copy() "
   ]
  },
  {
   "cell_type": "code",
   "execution_count": 254,
   "id": "af55cf6b-cb58-41de-8d05-fe53d4f78714",
   "metadata": {},
   "outputs": [
    {
     "data": {
      "text/plain": [
       "2817011438208"
      ]
     },
     "execution_count": 254,
     "metadata": {},
     "output_type": "execute_result"
    }
   ],
   "source": [
    "id(mydict2)"
   ]
  },
  {
   "cell_type": "code",
   "execution_count": 256,
   "id": "8472a1aa-e739-4c40-8104-bb8dc20e5c53",
   "metadata": {},
   "outputs": [],
   "source": [
    "mydict['Address'] = 'Mumbai'"
   ]
  },
  {
   "cell_type": "code",
   "execution_count": 258,
   "id": "ee89d1f8-b4f8-471c-ab05-7914a3ad3f78",
   "metadata": {},
   "outputs": [
    {
     "data": {
      "text/plain": [
       "{'Name': 'Asif', 'ID': 12345, 'DOB': 1991, 'Address': 'Mumbai'}"
      ]
     },
     "execution_count": 258,
     "metadata": {},
     "output_type": "execute_result"
    }
   ],
   "source": [
    "mydict"
   ]
  },
  {
   "cell_type": "code",
   "execution_count": 260,
   "id": "a1431810-a684-4e2d-90a8-b4adadf4be88",
   "metadata": {},
   "outputs": [
    {
     "data": {
      "text/plain": [
       "{'Name': 'Asif', 'ID': 12345, 'DOB': 1991, 'Address': 'Mumbai'}"
      ]
     },
     "execution_count": 260,
     "metadata": {},
     "output_type": "execute_result"
    }
   ],
   "source": [
    "mydict1"
   ]
  },
  {
   "cell_type": "code",
   "execution_count": 262,
   "id": "ed24ac32-f85f-4f48-8d0b-400001662bf1",
   "metadata": {},
   "outputs": [
    {
     "data": {
      "text/plain": [
       "{'Name': 'Asif', 'ID': 12345, 'DOB': 1991, 'Address': 'Hilsinki'}"
      ]
     },
     "execution_count": 262,
     "metadata": {},
     "output_type": "execute_result"
    }
   ],
   "source": [
    "mydict2"
   ]
  },
  {
   "cell_type": "markdown",
   "id": "13daf0af-949c-4bab-a56a-aed44194dd50",
   "metadata": {},
   "source": [
    "Loop through dictionary"
   ]
  },
  {
   "cell_type": "code",
   "execution_count": 267,
   "id": "7af18e5d-2cb5-4174-82d6-444d7da6cb3f",
   "metadata": {},
   "outputs": [
    {
     "data": {
      "text/plain": [
       "{'Name': 'Asif',\n",
       " 'ID': 12345,\n",
       " 'DOB': 1991,\n",
       " 'Address': 'Hilsinki',\n",
       " 'Job': 'Analyst'}"
      ]
     },
     "execution_count": 267,
     "metadata": {},
     "output_type": "execute_result"
    }
   ],
   "source": [
    "d7={'Name': 'Asif','ID': 12345,'DOB': 1991,'Address': 'Hilsinki','Job': 'Analyst'}\n",
    "d7"
   ]
  },
  {
   "cell_type": "code",
   "execution_count": 271,
   "id": "be94f24e-7f96-4187-821b-f1d736b4c395",
   "metadata": {},
   "outputs": [
    {
     "name": "stdout",
     "output_type": "stream",
     "text": [
      "Name : Asif\n",
      "ID : 12345\n",
      "DOB : 1991\n",
      "Address : Hilsinki\n",
      "Job : Analyst\n"
     ]
    }
   ],
   "source": [
    "for i in d7:\n",
    "    print(i,':',d7[i])"
   ]
  },
  {
   "cell_type": "code",
   "execution_count": 273,
   "id": "315dc5d2-b68a-4688-9f11-e627ab30e208",
   "metadata": {},
   "outputs": [
    {
     "name": "stdout",
     "output_type": "stream",
     "text": [
      "Asif\n",
      "12345\n",
      "1991\n",
      "Hilsinki\n",
      "Analyst\n"
     ]
    }
   ],
   "source": [
    "for i in d7:\n",
    "    print(d7[i])"
   ]
  },
  {
   "cell_type": "markdown",
   "id": "024ea1fe-a3b2-4f62-9dd1-688cf6cc83c2",
   "metadata": {},
   "source": [
    "Dictionary Membership "
   ]
  },
  {
   "cell_type": "code",
   "execution_count": 276,
   "id": "a5bd9853-6229-4e33-a395-b570f2a48d3c",
   "metadata": {},
   "outputs": [
    {
     "data": {
      "text/plain": [
       "{'Name': 'Asif',\n",
       " 'ID': 12345,\n",
       " 'DOB': 1991,\n",
       " 'Address': 'Hilsinki',\n",
       " 'Job': 'Analyst'}"
      ]
     },
     "execution_count": 276,
     "metadata": {},
     "output_type": "execute_result"
    }
   ],
   "source": [
    "d7"
   ]
  },
  {
   "cell_type": "code",
   "execution_count": 278,
   "id": "6fc7b0f3-f2b9-4ca5-ae38-fca1d38dad51",
   "metadata": {},
   "outputs": [
    {
     "data": {
      "text/plain": [
       "True"
      ]
     },
     "execution_count": 278,
     "metadata": {},
     "output_type": "execute_result"
    }
   ],
   "source": [
    "'Name' in d7"
   ]
  },
  {
   "cell_type": "code",
   "execution_count": 280,
   "id": "f5b56aca-b7aa-481d-a320-8bfee531fbcb",
   "metadata": {},
   "outputs": [
    {
     "data": {
      "text/plain": [
       "False"
      ]
     },
     "execution_count": 280,
     "metadata": {},
     "output_type": "execute_result"
    }
   ],
   "source": [
    "'age' in d7"
   ]
  },
  {
   "cell_type": "code",
   "execution_count": 282,
   "id": "bca51b5e-8fc8-4775-baa9-6da1cf957551",
   "metadata": {},
   "outputs": [
    {
     "data": {
      "text/plain": [
       "True"
      ]
     },
     "execution_count": 282,
     "metadata": {},
     "output_type": "execute_result"
    }
   ],
   "source": [
    "'ID' in d7"
   ]
  },
  {
   "cell_type": "code",
   "execution_count": 286,
   "id": "ea240982-9c2c-4a0e-9fdd-911634b57a08",
   "metadata": {},
   "outputs": [
    {
     "data": {
      "text/plain": [
       "True"
      ]
     },
     "execution_count": 286,
     "metadata": {},
     "output_type": "execute_result"
    }
   ],
   "source": [
    "'Address' in d7"
   ]
  },
  {
   "cell_type": "markdown",
   "id": "76de53be-ccef-4906-a9fa-253d93b5a7a5",
   "metadata": {},
   "source": [
    "ALL/ANY"
   ]
  },
  {
   "cell_type": "code",
   "execution_count": 289,
   "id": "709634a9-503b-4cb8-a39c-72c444601945",
   "metadata": {},
   "outputs": [
    {
     "data": {
      "text/plain": [
       "{'Name': 'Asif',\n",
       " 'ID': 12345,\n",
       " 'DOB': 1991,\n",
       " 'Address': 'Hilsinki',\n",
       " 'Job': 'Analyst'}"
      ]
     },
     "execution_count": 289,
     "metadata": {},
     "output_type": "execute_result"
    }
   ],
   "source": [
    "d7"
   ]
  },
  {
   "cell_type": "code",
   "execution_count": 291,
   "id": "e87fc9c4-f524-4453-bf18-6d655196187d",
   "metadata": {},
   "outputs": [
    {
     "data": {
      "text/plain": [
       "True"
      ]
     },
     "execution_count": 291,
     "metadata": {},
     "output_type": "execute_result"
    }
   ],
   "source": [
    "all(d7)"
   ]
  },
  {
   "cell_type": "code",
   "execution_count": 293,
   "id": "b84d219e-b40f-40d8-bc32-1be19880542e",
   "metadata": {},
   "outputs": [
    {
     "data": {
      "text/plain": [
       "True"
      ]
     },
     "execution_count": 293,
     "metadata": {},
     "output_type": "execute_result"
    }
   ],
   "source": [
    "any(d7)"
   ]
  },
  {
   "cell_type": "code",
   "execution_count": null,
   "id": "3dc75759-946b-4d2a-bed4-0a0d9916d647",
   "metadata": {},
   "outputs": [],
   "source": []
  }
 ],
 "metadata": {
  "kernelspec": {
   "display_name": "Python 3 (ipykernel)",
   "language": "python",
   "name": "python3"
  },
  "language_info": {
   "codemirror_mode": {
    "name": "ipython",
    "version": 3
   },
   "file_extension": ".py",
   "mimetype": "text/x-python",
   "name": "python",
   "nbconvert_exporter": "python",
   "pygments_lexer": "ipython3",
   "version": "3.12.4"
  }
 },
 "nbformat": 4,
 "nbformat_minor": 5
}
