{
 "cells": [
  {
   "cell_type": "code",
   "execution_count": 1,
   "id": "25ea4372-ef26-4bab-b271-202f4843f718",
   "metadata": {},
   "outputs": [],
   "source": [
    "#10th April-FSDS with Agentic AI and Gen AI \n",
    "#Python Basics"
   ]
  },
  {
   "cell_type": "code",
   "execution_count": 1,
   "id": "ba591f5a-d399-43e8-94be-1df7852beea0",
   "metadata": {},
   "outputs": [
    {
     "data": {
      "text/plain": [
       "9"
      ]
     },
     "execution_count": 1,
     "metadata": {},
     "output_type": "execute_result"
    }
   ],
   "source": [
    "9"
   ]
  },
  {
   "cell_type": "code",
   "execution_count": 3,
   "id": "1be635c4-c3d4-4f56-8e29-89107101c05a",
   "metadata": {},
   "outputs": [
    {
     "data": {
      "text/plain": [
       "18"
      ]
     },
     "execution_count": 3,
     "metadata": {},
     "output_type": "execute_result"
    }
   ],
   "source": [
    "9+9"
   ]
  },
  {
   "cell_type": "code",
   "execution_count": 5,
   "id": "3c2df092-c3ec-487d-a890-2383ee928ee3",
   "metadata": {},
   "outputs": [
    {
     "data": {
      "text/plain": [
       "-15"
      ]
     },
     "execution_count": 5,
     "metadata": {},
     "output_type": "execute_result"
    }
   ],
   "source": [
    "9 + 9 - (10*3) - 3"
   ]
  },
  {
   "cell_type": "code",
   "execution_count": 7,
   "id": "ee729e2f-4a8b-4d30-a083-a918238d7998",
   "metadata": {},
   "outputs": [
    {
     "data": {
      "text/plain": [
       "-15"
      ]
     },
     "execution_count": 7,
     "metadata": {},
     "output_type": "execute_result"
    }
   ],
   "source": [
    "9 + 9 - 10*3 - 3"
   ]
  },
  {
   "cell_type": "code",
   "execution_count": 9,
   "id": "a4f5cdce-a8ea-4df1-af0f-cdbc400efbdc",
   "metadata": {},
   "outputs": [],
   "source": [
    "#9,9,10,3,3,===operand\n",
    "#+,-,*,== operator"
   ]
  },
  {
   "cell_type": "code",
   "execution_count": 11,
   "id": "d7a29e8f-8176-4aa3-96bd-5e0cb4327a79",
   "metadata": {},
   "outputs": [
    {
     "data": {
      "text/plain": [
       "14"
      ]
     },
     "execution_count": 11,
     "metadata": {},
     "output_type": "execute_result"
    }
   ],
   "source": [
    "# arthemetic operator\n",
    "9 + 9 - (10-3) + 3"
   ]
  },
  {
   "cell_type": "code",
   "execution_count": 13,
   "id": "ee1ee93b-efcd-4318-adda-cb8c246e286b",
   "metadata": {},
   "outputs": [
    {
     "data": {
      "text/plain": [
       "8"
      ]
     },
     "execution_count": 13,
     "metadata": {},
     "output_type": "execute_result"
    }
   ],
   "source": [
    "9 + 9 - 10-3 + 3"
   ]
  },
  {
   "cell_type": "code",
   "execution_count": 15,
   "id": "fac39f9a-4bbe-4581-a6e5-ba954c86ed77",
   "metadata": {},
   "outputs": [],
   "source": [
    "# numbers are called as operand \n",
    "# +,-,*, are called as operators \n",
    "# ARTHEMETIC OPERATORS"
   ]
  },
  {
   "cell_type": "code",
   "execution_count": 17,
   "id": "9cc295a8-0e0f-46ea-9a54-df1bbcf88d70",
   "metadata": {},
   "outputs": [
    {
     "data": {
      "text/plain": [
       "15"
      ]
     },
     "execution_count": 17,
     "metadata": {},
     "output_type": "execute_result"
    }
   ],
   "source": [
    "10+5"
   ]
  },
  {
   "cell_type": "code",
   "execution_count": 19,
   "id": "57c3d202-f2ed-4c6c-b736-a4d51ec122df",
   "metadata": {},
   "outputs": [
    {
     "data": {
      "text/plain": [
       "5"
      ]
     },
     "execution_count": 19,
     "metadata": {},
     "output_type": "execute_result"
    }
   ],
   "source": [
    "10-5"
   ]
  },
  {
   "cell_type": "code",
   "execution_count": 21,
   "id": "d7df63d6-ae97-4342-b855-5d25b328155e",
   "metadata": {},
   "outputs": [
    {
     "data": {
      "text/plain": [
       "50"
      ]
     },
     "execution_count": 21,
     "metadata": {},
     "output_type": "execute_result"
    }
   ],
   "source": [
    "10*5"
   ]
  },
  {
   "cell_type": "code",
   "execution_count": 23,
   "id": "e8b949f7-c4cb-4b28-8259-1c5d0dd85e07",
   "metadata": {},
   "outputs": [
    {
     "data": {
      "text/plain": [
       "20"
      ]
     },
     "execution_count": 23,
     "metadata": {},
     "output_type": "execute_result"
    }
   ],
   "source": [
    "10*2 # MULTIPLICATION"
   ]
  },
  {
   "cell_type": "code",
   "execution_count": 25,
   "id": "74833f09-5976-4b40-b169-b6697926517c",
   "metadata": {},
   "outputs": [
    {
     "data": {
      "text/plain": [
       "100"
      ]
     },
     "execution_count": 25,
     "metadata": {},
     "output_type": "execute_result"
    }
   ],
   "source": [
    "10**2 # POWER"
   ]
  },
  {
   "cell_type": "code",
   "execution_count": 27,
   "id": "de6c3547-77e8-49f4-9bee-611dabad352b",
   "metadata": {},
   "outputs": [
    {
     "ename": "SyntaxError",
     "evalue": "invalid syntax (1867396925.py, line 1)",
     "output_type": "error",
     "traceback": [
      "\u001b[1;36m  Cell \u001b[1;32mIn[27], line 1\u001b[1;36m\u001b[0m\n\u001b[1;33m    10***2\u001b[0m\n\u001b[1;37m        ^\u001b[0m\n\u001b[1;31mSyntaxError\u001b[0m\u001b[1;31m:\u001b[0m invalid syntax\n"
     ]
    }
   ],
   "source": [
    "10***2"
   ]
  },
  {
   "cell_type": "code",
   "execution_count": 29,
   "id": "bc32acf1-6369-4af5-acdc-f20a51c0f2c7",
   "metadata": {},
   "outputs": [
    {
     "data": {
      "text/plain": [
       "2.0"
      ]
     },
     "execution_count": 29,
     "metadata": {},
     "output_type": "execute_result"
    }
   ],
   "source": [
    "10/5 # FLOAT DIVISION"
   ]
  },
  {
   "cell_type": "code",
   "execution_count": 33,
   "id": "c7abb8fe-8864-4f0f-9b4d-e4d05a6eadc9",
   "metadata": {},
   "outputs": [
    {
     "data": {
      "text/plain": [
       "2"
      ]
     },
     "execution_count": 33,
     "metadata": {},
     "output_type": "execute_result"
    }
   ],
   "source": [
    "10//5 #INT DIVISON"
   ]
  },
  {
   "cell_type": "code",
   "execution_count": 37,
   "id": "02a885fd-3515-46b7-98b0-3ec73354ac74",
   "metadata": {},
   "outputs": [
    {
     "data": {
      "text/plain": [
       "0"
      ]
     },
     "execution_count": 37,
     "metadata": {},
     "output_type": "execute_result"
    }
   ],
   "source": [
    "10%5 #MODULUS (remainder)"
   ]
  },
  {
   "cell_type": "code",
   "execution_count": 41,
   "id": "b5ecbec9-3ab4-4de7-9660-04fd9789b71b",
   "metadata": {},
   "outputs": [
    {
     "data": {
      "text/plain": [
       "3"
      ]
     },
     "execution_count": 41,
     "metadata": {},
     "output_type": "execute_result"
    }
   ],
   "source": [
    "15%6"
   ]
  },
  {
   "cell_type": "code",
   "execution_count": 45,
   "id": "827151c1-ad6a-449d-8423-c8e6d6163b59",
   "metadata": {},
   "outputs": [
    {
     "data": {
      "text/plain": [
       "2.5"
      ]
     },
     "execution_count": 45,
     "metadata": {},
     "output_type": "execute_result"
    }
   ],
   "source": [
    "15/6"
   ]
  },
  {
   "cell_type": "code",
   "execution_count": 47,
   "id": "926bd989-9349-412e-a631-35cb753ce1a6",
   "metadata": {},
   "outputs": [
    {
     "data": {
      "text/plain": [
       "8"
      ]
     },
     "execution_count": 47,
     "metadata": {},
     "output_type": "execute_result"
    }
   ],
   "source": [
    "10^2"
   ]
  },
  {
   "cell_type": "code",
   "execution_count": 53,
   "id": "e40bf16a-ef6d-4ae9-aec8-9803d20f7b49",
   "metadata": {},
   "outputs": [],
   "source": [
    "#ASSIGNMENT OPERATOR (=)"
   ]
  },
  {
   "cell_type": "code",
   "execution_count": 59,
   "id": "594e8fce-1fc4-43cb-a305-7408df203571",
   "metadata": {},
   "outputs": [
    {
     "data": {
      "text/plain": [
       "10"
      ]
     },
     "execution_count": 59,
     "metadata": {},
     "output_type": "execute_result"
    }
   ],
   "source": [
    "x= 10\n",
    "x\n",
    "# x is called a variable,object or indentifier and 10 is the value "
   ]
  },
  {
   "cell_type": "code",
   "execution_count": 61,
   "id": "7aa7432f-96ad-422c-bd2f-73f65d092bae",
   "metadata": {},
   "outputs": [
    {
     "data": {
      "text/plain": [
       "12"
      ]
     },
     "execution_count": 61,
     "metadata": {},
     "output_type": "execute_result"
    }
   ],
   "source": [
    "x+2"
   ]
  },
  {
   "cell_type": "code",
   "execution_count": 71,
   "id": "5e05ee60-6759-4784-84ee-073aeea3ecd5",
   "metadata": {},
   "outputs": [
    {
     "data": {
      "text/plain": [
       "20"
      ]
     },
     "execution_count": 71,
     "metadata": {},
     "output_type": "execute_result"
    }
   ],
   "source": [
    "x+=2 #incremental assigning operator\n",
    "x"
   ]
  },
  {
   "cell_type": "code",
   "execution_count": 73,
   "id": "2d233d44-51b1-46d8-8e2d-e0c00f5d0efc",
   "metadata": {},
   "outputs": [
    {
     "data": {
      "text/plain": [
       "20"
      ]
     },
     "execution_count": 73,
     "metadata": {},
     "output_type": "execute_result"
    }
   ],
   "source": [
    "x"
   ]
  },
  {
   "cell_type": "code",
   "execution_count": 99,
   "id": "9989cc09-3865-45de-bef6-7c501015a47c",
   "metadata": {},
   "outputs": [
    {
     "data": {
      "text/plain": [
       "12"
      ]
     },
     "execution_count": 99,
     "metadata": {},
     "output_type": "execute_result"
    }
   ],
   "source": [
    "x-=2# decremental assigning operator\n",
    "x"
   ]
  },
  {
   "cell_type": "code",
   "execution_count": 81,
   "id": "256de6a2-5402-4586-a1f0-18d1eb40c60c",
   "metadata": {},
   "outputs": [
    {
     "data": {
      "text/plain": [
       "14"
      ]
     },
     "execution_count": 81,
     "metadata": {},
     "output_type": "execute_result"
    }
   ],
   "source": [
    "x"
   ]
  },
  {
   "cell_type": "code",
   "execution_count": 101,
   "id": "8871154c-421f-4d39-8aa1-fed6b058eb9a",
   "metadata": {},
   "outputs": [
    {
     "data": {
      "text/plain": [
       "24"
      ]
     },
     "execution_count": 101,
     "metadata": {},
     "output_type": "execute_result"
    }
   ],
   "source": [
    "x*=2 #\n",
    "x"
   ]
  },
  {
   "cell_type": "code",
   "execution_count": 103,
   "id": "f58af2e8-cc6c-47a4-95c0-e277b49f3e91",
   "metadata": {},
   "outputs": [
    {
     "data": {
      "text/plain": [
       "48"
      ]
     },
     "execution_count": 103,
     "metadata": {},
     "output_type": "execute_result"
    }
   ],
   "source": [
    "x*=2\n",
    "x"
   ]
  },
  {
   "cell_type": "code",
   "execution_count": 105,
   "id": "e0cc7a5d-0aeb-45e1-b5b3-6f6bb238a6b0",
   "metadata": {},
   "outputs": [
    {
     "data": {
      "text/plain": [
       "24.0"
      ]
     },
     "execution_count": 105,
     "metadata": {},
     "output_type": "execute_result"
    }
   ],
   "source": [
    "x/=2\n",
    "x"
   ]
  },
  {
   "cell_type": "code",
   "execution_count": 107,
   "id": "72db7298-5958-465c-b8a8-9590551711cf",
   "metadata": {},
   "outputs": [
    {
     "data": {
      "text/plain": [
       "12.0"
      ]
     },
     "execution_count": 107,
     "metadata": {},
     "output_type": "execute_result"
    }
   ],
   "source": [
    "x//=2\n",
    "x"
   ]
  },
  {
   "cell_type": "code",
   "execution_count": 5,
   "id": "49a26486-8e4e-4047-b186-e636fbd2df34",
   "metadata": {},
   "outputs": [],
   "source": [
    "#Uni-nary Operator it will give only one value(+-ve values) "
   ]
  },
  {
   "cell_type": "code",
   "execution_count": 111,
   "id": "16aec445-c911-4629-b652-30b512880ec6",
   "metadata": {},
   "outputs": [
    {
     "data": {
      "text/plain": [
       "7"
      ]
     },
     "execution_count": 111,
     "metadata": {},
     "output_type": "execute_result"
    }
   ],
   "source": [
    "n= 7\n",
    "n"
   ]
  },
  {
   "cell_type": "code",
   "execution_count": 113,
   "id": "601bf551-8e3e-4d28-8034-bb2daf228bd6",
   "metadata": {},
   "outputs": [
    {
     "data": {
      "text/plain": [
       "-7"
      ]
     },
     "execution_count": 113,
     "metadata": {},
     "output_type": "execute_result"
    }
   ],
   "source": [
    "m = -n\n",
    "m"
   ]
  },
  {
   "cell_type": "code",
   "execution_count": 7,
   "id": "f6dbcced-8323-49f5-a72b-ed739d2e8652",
   "metadata": {},
   "outputs": [],
   "source": [
    "#11th April-FSDS with Agentic AI and Gen AI \n",
    "#Python Basics"
   ]
  },
  {
   "cell_type": "code",
   "execution_count": null,
   "id": "783caba7-41c8-421b-83b3-20d51793751c",
   "metadata": {},
   "outputs": [],
   "source": []
  }
 ],
 "metadata": {
  "kernelspec": {
   "display_name": "Python 3 (ipykernel)",
   "language": "python",
   "name": "python3"
  },
  "language_info": {
   "codemirror_mode": {
    "name": "ipython",
    "version": 3
   },
   "file_extension": ".py",
   "mimetype": "text/x-python",
   "name": "python",
   "nbconvert_exporter": "python",
   "pygments_lexer": "ipython3",
   "version": "3.12.4"
  }
 },
 "nbformat": 4,
 "nbformat_minor": 5
}
