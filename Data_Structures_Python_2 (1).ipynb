{
 "cells": [
  {
   "cell_type": "markdown",
   "id": "675acc34-eb59-4d35-be43-30961a4718b5",
   "metadata": {},
   "source": [
    "23rd April FSDS with Gen AI and Agentic AI \n",
    "Python (Data Structures_Tuple)"
   ]
  },
  {
   "cell_type": "code",
   "execution_count": 40,
   "id": "720612fc-75fe-45eb-be4f-513f5eb9d946",
   "metadata": {},
   "outputs": [
    {
     "data": {
      "text/plain": [
       "['z', 'x', 'b', 'd']"
      ]
     },
     "execution_count": 40,
     "metadata": {},
     "output_type": "execute_result"
    }
   ],
   "source": [
    "l6=['z','x','b','d']\n",
    "l6"
   ]
  },
  {
   "cell_type": "code",
   "execution_count": 8,
   "id": "e76f9e6e-1c2c-4d06-873f-c5eb6a26e81c",
   "metadata": {},
   "outputs": [
    {
     "data": {
      "text/plain": [
       "['b', 'd', 'x', 'z']"
      ]
     },
     "execution_count": 8,
     "metadata": {},
     "output_type": "execute_result"
    }
   ],
   "source": [
    "l6.sort() # paranetr tuning # using shift tab you can do parameter tuning\n",
    "l6 # user changes the system parameter it known as hypertuning\n",
    "#in LLM models hyperparameter tuning is known as fine tuning "
   ]
  },
  {
   "cell_type": "code",
   "execution_count": 12,
   "id": "7178e302-3434-4668-8d24-65702d669f48",
   "metadata": {},
   "outputs": [
    {
     "data": {
      "text/plain": [
       "['z', 'x', 'd', 'b']"
      ]
     },
     "execution_count": 12,
     "metadata": {},
     "output_type": "execute_result"
    }
   ],
   "source": [
    "l6.sort(reverse=True) # hyper-parameter tuning \n",
    "l6"
   ]
  },
  {
   "cell_type": "code",
   "execution_count": 14,
   "id": "a2bfbe36-2358-400a-b41d-fb75e09a595c",
   "metadata": {},
   "outputs": [
    {
     "name": "stdout",
     "output_type": "stream",
     "text": [
      "z\n",
      "x\n",
      "d\n",
      "b\n"
     ]
    }
   ],
   "source": [
    "for i in l6:\n",
    "    print(i)"
   ]
  },
  {
   "cell_type": "code",
   "execution_count": 20,
   "id": "ca4f15f5-e8c0-4aae-b089-9d76880b0244",
   "metadata": {},
   "outputs": [
    {
     "name": "stdout",
     "output_type": "stream",
     "text": [
      "(0, 'z')\n",
      "(1, 'x')\n",
      "(2, 'd')\n",
      "(3, 'b')\n"
     ]
    }
   ],
   "source": [
    "for i in enumerate(l6):\n",
    "    \n",
    "    print(i)"
   ]
  },
  {
   "cell_type": "code",
   "execution_count": 26,
   "id": "7cee50d6-7292-4965-8d32-530c512d6490",
   "metadata": {},
   "outputs": [
    {
     "data": {
      "text/plain": [
       "False"
      ]
     },
     "execution_count": 26,
     "metadata": {},
     "output_type": "execute_result"
    }
   ],
   "source": [
    "'zz' in l6 # list membership"
   ]
  },
  {
   "cell_type": "code",
   "execution_count": 28,
   "id": "ba46a11f-2010-4edb-a6cb-58bc090327b4",
   "metadata": {},
   "outputs": [
    {
     "data": {
      "text/plain": [
       "True"
      ]
     },
     "execution_count": 28,
     "metadata": {},
     "output_type": "execute_result"
    }
   ],
   "source": [
    "all(l6)"
   ]
  },
  {
   "cell_type": "code",
   "execution_count": 30,
   "id": "3d1623f7-98c8-4d9c-b296-545d5fa964ce",
   "metadata": {},
   "outputs": [
    {
     "data": {
      "text/plain": [
       "True"
      ]
     },
     "execution_count": 30,
     "metadata": {},
     "output_type": "execute_result"
    }
   ],
   "source": [
    "any(l6)"
   ]
  },
  {
   "cell_type": "code",
   "execution_count": 42,
   "id": "a5771b4c-234b-438c-825c-c56adbf80f6d",
   "metadata": {},
   "outputs": [
    {
     "data": {
      "text/plain": [
       "['z', 'x', 'b', 'd', 0]"
      ]
     },
     "execution_count": 42,
     "metadata": {},
     "output_type": "execute_result"
    }
   ],
   "source": [
    "l6.append(0)\n",
    "l6"
   ]
  },
  {
   "cell_type": "code",
   "execution_count": 44,
   "id": "2aa1138d-eee9-4ad7-95a7-1943d4a8c310",
   "metadata": {},
   "outputs": [
    {
     "data": {
      "text/plain": [
       "False"
      ]
     },
     "execution_count": 44,
     "metadata": {},
     "output_type": "execute_result"
    }
   ],
   "source": [
    "all(l6)"
   ]
  },
  {
   "cell_type": "code",
   "execution_count": 46,
   "id": "7cc1b13d-fe9e-49c5-a2bd-da11b4e83bc6",
   "metadata": {},
   "outputs": [
    {
     "data": {
      "text/plain": [
       "True"
      ]
     },
     "execution_count": 46,
     "metadata": {},
     "output_type": "execute_result"
    }
   ],
   "source": [
    "any(l6)"
   ]
  },
  {
   "cell_type": "markdown",
   "id": "c45aa6cc-cb40-415b-94e7-700deaf70e44",
   "metadata": {},
   "source": [
    "Tuple"
   ]
  },
  {
   "cell_type": "code",
   "execution_count": 49,
   "id": "403277e1-c985-40ef-bb9d-a68edc7b675a",
   "metadata": {},
   "outputs": [
    {
     "data": {
      "text/plain": [
       "()"
      ]
     },
     "execution_count": 49,
     "metadata": {},
     "output_type": "execute_result"
    }
   ],
   "source": [
    "t=()\n",
    "t"
   ]
  },
  {
   "cell_type": "code",
   "execution_count": 51,
   "id": "d41f5968-daaf-4939-a327-48465749fc49",
   "metadata": {},
   "outputs": [
    {
     "data": {
      "text/plain": [
       "0"
      ]
     },
     "execution_count": 51,
     "metadata": {},
     "output_type": "execute_result"
    }
   ],
   "source": [
    "len(t)"
   ]
  },
  {
   "cell_type": "code",
   "execution_count": 53,
   "id": "f09cfac4-4041-41f3-9e77-84ed475ccc19",
   "metadata": {},
   "outputs": [
    {
     "data": {
      "text/plain": [
       "(10, 20, 30, 40, 50)"
      ]
     },
     "execution_count": 53,
     "metadata": {},
     "output_type": "execute_result"
    }
   ],
   "source": [
    "t1=(10,20,30,40,50)\n",
    "t1"
   ]
  },
  {
   "cell_type": "code",
   "execution_count": 57,
   "id": "5733cc45-ca4d-4f6c-9cc8-ffcd2fddaec6",
   "metadata": {},
   "outputs": [
    {
     "data": {
      "text/plain": [
       "('a', 'b', 'z', 'm')"
      ]
     },
     "execution_count": 57,
     "metadata": {},
     "output_type": "execute_result"
    }
   ],
   "source": [
    "t2=('a','b','z','m')\n",
    "t2"
   ]
  },
  {
   "cell_type": "code",
   "execution_count": 61,
   "id": "ffe857c9-d4a6-4725-a860-898b62707270",
   "metadata": {},
   "outputs": [
    {
     "data": {
      "text/plain": [
       "1"
      ]
     },
     "execution_count": 61,
     "metadata": {},
     "output_type": "execute_result"
    }
   ],
   "source": [
    "t2.count('z')"
   ]
  },
  {
   "cell_type": "code",
   "execution_count": 65,
   "id": "047be923-4dfe-4eab-8131-8fd9c1f8db86",
   "metadata": {},
   "outputs": [
    {
     "data": {
      "text/plain": [
       "0"
      ]
     },
     "execution_count": 65,
     "metadata": {},
     "output_type": "execute_result"
    }
   ],
   "source": [
    "t2.index('a')"
   ]
  },
  {
   "cell_type": "code",
   "execution_count": 67,
   "id": "45b8dbe7-479c-4dae-8536-b5efc51236c7",
   "metadata": {},
   "outputs": [
    {
     "data": {
      "text/plain": [
       "10"
      ]
     },
     "execution_count": 67,
     "metadata": {},
     "output_type": "execute_result"
    }
   ],
   "source": [
    "t1[0]"
   ]
  },
  {
   "cell_type": "code",
   "execution_count": 69,
   "id": "45a1f338-f5bb-44cb-9dab-90d10b60efc4",
   "metadata": {},
   "outputs": [
    {
     "ename": "TypeError",
     "evalue": "'tuple' object does not support item assignment",
     "output_type": "error",
     "traceback": [
      "\u001b[1;31m---------------------------------------------------------------------------\u001b[0m",
      "\u001b[1;31mTypeError\u001b[0m                                 Traceback (most recent call last)",
      "Cell \u001b[1;32mIn[69], line 1\u001b[0m\n\u001b[1;32m----> 1\u001b[0m t1[\u001b[38;5;241m10\u001b[39m]\u001b[38;5;241m=\u001b[39m\u001b[38;5;241m100\u001b[39m\n",
      "\u001b[1;31mTypeError\u001b[0m: 'tuple' object does not support item assignment"
     ]
    }
   ],
   "source": [
    "t1[10]=100 # tuple is immutable"
   ]
  },
  {
   "cell_type": "code",
   "execution_count": 71,
   "id": "3a7ef4bb-a825-4377-8e0c-6af5bc97e65e",
   "metadata": {},
   "outputs": [
    {
     "ename": "AttributeError",
     "evalue": "'tuple' object has no attribute 'add'",
     "output_type": "error",
     "traceback": [
      "\u001b[1;31m---------------------------------------------------------------------------\u001b[0m",
      "\u001b[1;31mAttributeError\u001b[0m                            Traceback (most recent call last)",
      "Cell \u001b[1;32mIn[71], line 1\u001b[0m\n\u001b[1;32m----> 1\u001b[0m t1\u001b[38;5;241m.\u001b[39madd(\u001b[38;5;241m30\u001b[39m)\n",
      "\u001b[1;31mAttributeError\u001b[0m: 'tuple' object has no attribute 'add'"
     ]
    }
   ],
   "source": [
    "t1.add(30)"
   ]
  },
  {
   "cell_type": "code",
   "execution_count": 73,
   "id": "c34e07bf-b7a5-438a-b7a5-3c8a6ead4a28",
   "metadata": {},
   "outputs": [
    {
     "data": {
      "text/plain": [
       "(10, 20, 30, 40, 50)"
      ]
     },
     "execution_count": 73,
     "metadata": {},
     "output_type": "execute_result"
    }
   ],
   "source": [
    "t1"
   ]
  },
  {
   "cell_type": "code",
   "execution_count": 79,
   "id": "0951d750-230e-4571-8fa7-2f23e58e03b2",
   "metadata": {},
   "outputs": [],
   "source": [
    "hdfc=(1234,'15th april 1990',1234,'abdc123')"
   ]
  },
  {
   "cell_type": "code",
   "execution_count": 81,
   "id": "8f180935-8ca1-48b6-a265-4a23e3924871",
   "metadata": {},
   "outputs": [
    {
     "data": {
      "text/plain": [
       "(1234, '15th april 1990', 1234, 'abdc123')"
      ]
     },
     "execution_count": 81,
     "metadata": {},
     "output_type": "execute_result"
    }
   ],
   "source": [
    "hdfc"
   ]
  },
  {
   "cell_type": "code",
   "execution_count": 83,
   "id": "d8d82ae2-5d9c-4e69-b347-06204d025150",
   "metadata": {},
   "outputs": [
    {
     "ename": "TypeError",
     "evalue": "'tuple' object does not support item assignment",
     "output_type": "error",
     "traceback": [
      "\u001b[1;31m---------------------------------------------------------------------------\u001b[0m",
      "\u001b[1;31mTypeError\u001b[0m                                 Traceback (most recent call last)",
      "Cell \u001b[1;32mIn[83], line 1\u001b[0m\n\u001b[1;32m----> 1\u001b[0m hdfc[\u001b[38;5;241m0\u001b[39m] \u001b[38;5;241m=\u001b[39m \u001b[38;5;241m900\u001b[39m\n",
      "\u001b[1;31mTypeError\u001b[0m: 'tuple' object does not support item assignment"
     ]
    }
   ],
   "source": [
    "hdfc[0] = 900 # every personal info is stored in banks is stored in tuples as its immutable "
   ]
  },
  {
   "cell_type": "code",
   "execution_count": 87,
   "id": "dae68c67-9973-4161-b772-be65c3e6ab24",
   "metadata": {},
   "outputs": [
    {
     "data": {
      "text/plain": [
       "(10, 20, 30, 40, 50, 10, 20, 30, 40, 50, 10, 20, 30, 40, 50)"
      ]
     },
     "execution_count": 87,
     "metadata": {},
     "output_type": "execute_result"
    }
   ],
   "source": [
    "t3=t1*3\n",
    "t3"
   ]
  },
  {
   "cell_type": "code",
   "execution_count": 89,
   "id": "c2d5e488-84f0-4d75-a181-39fc31adffdf",
   "metadata": {},
   "outputs": [],
   "source": [
    "t1=t2"
   ]
  },
  {
   "cell_type": "code",
   "execution_count": 91,
   "id": "4ab56c59-c60c-443d-903d-d8771f75c3c9",
   "metadata": {},
   "outputs": [
    {
     "data": {
      "text/plain": [
       "('a', 'b', 'z', 'm')"
      ]
     },
     "execution_count": 91,
     "metadata": {},
     "output_type": "execute_result"
    }
   ],
   "source": [
    "t1"
   ]
  },
  {
   "cell_type": "code",
   "execution_count": 93,
   "id": "e7050d61-db21-4d95-b584-b732939e05a5",
   "metadata": {},
   "outputs": [],
   "source": [
    "t2=(10,20,30,10,40,20)"
   ]
  },
  {
   "cell_type": "code",
   "execution_count": 95,
   "id": "ac97c911-d5c0-4336-95ae-3a464218a886",
   "metadata": {},
   "outputs": [
    {
     "data": {
      "text/plain": [
       "(10, 20, 30, 10, 40, 20)"
      ]
     },
     "execution_count": 95,
     "metadata": {},
     "output_type": "execute_result"
    }
   ],
   "source": [
    "t2"
   ]
  },
  {
   "cell_type": "code",
   "execution_count": 99,
   "id": "faf7f07d-e4e9-4f35-b21c-d233b50daccb",
   "metadata": {},
   "outputs": [
    {
     "data": {
      "text/plain": [
       "30"
      ]
     },
     "execution_count": 99,
     "metadata": {},
     "output_type": "execute_result"
    }
   ],
   "source": [
    "t2[2]\n"
   ]
  },
  {
   "cell_type": "code",
   "execution_count": 101,
   "id": "8ce57915-d0aa-4ebb-ade8-6d6f50bdd4f7",
   "metadata": {},
   "outputs": [
    {
     "data": {
      "text/plain": [
       "(20, 30)"
      ]
     },
     "execution_count": 101,
     "metadata": {},
     "output_type": "execute_result"
    }
   ],
   "source": [
    "t2[1:3]"
   ]
  },
  {
   "cell_type": "markdown",
   "id": "e9cd46af-1bf0-427d-9704-2515c61071f4",
   "metadata": {},
   "source": [
    "24th April FSDS with Gen AI and Agentic AI \n",
    "Python (Data Structures_Sets)"
   ]
  },
  {
   "cell_type": "markdown",
   "id": "462112e0-a676-4a2d-9dfd-af6e61a4395b",
   "metadata": {},
   "source": [
    "SETS"
   ]
  },
  {
   "cell_type": "code",
   "execution_count": 14,
   "id": "b7ecd64e-47f3-4c4f-b8eb-2959dd959420",
   "metadata": {},
   "outputs": [
    {
     "data": {
      "text/plain": [
       "{}"
      ]
     },
     "execution_count": 14,
     "metadata": {},
     "output_type": "execute_result"
    }
   ],
   "source": [
    "s={} # set and dict is defined by flower bracets\n",
    "s"
   ]
  },
  {
   "cell_type": "code",
   "execution_count": 12,
   "id": "e781d825-d9b4-4b5a-9df2-54e295d8ef1c",
   "metadata": {},
   "outputs": [
    {
     "data": {
      "text/plain": [
       "dict"
      ]
     },
     "execution_count": 12,
     "metadata": {},
     "output_type": "execute_result"
    }
   ],
   "source": [
    "type(s) "
   ]
  },
  {
   "cell_type": "code",
   "execution_count": 18,
   "id": "1f399d87-cc86-45a7-86ea-6fe5e3e92fda",
   "metadata": {},
   "outputs": [
    {
     "data": {
      "text/plain": [
       "set"
      ]
     },
     "execution_count": 18,
     "metadata": {},
     "output_type": "execute_result"
    }
   ],
   "source": [
    "s1=set() # to define an empty set \n",
    "type(s1)"
   ]
  },
  {
   "cell_type": "code",
   "execution_count": 22,
   "id": "be80ff3e-fee7-4c98-94a9-f7fc2c082f4c",
   "metadata": {},
   "outputs": [
    {
     "data": {
      "text/plain": [
       "{10}"
      ]
     },
     "execution_count": 22,
     "metadata": {},
     "output_type": "execute_result"
    }
   ],
   "source": [
    "s1.add(10)\n",
    "s1"
   ]
  },
  {
   "cell_type": "code",
   "execution_count": 24,
   "id": "ae352cc3-2352-4bb7-b066-7bf8db293709",
   "metadata": {},
   "outputs": [
    {
     "data": {
      "text/plain": [
       "{(1+2j), 10, 20, 3.2, 'nit'}"
      ]
     },
     "execution_count": 24,
     "metadata": {},
     "output_type": "execute_result"
    }
   ],
   "source": [
    "s1.add(20)\n",
    "s1.add('nit')\n",
    "s1.add(1+2j)\n",
    "s1.add(3.2)\n",
    "s1 # if you mix the datatype you will get unoredered set"
   ]
  },
  {
   "cell_type": "code",
   "execution_count": 28,
   "id": "beb26b9a-77f4-4e0c-b767-b4328f5bfc8d",
   "metadata": {},
   "outputs": [],
   "source": [
    "s2=set()"
   ]
  },
  {
   "cell_type": "code",
   "execution_count": 42,
   "id": "3e2a7ff3-0a9f-4fd8-9914-8615f3fec07c",
   "metadata": {},
   "outputs": [
    {
     "data": {
      "text/plain": [
       "{9, 10, 100, 200}"
      ]
     },
     "execution_count": 42,
     "metadata": {},
     "output_type": "execute_result"
    }
   ],
   "source": [
    "s2.add(100)\n",
    "s2.add(200)\n",
    "s2.add(10)\n",
    "s2.add(9)\n",
    "s2 # assigning similar datatype the set will print oredered element(ascending)"
   ]
  },
  {
   "cell_type": "code",
   "execution_count": 17,
   "id": "c8b7e19a-68bf-4f95-90e9-d5fad5789d38",
   "metadata": {},
   "outputs": [
    {
     "data": {
      "text/plain": [
       "{'a', 'b', 'm', 'z'}"
      ]
     },
     "execution_count": 17,
     "metadata": {},
     "output_type": "execute_result"
    }
   ],
   "source": [
    "s3=set() # set is an ordered list  when datatype is same \n",
    "s3.add('z')\n",
    "s3.add('a')\n",
    "s3.add('m')\n",
    "s3.add('b')\n",
    "s3"
   ]
  },
  {
   "cell_type": "code",
   "execution_count": 48,
   "id": "9da9e561-637c-452f-ac78-d293dd92feaa",
   "metadata": {},
   "outputs": [
    {
     "name": "stdout",
     "output_type": "stream",
     "text": [
      "{3.2, (1+2j), 10, 20, 'nit'}\n",
      "{200, 9, 10, 100}\n",
      "{'b', 'm', 'z', 'a'}\n"
     ]
    }
   ],
   "source": [
    "print(s1)\n",
    "print(s2)\n",
    "print(s3)"
   ]
  },
  {
   "cell_type": "code",
   "execution_count": 50,
   "id": "c096d2b6-6145-4d8d-9406-d720051e5e25",
   "metadata": {},
   "outputs": [
    {
     "name": "stdout",
     "output_type": "stream",
     "text": [
      "4\n"
     ]
    }
   ],
   "source": [
    "print(len(s3))"
   ]
  },
  {
   "cell_type": "code",
   "execution_count": 52,
   "id": "5d0e9f1a-a37f-49f3-9b80-f8c14ef54863",
   "metadata": {},
   "outputs": [
    {
     "data": {
      "text/plain": [
       "{'a', 'b', 'm', 'z'}"
      ]
     },
     "execution_count": 52,
     "metadata": {},
     "output_type": "execute_result"
    }
   ],
   "source": [
    "s3"
   ]
  },
  {
   "cell_type": "code",
   "execution_count": 54,
   "id": "e0fd589d-43e2-47ea-ac2d-ac3440a5f7fb",
   "metadata": {},
   "outputs": [
    {
     "ename": "TypeError",
     "evalue": "'set' object is not subscriptable",
     "output_type": "error",
     "traceback": [
      "\u001b[1;31m---------------------------------------------------------------------------\u001b[0m",
      "\u001b[1;31mTypeError\u001b[0m                                 Traceback (most recent call last)",
      "Cell \u001b[1;32mIn[54], line 1\u001b[0m\n\u001b[1;32m----> 1\u001b[0m s3[\u001b[38;5;241m0\u001b[39m]\n",
      "\u001b[1;31mTypeError\u001b[0m: 'set' object is not subscriptable"
     ]
    }
   ],
   "source": [
    "s3[0] # in set indexing and slicing is not allowed  "
   ]
  },
  {
   "cell_type": "code",
   "execution_count": 56,
   "id": "97e69d14-b29b-4341-8142-4a3ca3512c67",
   "metadata": {},
   "outputs": [
    {
     "ename": "TypeError",
     "evalue": "'set' object is not subscriptable",
     "output_type": "error",
     "traceback": [
      "\u001b[1;31m---------------------------------------------------------------------------\u001b[0m",
      "\u001b[1;31mTypeError\u001b[0m                                 Traceback (most recent call last)",
      "Cell \u001b[1;32mIn[56], line 1\u001b[0m\n\u001b[1;32m----> 1\u001b[0m s3[:]\n",
      "\u001b[1;31mTypeError\u001b[0m: 'set' object is not subscriptable"
     ]
    }
   ],
   "source": [
    "s3[:]"
   ]
  },
  {
   "cell_type": "code",
   "execution_count": 62,
   "id": "57a5ddc8-5ef4-4924-981f-edde2d14a8d0",
   "metadata": {},
   "outputs": [],
   "source": [
    "s4=s3.copy()"
   ]
  },
  {
   "cell_type": "code",
   "execution_count": 64,
   "id": "113b7e29-6f73-4caf-a264-cb2b994673e7",
   "metadata": {},
   "outputs": [
    {
     "data": {
      "text/plain": [
       "{'a', 'b', 'm', 'z'}"
      ]
     },
     "execution_count": 64,
     "metadata": {},
     "output_type": "execute_result"
    }
   ],
   "source": [
    "s4"
   ]
  },
  {
   "cell_type": "code",
   "execution_count": 66,
   "id": "c9b6e49f-4163-41af-9860-beb290dcfe56",
   "metadata": {},
   "outputs": [
    {
     "data": {
      "text/plain": [
       "True"
      ]
     },
     "execution_count": 66,
     "metadata": {},
     "output_type": "execute_result"
    }
   ],
   "source": [
    "s3==s4"
   ]
  },
  {
   "cell_type": "code",
   "execution_count": 68,
   "id": "83beebf6-9c3b-4ef5-b035-8d411a43fd28",
   "metadata": {},
   "outputs": [],
   "source": [
    "s4.clear()"
   ]
  },
  {
   "cell_type": "code",
   "execution_count": 70,
   "id": "6fbfab2f-312c-409a-8ccb-004bed11a53e",
   "metadata": {},
   "outputs": [
    {
     "data": {
      "text/plain": [
       "set()"
      ]
     },
     "execution_count": 70,
     "metadata": {},
     "output_type": "execute_result"
    }
   ],
   "source": [
    "s4"
   ]
  },
  {
   "cell_type": "code",
   "execution_count": 72,
   "id": "036ee7b6-271e-454f-9f41-91b95c8fbfca",
   "metadata": {},
   "outputs": [],
   "source": [
    "del s4"
   ]
  },
  {
   "cell_type": "code",
   "execution_count": 74,
   "id": "3601075d-a365-45ef-a4e4-833491a4b99b",
   "metadata": {},
   "outputs": [
    {
     "ename": "NameError",
     "evalue": "name 's4' is not defined",
     "output_type": "error",
     "traceback": [
      "\u001b[1;31m---------------------------------------------------------------------------\u001b[0m",
      "\u001b[1;31mNameError\u001b[0m                                 Traceback (most recent call last)",
      "Cell \u001b[1;32mIn[74], line 1\u001b[0m\n\u001b[1;32m----> 1\u001b[0m s4\n",
      "\u001b[1;31mNameError\u001b[0m: name 's4' is not defined"
     ]
    }
   ],
   "source": [
    "s4"
   ]
  },
  {
   "cell_type": "code",
   "execution_count": 76,
   "id": "2a29ab84-8caa-484f-8458-9ada4c7d2862",
   "metadata": {},
   "outputs": [],
   "source": [
    "s4=s2.copy()"
   ]
  },
  {
   "cell_type": "code",
   "execution_count": 78,
   "id": "8cccfb10-3543-41fa-8f72-293018355e8d",
   "metadata": {},
   "outputs": [
    {
     "data": {
      "text/plain": [
       "{9, 10, 100, 200}"
      ]
     },
     "execution_count": 78,
     "metadata": {},
     "output_type": "execute_result"
    }
   ],
   "source": [
    "s4"
   ]
  },
  {
   "cell_type": "code",
   "execution_count": 80,
   "id": "ff18750d-e89c-4b04-993a-77123dd266f1",
   "metadata": {},
   "outputs": [
    {
     "data": {
      "text/plain": [
       "200"
      ]
     },
     "execution_count": 80,
     "metadata": {},
     "output_type": "execute_result"
    }
   ],
   "source": [
    "s4.pop() # pop function removes random elements/ in list  it removes the last elements "
   ]
  },
  {
   "cell_type": "code",
   "execution_count": 82,
   "id": "097dc619-ed62-4da0-b10e-527763e132de",
   "metadata": {},
   "outputs": [
    {
     "data": {
      "text/plain": [
       "{9, 10, 100}"
      ]
     },
     "execution_count": 82,
     "metadata": {},
     "output_type": "execute_result"
    }
   ],
   "source": [
    "s4"
   ]
  },
  {
   "cell_type": "code",
   "execution_count": 84,
   "id": "aa414a95-3a7d-48a1-b5ef-dd42ab56a9c8",
   "metadata": {},
   "outputs": [
    {
     "data": {
      "text/plain": [
       "9"
      ]
     },
     "execution_count": 84,
     "metadata": {},
     "output_type": "execute_result"
    }
   ],
   "source": [
    "s4.pop()"
   ]
  },
  {
   "cell_type": "code",
   "execution_count": 86,
   "id": "92e1ca65-f9f2-4c56-a7b6-ca1699bfa580",
   "metadata": {},
   "outputs": [
    {
     "data": {
      "text/plain": [
       "{10, 100}"
      ]
     },
     "execution_count": 86,
     "metadata": {},
     "output_type": "execute_result"
    }
   ],
   "source": [
    "s4"
   ]
  },
  {
   "cell_type": "code",
   "execution_count": 88,
   "id": "1083472c-4c2e-4350-b311-eb8cb19b0619",
   "metadata": {},
   "outputs": [
    {
     "ename": "TypeError",
     "evalue": "set.pop() takes no arguments (1 given)",
     "output_type": "error",
     "traceback": [
      "\u001b[1;31m---------------------------------------------------------------------------\u001b[0m",
      "\u001b[1;31mTypeError\u001b[0m                                 Traceback (most recent call last)",
      "Cell \u001b[1;32mIn[88], line 1\u001b[0m\n\u001b[1;32m----> 1\u001b[0m s1\u001b[38;5;241m.\u001b[39mpop(\u001b[38;5;241m0\u001b[39m)\n",
      "\u001b[1;31mTypeError\u001b[0m: set.pop() takes no arguments (1 given)"
     ]
    }
   ],
   "source": [
    "s1.pop(0)"
   ]
  },
  {
   "cell_type": "code",
   "execution_count": 90,
   "id": "b41f0e59-400c-424b-b39c-146191ba762f",
   "metadata": {},
   "outputs": [],
   "source": [
    "s1.remove(1+2j)"
   ]
  },
  {
   "cell_type": "code",
   "execution_count": 92,
   "id": "530c7e94-c0b2-4a95-9842-2115a38afc38",
   "metadata": {},
   "outputs": [
    {
     "data": {
      "text/plain": [
       "{10, 20, 3.2, 'nit'}"
      ]
     },
     "execution_count": 92,
     "metadata": {},
     "output_type": "execute_result"
    }
   ],
   "source": [
    "s1"
   ]
  },
  {
   "cell_type": "code",
   "execution_count": 99,
   "id": "7578352c-7ade-4a5c-85ff-27caafae9280",
   "metadata": {},
   "outputs": [
    {
     "name": "stdout",
     "output_type": "stream",
     "text": [
      "{10, 100}\n",
      "{10, 100}\n"
     ]
    }
   ],
   "source": [
    "for i in s4:\n",
    "    print(s4)"
   ]
  },
  {
   "cell_type": "code",
   "execution_count": 97,
   "id": "7a1f0fa5-fc84-4504-9a36-c38c6a8cf7c8",
   "metadata": {},
   "outputs": [
    {
     "name": "stdout",
     "output_type": "stream",
     "text": [
      "(0, 3.2)\n",
      "(1, 10)\n",
      "(2, 20)\n",
      "(3, 'nit')\n"
     ]
    }
   ],
   "source": [
    "for i in enumerate(s1): # used in computer vision in deeplearning\n",
    "    print(i)"
   ]
  },
  {
   "cell_type": "markdown",
   "id": "584e0da9-5b3d-4b2e-aaf0-2f2c3d0df525",
   "metadata": {},
   "source": [
    "Set Operations "
   ]
  },
  {
   "cell_type": "markdown",
   "id": "01415d39-f670-4edb-a6e4-335719ad47ad",
   "metadata": {},
   "source": [
    "Union operation"
   ]
  },
  {
   "cell_type": "code",
   "execution_count": 7,
   "id": "7e36b602-dbf6-4730-8bd5-aa0ff0293f9b",
   "metadata": {},
   "outputs": [],
   "source": [
    "A={1,2,3,4,5} #used in industrail industry\n",
    "# joins in SQL \n",
    "B={4,5,6,7,8}\n",
    "C={8,9,10}"
   ]
  },
  {
   "cell_type": "code",
   "execution_count": 106,
   "id": "32e56b9b-29b5-428d-a1ea-08e646348331",
   "metadata": {},
   "outputs": [
    {
     "data": {
      "text/plain": [
       "{1, 2, 3, 4, 5, 6, 7, 8}"
      ]
     },
     "execution_count": 106,
     "metadata": {},
     "output_type": "execute_result"
    }
   ],
   "source": [
    "A|B # | pipe function used to define union "
   ]
  },
  {
   "cell_type": "code",
   "execution_count": 108,
   "id": "11402387-bac2-4efc-82d3-1cee74dadce7",
   "metadata": {},
   "outputs": [
    {
     "data": {
      "text/plain": [
       "{4, 5, 6, 7, 8, 9, 10}"
      ]
     },
     "execution_count": 108,
     "metadata": {},
     "output_type": "execute_result"
    }
   ],
   "source": [
    "B.union(C)"
   ]
  },
  {
   "cell_type": "code",
   "execution_count": 110,
   "id": "bd25f6c8-c702-4b6e-ba3e-f427171005bc",
   "metadata": {},
   "outputs": [
    {
     "data": {
      "text/plain": [
       "{1, 2, 3, 4, 5, 6, 7, 8, 9, 10}"
      ]
     },
     "execution_count": 110,
     "metadata": {},
     "output_type": "execute_result"
    }
   ],
   "source": [
    "A.union(B,C)"
   ]
  },
  {
   "cell_type": "code",
   "execution_count": 112,
   "id": "da1cef2b-fa2b-4c1c-845d-ccc0d1423740",
   "metadata": {},
   "outputs": [
    {
     "data": {
      "text/plain": [
       "{1, 2, 3, 4, 5, 6, 7, 8, 9, 10}"
      ]
     },
     "execution_count": 112,
     "metadata": {},
     "output_type": "execute_result"
    }
   ],
   "source": [
    "C|B|A # set is ordered whe data types are same "
   ]
  },
  {
   "cell_type": "code",
   "execution_count": 114,
   "id": "308eaf28-4edf-4b64-a28d-8efe3b418b07",
   "metadata": {},
   "outputs": [
    {
     "data": {
      "text/plain": [
       "{8, 9, 10}"
      ]
     },
     "execution_count": 114,
     "metadata": {},
     "output_type": "execute_result"
    }
   ],
   "source": [
    "C"
   ]
  },
  {
   "cell_type": "code",
   "execution_count": 116,
   "id": "a9d36f5a-13c5-4d93-8ca2-a80ad654e5d7",
   "metadata": {},
   "outputs": [],
   "source": [
    "D=C.copy()"
   ]
  },
  {
   "cell_type": "code",
   "execution_count": 118,
   "id": "ce101200-244a-49f1-a09b-1b76492e0c5a",
   "metadata": {},
   "outputs": [
    {
     "name": "stdout",
     "output_type": "stream",
     "text": [
      "{8, 9, 10}\n",
      "{8, 9, 10}\n"
     ]
    }
   ],
   "source": [
    "print(C)\n",
    "print(D)"
   ]
  },
  {
   "cell_type": "code",
   "execution_count": 122,
   "id": "a91e00d3-b5ec-4024-bdf3-74ecda98983b",
   "metadata": {},
   "outputs": [
    {
     "data": {
      "text/plain": [
       "{8, 9, 10}"
      ]
     },
     "execution_count": 122,
     "metadata": {},
     "output_type": "execute_result"
    }
   ],
   "source": [
    "C.update(D) # duplicates are not allowed in set \n",
    "C"
   ]
  },
  {
   "cell_type": "code",
   "execution_count": 124,
   "id": "c812bd4e-1a60-4a73-adef-d4737d87d968",
   "metadata": {},
   "outputs": [],
   "source": [
    "C.update(B)"
   ]
  },
  {
   "cell_type": "code",
   "execution_count": 126,
   "id": "166ab406-26a6-4f9b-aa44-36a0b2beabeb",
   "metadata": {},
   "outputs": [
    {
     "data": {
      "text/plain": [
       "{4, 5, 6, 7, 8, 9, 10}"
      ]
     },
     "execution_count": 126,
     "metadata": {},
     "output_type": "execute_result"
    }
   ],
   "source": [
    "C"
   ]
  },
  {
   "cell_type": "markdown",
   "id": "bd013cf5-db5b-46ea-9567-9f456811bead",
   "metadata": {},
   "source": [
    "Intersection"
   ]
  },
  {
   "cell_type": "code",
   "execution_count": 129,
   "id": "8349f85e-e6a3-45b7-9507-b03213689412",
   "metadata": {},
   "outputs": [
    {
     "name": "stdout",
     "output_type": "stream",
     "text": [
      "{1, 2, 3, 4, 5}\n",
      "{4, 5, 6, 7, 8}\n",
      "{4, 5, 6, 7, 8, 9, 10}\n"
     ]
    }
   ],
   "source": [
    "print(A)\n",
    "print(B)\n",
    "print(C)"
   ]
  },
  {
   "cell_type": "code",
   "execution_count": 131,
   "id": "65c71b16-4295-4076-90b4-7d80d973ab63",
   "metadata": {},
   "outputs": [
    {
     "data": {
      "text/plain": [
       "{4, 5}"
      ]
     },
     "execution_count": 131,
     "metadata": {},
     "output_type": "execute_result"
    }
   ],
   "source": [
    "A&B"
   ]
  },
  {
   "cell_type": "code",
   "execution_count": 133,
   "id": "2071bbea-663d-4c6d-954d-ea0fc60bcff9",
   "metadata": {},
   "outputs": [
    {
     "data": {
      "text/plain": [
       "{4, 5}"
      ]
     },
     "execution_count": 133,
     "metadata": {},
     "output_type": "execute_result"
    }
   ],
   "source": [
    "B.intersection(A)"
   ]
  },
  {
   "cell_type": "code",
   "execution_count": 135,
   "id": "bd6687b0-362f-4c6a-8cf5-f5ea676f726a",
   "metadata": {},
   "outputs": [
    {
     "data": {
      "text/plain": [
       "{4, 5, 6, 7, 8}"
      ]
     },
     "execution_count": 135,
     "metadata": {},
     "output_type": "execute_result"
    }
   ],
   "source": [
    "B.intersection(C)"
   ]
  },
  {
   "cell_type": "code",
   "execution_count": 137,
   "id": "410d066c-9846-42fe-bf25-8e86497708ee",
   "metadata": {},
   "outputs": [
    {
     "data": {
      "text/plain": [
       "{4, 5}"
      ]
     },
     "execution_count": 137,
     "metadata": {},
     "output_type": "execute_result"
    }
   ],
   "source": [
    "A&B&C"
   ]
  },
  {
   "cell_type": "code",
   "execution_count": 139,
   "id": "3b5b6bb9-4aba-405a-9614-5ecd1b1d9e73",
   "metadata": {},
   "outputs": [
    {
     "name": "stdout",
     "output_type": "stream",
     "text": [
      "{1, 2, 3, 4, 5}\n",
      "{4, 5, 6, 7, 8}\n",
      "{4, 5, 6, 7, 8, 9, 10}\n"
     ]
    }
   ],
   "source": [
    "print(A)\n",
    "print(B)\n",
    "print(C)"
   ]
  },
  {
   "cell_type": "code",
   "execution_count": 141,
   "id": "a47dcdfb-fc1e-4b5b-a50d-d5378ab18ae4",
   "metadata": {},
   "outputs": [
    {
     "data": {
      "text/plain": [
       "{1, 2, 3}"
      ]
     },
     "execution_count": 141,
     "metadata": {},
     "output_type": "execute_result"
    }
   ],
   "source": [
    "A-B"
   ]
  },
  {
   "cell_type": "code",
   "execution_count": 143,
   "id": "4613dd1d-095c-4604-af83-b9741d946354",
   "metadata": {},
   "outputs": [
    {
     "data": {
      "text/plain": [
       "set()"
      ]
     },
     "execution_count": 143,
     "metadata": {},
     "output_type": "execute_result"
    }
   ],
   "source": [
    "B-C"
   ]
  },
  {
   "cell_type": "code",
   "execution_count": 145,
   "id": "5fe65d5e-0dec-489b-afb9-52cd8f1816f2",
   "metadata": {},
   "outputs": [
    {
     "data": {
      "text/plain": [
       "{9, 10}"
      ]
     },
     "execution_count": 145,
     "metadata": {},
     "output_type": "execute_result"
    }
   ],
   "source": [
    "C-B"
   ]
  },
  {
   "cell_type": "code",
   "execution_count": 149,
   "id": "fb5559b5-157e-4616-b023-91f400eeb9bd",
   "metadata": {},
   "outputs": [
    {
     "data": {
      "text/plain": [
       "{6, 7, 8, 9, 10}"
      ]
     },
     "execution_count": 149,
     "metadata": {},
     "output_type": "execute_result"
    }
   ],
   "source": [
    "C.difference(A)"
   ]
  },
  {
   "cell_type": "markdown",
   "id": "8c4747da-c044-457f-b8d0-03ebf47b3c5c",
   "metadata": {},
   "source": [
    "25th April FSDS with Gen AI and Agentic AI \n",
    "Python (Data Structures_Sets)"
   ]
  },
  {
   "cell_type": "markdown",
   "id": "ef3e93e3-8457-4333-8259-7bd41ae20a42",
   "metadata": {},
   "source": [
    "SET_OPERATION_2"
   ]
  },
  {
   "cell_type": "code",
   "execution_count": 9,
   "id": "fe86dfbc-2a24-4e4e-b56d-1a39d6eb21ab",
   "metadata": {},
   "outputs": [
    {
     "name": "stdout",
     "output_type": "stream",
     "text": [
      "{1, 2, 3, 4, 5}\n",
      "{4, 5, 6, 7, 8}\n",
      "{8, 9, 10}\n"
     ]
    }
   ],
   "source": [
    "print(A)\n",
    "print(B)\n",
    "print(C)"
   ]
  },
  {
   "cell_type": "code",
   "execution_count": 11,
   "id": "a46b6903-b795-4167-a0f2-23e227c2c596",
   "metadata": {},
   "outputs": [
    {
     "data": {
      "text/plain": [
       "{1, 2, 3}"
      ]
     },
     "execution_count": 11,
     "metadata": {},
     "output_type": "execute_result"
    }
   ],
   "source": [
    "A.difference(B)# prints left side elements without common elements "
   ]
  },
  {
   "cell_type": "code",
   "execution_count": 13,
   "id": "06eb7499-ba3f-4720-8f06-a22e42276ede",
   "metadata": {},
   "outputs": [
    {
     "data": {
      "text/plain": [
       "{1, 2, 3, 6, 7, 8}"
      ]
     },
     "execution_count": 13,
     "metadata": {},
     "output_type": "execute_result"
    }
   ],
   "source": [
    "A.symmetric_difference(B) #doesnt print the common elements and prints both the side elements "
   ]
  },
  {
   "cell_type": "code",
   "execution_count": 31,
   "id": "11f4094f-7904-4fba-98c0-49a5c1c8abad",
   "metadata": {},
   "outputs": [
    {
     "data": {
      "text/plain": [
       "{1, 2, 3, 4, 5, 8, 9, 10}"
      ]
     },
     "execution_count": 31,
     "metadata": {},
     "output_type": "execute_result"
    }
   ],
   "source": [
    "A^C"
   ]
  },
  {
   "cell_type": "code",
   "execution_count": 19,
   "id": "e35218ce-639c-4d0d-897d-440175aebe7a",
   "metadata": {},
   "outputs": [
    {
     "data": {
      "text/plain": [
       "{'a', 'b', 'm', 'z'}"
      ]
     },
     "execution_count": 19,
     "metadata": {},
     "output_type": "execute_result"
    }
   ],
   "source": [
    "s3"
   ]
  },
  {
   "cell_type": "code",
   "execution_count": 21,
   "id": "6f744598-a5ce-4f09-b12f-1cb0034fcf1e",
   "metadata": {},
   "outputs": [
    {
     "ename": "KeyError",
     "evalue": "'x'",
     "output_type": "error",
     "traceback": [
      "\u001b[1;31m---------------------------------------------------------------------------\u001b[0m",
      "\u001b[1;31mKeyError\u001b[0m                                  Traceback (most recent call last)",
      "Cell \u001b[1;32mIn[21], line 1\u001b[0m\n\u001b[1;32m----> 1\u001b[0m s3\u001b[38;5;241m.\u001b[39mremove(\u001b[38;5;124m'\u001b[39m\u001b[38;5;124mx\u001b[39m\u001b[38;5;124m'\u001b[39m)\n",
      "\u001b[1;31mKeyError\u001b[0m: 'x'"
     ]
    }
   ],
   "source": [
    "s3.remove('x') # the elements should exist to remove the element"
   ]
  },
  {
   "cell_type": "code",
   "execution_count": 23,
   "id": "c09c62a8-c62d-4c11-8a54-1231803f12b5",
   "metadata": {},
   "outputs": [],
   "source": [
    "s3.discard('x') # discard function we dont get error even if the element doesnt exist "
   ]
  },
  {
   "cell_type": "code",
   "execution_count": 25,
   "id": "ed62bbac-486c-47b0-bf81-819914a8b9bf",
   "metadata": {},
   "outputs": [
    {
     "data": {
      "text/plain": [
       "{'a', 'b', 'm', 'z'}"
      ]
     },
     "execution_count": 25,
     "metadata": {},
     "output_type": "execute_result"
    }
   ],
   "source": [
    "s3"
   ]
  },
  {
   "cell_type": "code",
   "execution_count": 27,
   "id": "0840070a-a915-499e-9852-2f6e781daad7",
   "metadata": {},
   "outputs": [
    {
     "data": {
      "text/plain": [
       "{'a', 'b', 'm'}"
      ]
     },
     "execution_count": 27,
     "metadata": {},
     "output_type": "execute_result"
    }
   ],
   "source": [
    "s3.discard('z')\n",
    "s3"
   ]
  },
  {
   "cell_type": "markdown",
   "id": "3b002e01-e05e-489c-996b-c7d21f1249a9",
   "metadata": {},
   "source": [
    "#SUPERSET\n",
    "#SUBSET\n",
    "#DISJOINT"
   ]
  },
  {
   "cell_type": "code",
   "execution_count": 59,
   "id": "3dcb638b-2718-4cf0-8daa-eaa389641d80",
   "metadata": {},
   "outputs": [],
   "source": [
    "a9={1,2,3,4,5,6,7,8,9}\n",
    "b9={3,4,5,6,7,8}\n",
    "c9={10,20,30,40}"
   ]
  },
  {
   "cell_type": "code",
   "execution_count": 45,
   "id": "0639a451-bc12-4e4a-a3f4-aeab91a420cd",
   "metadata": {},
   "outputs": [
    {
     "name": "stdout",
     "output_type": "stream",
     "text": [
      "{1, 2, 3, 4, 5, 6, 7, 8, 9}\n",
      "{3, 4, 5, 6, 7, 8}\n",
      "{40, 10, 20, 30}\n"
     ]
    }
   ],
   "source": [
    "print(a9)\n",
    "print(b9)\n",
    "print(c9)"
   ]
  },
  {
   "cell_type": "code",
   "execution_count": 47,
   "id": "45e96d6e-ba0c-4563-ae18-5210a798a3aa",
   "metadata": {},
   "outputs": [
    {
     "data": {
      "text/plain": [
       "True"
      ]
     },
     "execution_count": 47,
     "metadata": {},
     "output_type": "execute_result"
    }
   ],
   "source": [
    "a9.issuperset(b9)"
   ]
  },
  {
   "cell_type": "code",
   "execution_count": 49,
   "id": "94f6b8d0-cdef-44d6-9522-af03a4900f1e",
   "metadata": {},
   "outputs": [
    {
     "data": {
      "text/plain": [
       "True"
      ]
     },
     "execution_count": 49,
     "metadata": {},
     "output_type": "execute_result"
    }
   ],
   "source": [
    "b9.issubset(a9)"
   ]
  },
  {
   "cell_type": "code",
   "execution_count": 51,
   "id": "c5ef5985-8db9-4a49-8cd1-8ac90eeea89a",
   "metadata": {},
   "outputs": [
    {
     "data": {
      "text/plain": [
       "True"
      ]
     },
     "execution_count": 51,
     "metadata": {},
     "output_type": "execute_result"
    }
   ],
   "source": [
    "c9.isdisjoint(a9)"
   ]
  },
  {
   "cell_type": "code",
   "execution_count": 72,
   "id": "361e005a-c389-4973-8bd0-403749c4d6f6",
   "metadata": {},
   "outputs": [],
   "source": [
    "a8={1,2,3,4,5,6}\n",
    "b8={7,8,9}\n",
    "c8={10,20,30,40}"
   ]
  },
  {
   "cell_type": "code",
   "execution_count": 57,
   "id": "e850114c-47c6-4801-98e8-67a5f46176e4",
   "metadata": {},
   "outputs": [
    {
     "data": {
      "text/plain": [
       "False"
      ]
     },
     "execution_count": 57,
     "metadata": {},
     "output_type": "execute_result"
    }
   ],
   "source": [
    "a8.issuperset(b8)"
   ]
  },
  {
   "cell_type": "code",
   "execution_count": 61,
   "id": "c611fe88-b636-4fae-81e4-bb103aa8d8f7",
   "metadata": {},
   "outputs": [
    {
     "data": {
      "text/plain": [
       "False"
      ]
     },
     "execution_count": 61,
     "metadata": {},
     "output_type": "execute_result"
    }
   ],
   "source": [
    "b8.issubset(a8)"
   ]
  },
  {
   "cell_type": "code",
   "execution_count": 74,
   "id": "5866dc9e-7d00-426e-93c4-ff27c04798de",
   "metadata": {},
   "outputs": [
    {
     "data": {
      "text/plain": [
       "True"
      ]
     },
     "execution_count": 74,
     "metadata": {},
     "output_type": "execute_result"
    }
   ],
   "source": [
    "c8.isdisjoint(a8)"
   ]
  },
  {
   "cell_type": "markdown",
   "id": "8d7b04ea-ff3e-4625-84b5-bc35fd4c3862",
   "metadata": {},
   "source": [
    "Dictionary"
   ]
  },
  {
   "cell_type": "code",
   "execution_count": 76,
   "id": "c65c31cc-e621-430c-b67a-be26fda011c9",
   "metadata": {},
   "outputs": [],
   "source": [
    "#represented as key:value ,key cannot have duplicates but values can be duplicated "
   ]
  },
  {
   "cell_type": "code",
   "execution_count": 80,
   "id": "aeac8a0e-81a5-441f-8b07-1f39eba61ade",
   "metadata": {},
   "outputs": [
    {
     "data": {
      "text/plain": [
       "dict"
      ]
     },
     "execution_count": 80,
     "metadata": {},
     "output_type": "execute_result"
    }
   ],
   "source": [
    "d={}\n",
    "type(d)"
   ]
  },
  {
   "cell_type": "code",
   "execution_count": 82,
   "id": "660759b1-5081-4566-914e-37bc632505d1",
   "metadata": {},
   "outputs": [],
   "source": [
    "#dictionary is a mutable datatype in python "
   ]
  },
  {
   "cell_type": "code",
   "execution_count": 86,
   "id": "3ec013cc-ffc6-4770-a4ce-b269dbfae8e5",
   "metadata": {},
   "outputs": [
    {
     "data": {
      "text/plain": [
       "{1: 'one', 2: 'two', 3: 'three', 4: 'four'}"
      ]
     },
     "execution_count": 86,
     "metadata": {},
     "output_type": "execute_result"
    }
   ],
   "source": [
    "d={1:'one',2:'two',3:'three',4:'four'}\n",
    "d"
   ]
  },
  {
   "cell_type": "code",
   "execution_count": 88,
   "id": "097073c0-bb8a-4d78-8122-6a60ec80bb24",
   "metadata": {},
   "outputs": [
    {
     "data": {
      "text/plain": [
       "dict_keys([1, 2, 3, 4])"
      ]
     },
     "execution_count": 88,
     "metadata": {},
     "output_type": "execute_result"
    }
   ],
   "source": [
    "d.keys()"
   ]
  },
  {
   "cell_type": "code",
   "execution_count": 90,
   "id": "32e36278-3814-447c-ac75-79374a10fe9d",
   "metadata": {},
   "outputs": [
    {
     "data": {
      "text/plain": [
       "dict_values(['one', 'two', 'three', 'four'])"
      ]
     },
     "execution_count": 90,
     "metadata": {},
     "output_type": "execute_result"
    }
   ],
   "source": [
    "d.values()"
   ]
  },
  {
   "cell_type": "code",
   "execution_count": 92,
   "id": "edc5dae7-8e67-479b-b930-abb575c5a6f5",
   "metadata": {},
   "outputs": [
    {
     "data": {
      "text/plain": [
       "dict_items([(1, 'one'), (2, 'two'), (3, 'three'), (4, 'four')])"
      ]
     },
     "execution_count": 92,
     "metadata": {},
     "output_type": "execute_result"
    }
   ],
   "source": [
    "d.items()"
   ]
  },
  {
   "cell_type": "code",
   "execution_count": 94,
   "id": "6191fabe-9744-4a18-940e-86385b3f85ac",
   "metadata": {},
   "outputs": [
    {
     "data": {
      "text/plain": [
       "4"
      ]
     },
     "execution_count": 94,
     "metadata": {},
     "output_type": "execute_result"
    }
   ],
   "source": [
    "len(d)"
   ]
  },
  {
   "cell_type": "code",
   "execution_count": 96,
   "id": "dcfe13f1-09c4-4eb1-bc66-39e084896226",
   "metadata": {},
   "outputs": [
    {
     "data": {
      "text/plain": [
       "'one'"
      ]
     },
     "execution_count": 96,
     "metadata": {},
     "output_type": "execute_result"
    }
   ],
   "source": [
    "d[1]"
   ]
  },
  {
   "cell_type": "code",
   "execution_count": 98,
   "id": "e53a304f-fb60-45ac-973d-3db16dc6c6ae",
   "metadata": {},
   "outputs": [
    {
     "data": {
      "text/plain": [
       "'four'"
      ]
     },
     "execution_count": 98,
     "metadata": {},
     "output_type": "execute_result"
    }
   ],
   "source": [
    "d[4]"
   ]
  },
  {
   "cell_type": "code",
   "execution_count": 100,
   "id": "99c5c483-3004-4123-b458-0cc7d02380b5",
   "metadata": {},
   "outputs": [
    {
     "data": {
      "text/plain": [
       "{1: 'one', 2: 'two', 3: 'three', 4: 'four'}"
      ]
     },
     "execution_count": 100,
     "metadata": {},
     "output_type": "execute_result"
    }
   ],
   "source": [
    "d"
   ]
  },
  {
   "cell_type": "code",
   "execution_count": 104,
   "id": "13f22ab6-2ca7-43f8-91a5-94b8942dff89",
   "metadata": {},
   "outputs": [
    {
     "data": {
      "text/plain": [
       "'one'"
      ]
     },
     "execution_count": 104,
     "metadata": {},
     "output_type": "execute_result"
    }
   ],
   "source": [
    "d.get(1)"
   ]
  },
  {
   "cell_type": "code",
   "execution_count": 110,
   "id": "883abc17-7d24-4dc7-8fef-524df5a491e7",
   "metadata": {},
   "outputs": [],
   "source": [
    "d.get('one')# we cant get keys with value, key is priority"
   ]
  },
  {
   "cell_type": "code",
   "execution_count": 112,
   "id": "68acfc2d-85c9-40a2-993b-9939b7bcee03",
   "metadata": {},
   "outputs": [],
   "source": [
    "d1=d.copy()"
   ]
  },
  {
   "cell_type": "code",
   "execution_count": 114,
   "id": "48185b51-63b8-4bf5-9ee8-af88238f60ac",
   "metadata": {},
   "outputs": [
    {
     "data": {
      "text/plain": [
       "{1: 'one', 2: 'two', 3: 'three', 4: 'four'}"
      ]
     },
     "execution_count": 114,
     "metadata": {},
     "output_type": "execute_result"
    }
   ],
   "source": [
    "d1"
   ]
  },
  {
   "cell_type": "code",
   "execution_count": 118,
   "id": "803f80f8-2efa-45f3-9ce9-8879746ee251",
   "metadata": {},
   "outputs": [
    {
     "data": {
      "text/plain": [
       "'one'"
      ]
     },
     "execution_count": 118,
     "metadata": {},
     "output_type": "execute_result"
    }
   ],
   "source": [
    "d1.pop(1)"
   ]
  },
  {
   "cell_type": "code",
   "execution_count": 120,
   "id": "3696f0bf-1dd6-46ea-8685-37500aafcd6e",
   "metadata": {},
   "outputs": [
    {
     "data": {
      "text/plain": [
       "{2: 'two', 3: 'three', 4: 'four'}"
      ]
     },
     "execution_count": 120,
     "metadata": {},
     "output_type": "execute_result"
    }
   ],
   "source": [
    "d1"
   ]
  },
  {
   "cell_type": "code",
   "execution_count": 122,
   "id": "7cde238f-7a71-4666-b6fe-a85dd9875e3e",
   "metadata": {},
   "outputs": [
    {
     "data": {
      "text/plain": [
       "(4, 'four')"
      ]
     },
     "execution_count": 122,
     "metadata": {},
     "output_type": "execute_result"
    }
   ],
   "source": [
    "d1.popitem()"
   ]
  },
  {
   "cell_type": "code",
   "execution_count": 124,
   "id": "88c73ca9-6fbc-4fe1-ba4e-7f89c2a0736b",
   "metadata": {},
   "outputs": [
    {
     "data": {
      "text/plain": [
       "{2: 'two', 3: 'three'}"
      ]
     },
     "execution_count": 124,
     "metadata": {},
     "output_type": "execute_result"
    }
   ],
   "source": [
    "d1"
   ]
  },
  {
   "cell_type": "code",
   "execution_count": 126,
   "id": "fb856c8c-2239-448d-8708-d289cd40ddc3",
   "metadata": {},
   "outputs": [
    {
     "data": {
      "text/plain": [
       "{1: 'one', 2: 'two', 3: 'three', 4: 'four'}"
      ]
     },
     "execution_count": 126,
     "metadata": {},
     "output_type": "execute_result"
    }
   ],
   "source": [
    "d"
   ]
  },
  {
   "cell_type": "code",
   "execution_count": 128,
   "id": "5e940b4f-6a04-4465-ac06-b55664118d85",
   "metadata": {},
   "outputs": [
    {
     "name": "stdout",
     "output_type": "stream",
     "text": [
      "1\n",
      "2\n",
      "3\n",
      "4\n"
     ]
    }
   ],
   "source": [
    "for i in d:\n",
    "    print(i)"
   ]
  },
  {
   "cell_type": "code",
   "execution_count": 132,
   "id": "4f67ed70-3b0f-4c09-ad0d-1b6d340a2e40",
   "metadata": {},
   "outputs": [
    {
     "name": "stdout",
     "output_type": "stream",
     "text": [
      "1 : one\n",
      "2 : two\n",
      "3 : three\n",
      "4 : four\n"
     ]
    }
   ],
   "source": [
    "for i in d:\n",
    "    print(i,':',d[i])"
   ]
  },
  {
   "cell_type": "code",
   "execution_count": 134,
   "id": "c4bf23fb-27da-4a9d-8ec0-a8a5dbe9d420",
   "metadata": {},
   "outputs": [
    {
     "name": "stdout",
     "output_type": "stream",
     "text": [
      "1 : {1: 'one', 2: 'two', 3: 'three', 4: 'four'}\n",
      "2 : {1: 'one', 2: 'two', 3: 'three', 4: 'four'}\n",
      "3 : {1: 'one', 2: 'two', 3: 'three', 4: 'four'}\n",
      "4 : {1: 'one', 2: 'two', 3: 'three', 4: 'four'}\n"
     ]
    }
   ],
   "source": [
    "for i in d:\n",
    "    print(i,':',d)"
   ]
  },
  {
   "cell_type": "markdown",
   "id": "778d36cb-978d-478b-9276-c61110fc8e9c",
   "metadata": {},
   "source": [
    "RANGE"
   ]
  },
  {
   "cell_type": "code",
   "execution_count": 137,
   "id": "83f27d72-ef68-4299-84c7-bb3fc88002a9",
   "metadata": {},
   "outputs": [
    {
     "data": {
      "text/plain": [
       "range(0, 10)"
      ]
     },
     "execution_count": 137,
     "metadata": {},
     "output_type": "execute_result"
    }
   ],
   "source": [
    "range(10)"
   ]
  },
  {
   "cell_type": "code",
   "execution_count": 139,
   "id": "f7dbbf6e-5cce-46d6-9967-ea997035004d",
   "metadata": {},
   "outputs": [
    {
     "data": {
      "text/plain": [
       "range(0, 10)"
      ]
     },
     "execution_count": 139,
     "metadata": {},
     "output_type": "execute_result"
    }
   ],
   "source": [
    "r=range(10)\n",
    "r"
   ]
  },
  {
   "cell_type": "code",
   "execution_count": 141,
   "id": "7ac04d5d-f4d5-4c4b-bd7c-e79301a1a635",
   "metadata": {},
   "outputs": [
    {
     "name": "stdout",
     "output_type": "stream",
     "text": [
      "0\n",
      "1\n",
      "2\n",
      "3\n",
      "4\n",
      "5\n",
      "6\n",
      "7\n",
      "8\n",
      "9\n"
     ]
    }
   ],
   "source": [
    "for i in r:\n",
    "    print(i)"
   ]
  },
  {
   "cell_type": "code",
   "execution_count": 143,
   "id": "91ae58da-9bd8-4e2c-8d79-d67dec1901c6",
   "metadata": {},
   "outputs": [
    {
     "data": {
      "text/plain": [
       "list[range(0, 10)]"
      ]
     },
     "execution_count": 143,
     "metadata": {},
     "output_type": "execute_result"
    }
   ],
   "source": [
    "list [r]"
   ]
  },
  {
   "cell_type": "code",
   "execution_count": 145,
   "id": "b9a458c0-bbc8-47a9-8c7e-3cf1fa0b24f9",
   "metadata": {},
   "outputs": [
    {
     "data": {
      "text/plain": [
       "[0, 1, 2, 3, 4, 5, 6, 7, 8, 9]"
      ]
     },
     "execution_count": 145,
     "metadata": {},
     "output_type": "execute_result"
    }
   ],
   "source": [
    "list(r)"
   ]
  },
  {
   "cell_type": "code",
   "execution_count": 147,
   "id": "e1747ee0-8774-4bc7-b5e9-e07656673f19",
   "metadata": {},
   "outputs": [],
   "source": [
    "r1=range(10,20)"
   ]
  },
  {
   "cell_type": "code",
   "execution_count": 149,
   "id": "1acfbbb5-0571-4a34-8c84-a867d128b2ab",
   "metadata": {},
   "outputs": [
    {
     "data": {
      "text/plain": [
       "range(10, 20)"
      ]
     },
     "execution_count": 149,
     "metadata": {},
     "output_type": "execute_result"
    }
   ],
   "source": [
    "r1"
   ]
  },
  {
   "cell_type": "code",
   "execution_count": 151,
   "id": "f0bf1362-678e-49df-b074-2445f42b4230",
   "metadata": {},
   "outputs": [
    {
     "data": {
      "text/plain": [
       "[10, 11, 12, 13, 14, 15, 16, 17, 18, 19]"
      ]
     },
     "execution_count": 151,
     "metadata": {},
     "output_type": "execute_result"
    }
   ],
   "source": [
    "list(r1)"
   ]
  },
  {
   "cell_type": "code",
   "execution_count": 153,
   "id": "d6fe4905-895a-4f90-b339-e6ff340f36d9",
   "metadata": {},
   "outputs": [
    {
     "data": {
      "text/plain": [
       "[0, 1, 2, 3, 4, 5, 6, 7, 8, 9]"
      ]
     },
     "execution_count": 153,
     "metadata": {},
     "output_type": "execute_result"
    }
   ],
   "source": [
    "list(range(0,10))"
   ]
  },
  {
   "cell_type": "code",
   "execution_count": 157,
   "id": "ecd63cf2-21e1-4434-a794-e31b360fa06b",
   "metadata": {},
   "outputs": [
    {
     "data": {
      "text/plain": [
       "[10, 11, 12, 13, 14, 15, 16, 17, 18, 19]"
      ]
     },
     "execution_count": 157,
     "metadata": {},
     "output_type": "execute_result"
    }
   ],
   "source": [
    "list(range(10,20))"
   ]
  },
  {
   "cell_type": "code",
   "execution_count": 167,
   "id": "c01959a6-4396-43ee-b9e1-5884c0da0b32",
   "metadata": {},
   "outputs": [
    {
     "data": {
      "text/plain": [
       "[10, 20, 30, 40, 50, 60, 70, 80, 90]"
      ]
     },
     "execution_count": 167,
     "metadata": {},
     "output_type": "execute_result"
    }
   ],
   "source": [
    "list(range(10,100,10)) # step coun"
   ]
  },
  {
   "cell_type": "code",
   "execution_count": null,
   "id": "a7acca3d-73f6-4bfa-89a8-e12129e84f5c",
   "metadata": {},
   "outputs": [],
   "source": []
  }
 ],
 "metadata": {
  "kernelspec": {
   "display_name": "Python 3 (ipykernel)",
   "language": "python",
   "name": "python3"
  },
  "language_info": {
   "codemirror_mode": {
    "name": "ipython",
    "version": 3
   },
   "file_extension": ".py",
   "mimetype": "text/x-python",
   "name": "python",
   "nbconvert_exporter": "python",
   "pygments_lexer": "ipython3",
   "version": "3.12.4"
  }
 },
 "nbformat": 4,
 "nbformat_minor": 5
}
