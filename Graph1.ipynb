{
 "cells": [
  {
   "cell_type": "code",
   "execution_count": 4,
   "id": "061bf3a6",
   "metadata": {},
   "outputs": [],
   "source": [
    "#!pip install langgraph langsmith langchain_groq langchain_community \n",
    "#Langchain architecture Installed"
   ]
  },
  {
   "cell_type": "code",
   "execution_count": 5,
   "id": "ccc3f3f5",
   "metadata": {},
   "outputs": [],
   "source": [
    "groq_api_key=\"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\""
   ]
  },
  {
   "cell_type": "code",
   "execution_count": 6,
   "id": "22116ed4",
   "metadata": {},
   "outputs": [],
   "source": [
    "from langchain_groq import ChatGroq"
   ]
  },
  {
   "cell_type": "code",
   "execution_count": 8,
   "id": "0fcaad86",
   "metadata": {},
   "outputs": [],
   "source": [
    "llm=ChatGroq(groq_api_key=groq_api_key,model_name=\"gemma2-9b-it\")"
   ]
  },
  {
   "cell_type": "code",
   "execution_count": 10,
   "id": "4b0c3f87",
   "metadata": {},
   "outputs": [],
   "source": [
    "from typing import Annotated\n",
    "from typing_extensions import TypedDict\n",
    "from langgraph.graph.message import add_messages\n",
    "from langgraph.graph import StateGraph,START,END"
   ]
  },
  {
   "cell_type": "code",
   "execution_count": 11,
   "id": "0dc57195",
   "metadata": {},
   "outputs": [],
   "source": [
    "class State(TypedDict):\n",
    "    messages:Annotated[list,add_messages]\n",
    "\n",
    "graph_builder=StateGraph(State)"
   ]
  },
  {
   "cell_type": "code",
   "execution_count": 12,
   "id": "e43f0cd3",
   "metadata": {},
   "outputs": [
    {
     "data": {
      "text/plain": [
       "<langgraph.graph.state.StateGraph at 0x16654a0b890>"
      ]
     },
     "execution_count": 12,
     "metadata": {},
     "output_type": "execute_result"
    }
   ],
   "source": [
    "graph_builder"
   ]
  },
  {
   "cell_type": "code",
   "execution_count": 14,
   "id": "2f1dc98a",
   "metadata": {},
   "outputs": [],
   "source": [
    "def chatbot(state:State):\n",
    "    return{\"messages\":llm.invoke(state['messages'])}"
   ]
  },
  {
   "cell_type": "code",
   "execution_count": 15,
   "id": "4bd2725f",
   "metadata": {},
   "outputs": [
    {
     "data": {
      "text/plain": [
       "<langgraph.graph.state.StateGraph at 0x16654a0b890>"
      ]
     },
     "execution_count": 15,
     "metadata": {},
     "output_type": "execute_result"
    }
   ],
   "source": [
    "graph_builder.add_node('chatbot',chatbot)"
   ]
  },
  {
   "cell_type": "code",
   "execution_count": 16,
   "id": "4c9802eb",
   "metadata": {},
   "outputs": [
    {
     "data": {
      "text/plain": [
       "<langgraph.graph.state.StateGraph at 0x16654a0b890>"
      ]
     },
     "execution_count": 16,
     "metadata": {},
     "output_type": "execute_result"
    }
   ],
   "source": [
    "graph_builder"
   ]
  },
  {
   "cell_type": "code",
   "execution_count": 17,
   "id": "29b97e65",
   "metadata": {},
   "outputs": [
    {
     "data": {
      "text/plain": [
       "<langgraph.graph.state.StateGraph at 0x16654a0b890>"
      ]
     },
     "execution_count": 17,
     "metadata": {},
     "output_type": "execute_result"
    }
   ],
   "source": [
    "graph_builder.add_edge(START,'chatbot')\n",
    "graph_builder.add_edge('chatbot',END)"
   ]
  },
  {
   "cell_type": "code",
   "execution_count": 18,
   "id": "ac17a602",
   "metadata": {},
   "outputs": [
    {
     "data": {
      "image/png": "[encoded data removed]",
      "text/plain": [
       "<langgraph.graph.state.CompiledStateGraph object at 0x000001665481F830>"
      ]
     },
     "execution_count": 18,
     "metadata": {},
     "output_type": "execute_result"
    }
   ],
   "source": [
    "graph_builder.compile()"
   ]
  },
  {
   "cell_type": "code",
   "execution_count": 19,
   "id": "c9a9e05f",
   "metadata": {},
   "outputs": [],
   "source": [
    "graph=graph_builder.compile()"
   ]
  },
  {
   "cell_type": "code",
   "execution_count": 21,
   "id": "413dfced",
   "metadata": {},
   "outputs": [
    {
     "name": "stdout",
     "output_type": "stream",
     "text": [
      "dict_values([{'messages': AIMessage(content=\"It's exciting to think about the generative AI job openings of 2025!  While predicting the future is always tricky, here are some roles I anticipate will be in high demand based on current trends:\\n\\n**Directly Working with Generative AI:**\\n\\n* **Generative AI Trainer/Prompt Engineer:** These specialists will focus on refining and optimizing the performance of generative AI models by crafting effective prompts and providing curated training data.\\n* **AI Ethicist/AI Safety Engineer:** As AI becomes more powerful, ensuring responsible and ethical development and deployment will be crucial. These roles will focus on mitigating bias, preventing misuse, and ensuring transparency in AI systems.\\n* **Generative AI Architect/System Designer:**  These individuals will design and build the infrastructure and workflows needed to integrate generative AI into various applications and industries.\\n* **AI-Powered Content Creator:**  Writers, artists, musicians, and designers will leverage generative AI tools to augment their creative processes, leading to new hybrid roles that blend human ingenuity with AI assistance.\\n\\n**Supporting Industries Powered by Generative AI:**\\n\\n* **Data Annotation Specialist for Generative AI:**  Training data is the lifeblood of generative AI. These specialists will label and categorize data to improve the accuracy and performance of AI models.\\n* **Generative AI Product Manager:**  These individuals will bridge the gap between technical development and market needs, defining product roadmaps and strategies for AI-powered solutions.\\n* **AI-Driven Marketing and Sales Specialist:**  Generative AI can personalize marketing campaigns, generate creative content, and improve customer interactions, creating new opportunities in these fields.\\n* **AI-Powered Customer Service Representative:**  Chatbots and virtual assistants will become more sophisticated, requiring specialists to train and manage these AI-powered customer service agents.\\n\\n**Important Considerations:**\\n\\n* **Continuous Learning:** The field of generative AI is rapidly evolving. Professionals will need to embrace lifelong learning and adapt to new tools and technologies.\\n* **Interdisciplinary Skills:**  Success in this field will often require a blend of technical expertise (e.g., programming, data science) and domain knowledge (e.g., marketing, design, healthcare).\\n* **Ethical Awareness:**  As AI becomes more integrated into our lives, it's crucial to develop a strong ethical framework and consider the potential societal impacts of generative AI.\\n\\n\\nThe future of work powered by generative AI is full of possibilities.  By embracing these changes and developing the right skills, individuals can position themselves for exciting and rewarding careers in this transformative field.\\n\", additional_kwargs={}, response_metadata={'token_usage': {'completion_tokens': 523, 'prompt_tokens': 22, 'total_tokens': 545, 'completion_time': 0.950909091, 'prompt_time': 0.002159545, 'queue_time': 0.245704977, 'total_time': 0.953068636}, 'model_name': 'gemma2-9b-it', 'system_fingerprint': 'fp_10c08bf97d', 'finish_reason': 'stop', 'logprobs': None}, id='run--00df4699-75e5-4e88-abba-0928b56b8e05-0', usage_metadata={'input_tokens': 22, 'output_tokens': 523, 'total_tokens': 545})}])\n",
      "content=\"It's exciting to think about the generative AI job openings of 2025!  While predicting the future is always tricky, here are some roles I anticipate will be in high demand based on current trends:\\n\\n**Directly Working with Generative AI:**\\n\\n* **Generative AI Trainer/Prompt Engineer:** These specialists will focus on refining and optimizing the performance of generative AI models by crafting effective prompts and providing curated training data.\\n* **AI Ethicist/AI Safety Engineer:** As AI becomes more powerful, ensuring responsible and ethical development and deployment will be crucial. These roles will focus on mitigating bias, preventing misuse, and ensuring transparency in AI systems.\\n* **Generative AI Architect/System Designer:**  These individuals will design and build the infrastructure and workflows needed to integrate generative AI into various applications and industries.\\n* **AI-Powered Content Creator:**  Writers, artists, musicians, and designers will leverage generative AI tools to augment their creative processes, leading to new hybrid roles that blend human ingenuity with AI assistance.\\n\\n**Supporting Industries Powered by Generative AI:**\\n\\n* **Data Annotation Specialist for Generative AI:**  Training data is the lifeblood of generative AI. These specialists will label and categorize data to improve the accuracy and performance of AI models.\\n* **Generative AI Product Manager:**  These individuals will bridge the gap between technical development and market needs, defining product roadmaps and strategies for AI-powered solutions.\\n* **AI-Driven Marketing and Sales Specialist:**  Generative AI can personalize marketing campaigns, generate creative content, and improve customer interactions, creating new opportunities in these fields.\\n* **AI-Powered Customer Service Representative:**  Chatbots and virtual assistants will become more sophisticated, requiring specialists to train and manage these AI-powered customer service agents.\\n\\n**Important Considerations:**\\n\\n* **Continuous Learning:** The field of generative AI is rapidly evolving. Professionals will need to embrace lifelong learning and adapt to new tools and technologies.\\n* **Interdisciplinary Skills:**  Success in this field will often require a blend of technical expertise (e.g., programming, data science) and domain knowledge (e.g., marketing, design, healthcare).\\n* **Ethical Awareness:**  As AI becomes more integrated into our lives, it's crucial to develop a strong ethical framework and consider the potential societal impacts of generative AI.\\n\\n\\nThe future of work powered by generative AI is full of possibilities.  By embracing these changes and developing the right skills, individuals can position themselves for exciting and rewarding careers in this transformative field.\\n\" additional_kwargs={} response_metadata={'token_usage': {'completion_tokens': 523, 'prompt_tokens': 22, 'total_tokens': 545, 'completion_time': 0.950909091, 'prompt_time': 0.002159545, 'queue_time': 0.245704977, 'total_time': 0.953068636}, 'model_name': 'gemma2-9b-it', 'system_fingerprint': 'fp_10c08bf97d', 'finish_reason': 'stop', 'logprobs': None} id='run--00df4699-75e5-4e88-abba-0928b56b8e05-0' usage_metadata={'input_tokens': 22, 'output_tokens': 523, 'total_tokens': 545}\n",
      "Assistant: It's exciting to think about the generative AI job openings of 2025!  While predicting the future is always tricky, here are some roles I anticipate will be in high demand based on current trends:\n",
      "\n",
      "**Directly Working with Generative AI:**\n",
      "\n",
      "* **Generative AI Trainer/Prompt Engineer:** These specialists will focus on refining and optimizing the performance of generative AI models by crafting effective prompts and providing curated training data.\n",
      "* **AI Ethicist/AI Safety Engineer:** As AI becomes more powerful, ensuring responsible and ethical development and deployment will be crucial. These roles will focus on mitigating bias, preventing misuse, and ensuring transparency in AI systems.\n",
      "* **Generative AI Architect/System Designer:**  These individuals will design and build the infrastructure and workflows needed to integrate generative AI into various applications and industries.\n",
      "* **AI-Powered Content Creator:**  Writers, artists, musicians, and designers will leverage generative AI tools to augment their creative processes, leading to new hybrid roles that blend human ingenuity with AI assistance.\n",
      "\n",
      "**Supporting Industries Powered by Generative AI:**\n",
      "\n",
      "* **Data Annotation Specialist for Generative AI:**  Training data is the lifeblood of generative AI. These specialists will label and categorize data to improve the accuracy and performance of AI models.\n",
      "* **Generative AI Product Manager:**  These individuals will bridge the gap between technical development and market needs, defining product roadmaps and strategies for AI-powered solutions.\n",
      "* **AI-Driven Marketing and Sales Specialist:**  Generative AI can personalize marketing campaigns, generate creative content, and improve customer interactions, creating new opportunities in these fields.\n",
      "* **AI-Powered Customer Service Representative:**  Chatbots and virtual assistants will become more sophisticated, requiring specialists to train and manage these AI-powered customer service agents.\n",
      "\n",
      "**Important Considerations:**\n",
      "\n",
      "* **Continuous Learning:** The field of generative AI is rapidly evolving. Professionals will need to embrace lifelong learning and adapt to new tools and technologies.\n",
      "* **Interdisciplinary Skills:**  Success in this field will often require a blend of technical expertise (e.g., programming, data science) and domain knowledge (e.g., marketing, design, healthcare).\n",
      "* **Ethical Awareness:**  As AI becomes more integrated into our lives, it's crucial to develop a strong ethical framework and consider the potential societal impacts of generative AI.\n",
      "\n",
      "\n",
      "The future of work powered by generative AI is full of possibilities.  By embracing these changes and developing the right skills, individuals can position themselves for exciting and rewarding careers in this transformative field.\n",
      "\n",
      "dict_values([{'messages': AIMessage(content='Please provide me with a topic or question so I can assist you. \\n\\nFor example, you could ask me:\\n\\n* **To write something:** \"Write a short story about a robot who learns to feel emotions.\"\\n* **To answer a question:** \"What is the capital of France?\"\\n* **To summarize information:** \"Summarize the plot of the book *Pride and Prejudice*.\"\\n* **To generate ideas:** \"Give me some ideas for a birthday party theme.\"\\n\\nI\\'m here to help! 😊\\n\\n', additional_kwargs={}, response_metadata={'token_usage': {'completion_tokens': 113, 'prompt_tokens': 11, 'total_tokens': 124, 'completion_time': 0.205454545, 'prompt_time': 0.001910985, 'queue_time': 0.242717608, 'total_time': 0.20736553}, 'model_name': 'gemma2-9b-it', 'system_fingerprint': 'fp_10c08bf97d', 'finish_reason': 'stop', 'logprobs': None}, id='run--9e5402da-23a5-4a54-bba9-d08716506d87-0', usage_metadata={'input_tokens': 11, 'output_tokens': 113, 'total_tokens': 124})}])\n",
      "content='Please provide me with a topic or question so I can assist you. \\n\\nFor example, you could ask me:\\n\\n* **To write something:** \"Write a short story about a robot who learns to feel emotions.\"\\n* **To answer a question:** \"What is the capital of France?\"\\n* **To summarize information:** \"Summarize the plot of the book *Pride and Prejudice*.\"\\n* **To generate ideas:** \"Give me some ideas for a birthday party theme.\"\\n\\nI\\'m here to help! 😊\\n\\n' additional_kwargs={} response_metadata={'token_usage': {'completion_tokens': 113, 'prompt_tokens': 11, 'total_tokens': 124, 'completion_time': 0.205454545, 'prompt_time': 0.001910985, 'queue_time': 0.242717608, 'total_time': 0.20736553}, 'model_name': 'gemma2-9b-it', 'system_fingerprint': 'fp_10c08bf97d', 'finish_reason': 'stop', 'logprobs': None} id='run--9e5402da-23a5-4a54-bba9-d08716506d87-0' usage_metadata={'input_tokens': 11, 'output_tokens': 113, 'total_tokens': 124}\n",
      "Assistant: Please provide me with a topic or question so I can assist you. \n",
      "\n",
      "For example, you could ask me:\n",
      "\n",
      "* **To write something:** \"Write a short story about a robot who learns to feel emotions.\"\n",
      "* **To answer a question:** \"What is the capital of France?\"\n",
      "* **To summarize information:** \"Summarize the plot of the book *Pride and Prejudice*.\"\n",
      "* **To generate ideas:** \"Give me some ideas for a birthday party theme.\"\n",
      "\n",
      "I'm here to help! 😊\n",
      "\n",
      "\n",
      "dict_values([{'messages': AIMessage(content=\"## A2A Agents: A Deep Dive\\n\\nA2A agents, short for **Agent-to-Agent** agents, represent a fascinating and relatively new paradigm in artificial intelligence. \\n\\n**What are A2A Agents?**\\n\\nInstead of interacting directly with the environment, A2A agents communicate and collaborate with each other to accomplish tasks.  They learn and adapt through interactions with their peers, forming complex social structures and emergent behaviors.\\n\\n**Key Characteristics:**\\n\\n* **Decentralized:** No central control dictates their actions. Each agent operates autonomously and makes decisions based on its own observations and interactions.\\n* **Multi-Agent Systems:** A2A agents typically exist in a population, interacting with and learning from each other.\\n* **Communication:** Agents exchange information through various means, like messages, signals, or shared resources.\\n* **Cooperation and Competition:** Agents can cooperate to achieve common goals or compete for resources, leading to diverse and dynamic behaviors.\\n\\n**How They Work:**\\n\\nA2A agents are typically trained using reinforcement learning (RL) algorithms. They learn through trial and error, receiving rewards for successful actions and penalties for unsuccessful ones. \\n\\n* **Individual Learning:** Each agent learns its own policy for interacting with the environment and its peers.\\n* **Collective Learning:** The interactions between agents create a dynamic learning environment. Agents learn from each other's successes and failures, adapting their strategies accordingly.\\n\\n**Applications:**\\n\\nA2A agents hold immense potential for various applications:\\n\\n* **Robotics:** Coordinating groups of robots for complex tasks, like search and rescue or construction.\\n* **Game AI:** Creating more sophisticated and unpredictable opponents in video games.\\n* **Traffic Management:** Optimizing traffic flow by coordinating the actions of autonomous vehicles.\\n* **Social Simulation:** Modeling social interactions and emergent behaviors in large populations.\\n\\n**Challenges:**\\n\\nDeveloping effective A2A agents presents several challenges:\\n\\n* **Scalability:** Training and deploying large populations of agents can be computationally expensive.\\n* **Communication Complexity:** Designing efficient and robust communication protocols for agents is crucial.\\n* **Emergent Behavior:** Predicting and controlling the complex, emergent behaviors of A2A systems can be difficult.\\n* **Ethical Considerations:** Ensuring the safety and fairness of A2A systems raises ethical concerns that require careful consideration.\\n\\n\\n**Conclusion:**\\n\\nA2A agents represent a promising direction for AI research. Their decentralized, collaborative nature has the potential to lead to more intelligent, adaptable, and robust AI systems. As research progresses, we can expect to see A2A agents playing increasingly important roles in various fields, transforming the way we interact with technology and the world around us.\\n\", additional_kwargs={}, response_metadata={'token_usage': {'completion_tokens': 551, 'prompt_tokens': 13, 'total_tokens': 564, 'completion_time': 1.001818182, 'prompt_time': 0.001913596, 'queue_time': 0.24257150700000002, 'total_time': 1.003731778}, 'model_name': 'gemma2-9b-it', 'system_fingerprint': 'fp_10c08bf97d', 'finish_reason': 'stop', 'logprobs': None}, id='run--4effae45-4669-4014-a34d-1ba990dcce73-0', usage_metadata={'input_tokens': 13, 'output_tokens': 551, 'total_tokens': 564})}])\n",
      "content=\"## A2A Agents: A Deep Dive\\n\\nA2A agents, short for **Agent-to-Agent** agents, represent a fascinating and relatively new paradigm in artificial intelligence. \\n\\n**What are A2A Agents?**\\n\\nInstead of interacting directly with the environment, A2A agents communicate and collaborate with each other to accomplish tasks.  They learn and adapt through interactions with their peers, forming complex social structures and emergent behaviors.\\n\\n**Key Characteristics:**\\n\\n* **Decentralized:** No central control dictates their actions. Each agent operates autonomously and makes decisions based on its own observations and interactions.\\n* **Multi-Agent Systems:** A2A agents typically exist in a population, interacting with and learning from each other.\\n* **Communication:** Agents exchange information through various means, like messages, signals, or shared resources.\\n* **Cooperation and Competition:** Agents can cooperate to achieve common goals or compete for resources, leading to diverse and dynamic behaviors.\\n\\n**How They Work:**\\n\\nA2A agents are typically trained using reinforcement learning (RL) algorithms. They learn through trial and error, receiving rewards for successful actions and penalties for unsuccessful ones. \\n\\n* **Individual Learning:** Each agent learns its own policy for interacting with the environment and its peers.\\n* **Collective Learning:** The interactions between agents create a dynamic learning environment. Agents learn from each other's successes and failures, adapting their strategies accordingly.\\n\\n**Applications:**\\n\\nA2A agents hold immense potential for various applications:\\n\\n* **Robotics:** Coordinating groups of robots for complex tasks, like search and rescue or construction.\\n* **Game AI:** Creating more sophisticated and unpredictable opponents in video games.\\n* **Traffic Management:** Optimizing traffic flow by coordinating the actions of autonomous vehicles.\\n* **Social Simulation:** Modeling social interactions and emergent behaviors in large populations.\\n\\n**Challenges:**\\n\\nDeveloping effective A2A agents presents several challenges:\\n\\n* **Scalability:** Training and deploying large populations of agents can be computationally expensive.\\n* **Communication Complexity:** Designing efficient and robust communication protocols for agents is crucial.\\n* **Emergent Behavior:** Predicting and controlling the complex, emergent behaviors of A2A systems can be difficult.\\n* **Ethical Considerations:** Ensuring the safety and fairness of A2A systems raises ethical concerns that require careful consideration.\\n\\n\\n**Conclusion:**\\n\\nA2A agents represent a promising direction for AI research. Their decentralized, collaborative nature has the potential to lead to more intelligent, adaptable, and robust AI systems. As research progresses, we can expect to see A2A agents playing increasingly important roles in various fields, transforming the way we interact with technology and the world around us.\\n\" additional_kwargs={} response_metadata={'token_usage': {'completion_tokens': 551, 'prompt_tokens': 13, 'total_tokens': 564, 'completion_time': 1.001818182, 'prompt_time': 0.001913596, 'queue_time': 0.24257150700000002, 'total_time': 1.003731778}, 'model_name': 'gemma2-9b-it', 'system_fingerprint': 'fp_10c08bf97d', 'finish_reason': 'stop', 'logprobs': None} id='run--4effae45-4669-4014-a34d-1ba990dcce73-0' usage_metadata={'input_tokens': 13, 'output_tokens': 551, 'total_tokens': 564}\n",
      "Assistant: ## A2A Agents: A Deep Dive\n",
      "\n",
      "A2A agents, short for **Agent-to-Agent** agents, represent a fascinating and relatively new paradigm in artificial intelligence. \n",
      "\n",
      "**What are A2A Agents?**\n",
      "\n",
      "Instead of interacting directly with the environment, A2A agents communicate and collaborate with each other to accomplish tasks.  They learn and adapt through interactions with their peers, forming complex social structures and emergent behaviors.\n",
      "\n",
      "**Key Characteristics:**\n",
      "\n",
      "* **Decentralized:** No central control dictates their actions. Each agent operates autonomously and makes decisions based on its own observations and interactions.\n",
      "* **Multi-Agent Systems:** A2A agents typically exist in a population, interacting with and learning from each other.\n",
      "* **Communication:** Agents exchange information through various means, like messages, signals, or shared resources.\n",
      "* **Cooperation and Competition:** Agents can cooperate to achieve common goals or compete for resources, leading to diverse and dynamic behaviors.\n",
      "\n",
      "**How They Work:**\n",
      "\n",
      "A2A agents are typically trained using reinforcement learning (RL) algorithms. They learn through trial and error, receiving rewards for successful actions and penalties for unsuccessful ones. \n",
      "\n",
      "* **Individual Learning:** Each agent learns its own policy for interacting with the environment and its peers.\n",
      "* **Collective Learning:** The interactions between agents create a dynamic learning environment. Agents learn from each other's successes and failures, adapting their strategies accordingly.\n",
      "\n",
      "**Applications:**\n",
      "\n",
      "A2A agents hold immense potential for various applications:\n",
      "\n",
      "* **Robotics:** Coordinating groups of robots for complex tasks, like search and rescue or construction.\n",
      "* **Game AI:** Creating more sophisticated and unpredictable opponents in video games.\n",
      "* **Traffic Management:** Optimizing traffic flow by coordinating the actions of autonomous vehicles.\n",
      "* **Social Simulation:** Modeling social interactions and emergent behaviors in large populations.\n",
      "\n",
      "**Challenges:**\n",
      "\n",
      "Developing effective A2A agents presents several challenges:\n",
      "\n",
      "* **Scalability:** Training and deploying large populations of agents can be computationally expensive.\n",
      "* **Communication Complexity:** Designing efficient and robust communication protocols for agents is crucial.\n",
      "* **Emergent Behavior:** Predicting and controlling the complex, emergent behaviors of A2A systems can be difficult.\n",
      "* **Ethical Considerations:** Ensuring the safety and fairness of A2A systems raises ethical concerns that require careful consideration.\n",
      "\n",
      "\n",
      "**Conclusion:**\n",
      "\n",
      "A2A agents represent a promising direction for AI research. Their decentralized, collaborative nature has the potential to lead to more intelligent, adaptable, and robust AI systems. As research progresses, we can expect to see A2A agents playing increasingly important roles in various fields, transforming the way we interact with technology and the world around us.\n",
      "\n",
      "dict_values([{'messages': AIMessage(content='Please provide me with a prompt or question so I can assist you! \\n\\nFor example, you could ask me:\\n\\n* **To write a story:** \"Write a short story about a robot who learns to feel emotions.\"\\n* **To answer a question:** \"What is the capital of France?\"\\n* **To generate creative content:** \"Give me some ideas for a birthday party theme.\"\\n* **To translate text:** \"Translate \\'Hello, how are you?\\' into Spanish.\"\\n\\nI\\'m ready for anything! 😊 \\n', additional_kwargs={}, response_metadata={'token_usage': {'completion_tokens': 113, 'prompt_tokens': 11, 'total_tokens': 124, 'completion_time': 0.205454545, 'prompt_time': 0.001947376, 'queue_time': 0.241480404, 'total_time': 0.207401921}, 'model_name': 'gemma2-9b-it', 'system_fingerprint': 'fp_10c08bf97d', 'finish_reason': 'stop', 'logprobs': None}, id='run--87ec8f5e-3554-4f61-a477-dd06df222a86-0', usage_metadata={'input_tokens': 11, 'output_tokens': 113, 'total_tokens': 124})}])\n",
      "content='Please provide me with a prompt or question so I can assist you! \\n\\nFor example, you could ask me:\\n\\n* **To write a story:** \"Write a short story about a robot who learns to feel emotions.\"\\n* **To answer a question:** \"What is the capital of France?\"\\n* **To generate creative content:** \"Give me some ideas for a birthday party theme.\"\\n* **To translate text:** \"Translate \\'Hello, how are you?\\' into Spanish.\"\\n\\nI\\'m ready for anything! 😊 \\n' additional_kwargs={} response_metadata={'token_usage': {'completion_tokens': 113, 'prompt_tokens': 11, 'total_tokens': 124, 'completion_time': 0.205454545, 'prompt_time': 0.001947376, 'queue_time': 0.241480404, 'total_time': 0.207401921}, 'model_name': 'gemma2-9b-it', 'system_fingerprint': 'fp_10c08bf97d', 'finish_reason': 'stop', 'logprobs': None} id='run--87ec8f5e-3554-4f61-a477-dd06df222a86-0' usage_metadata={'input_tokens': 11, 'output_tokens': 113, 'total_tokens': 124}\n",
      "Assistant: Please provide me with a prompt or question so I can assist you! \n",
      "\n",
      "For example, you could ask me:\n",
      "\n",
      "* **To write a story:** \"Write a short story about a robot who learns to feel emotions.\"\n",
      "* **To answer a question:** \"What is the capital of France?\"\n",
      "* **To generate creative content:** \"Give me some ideas for a birthday party theme.\"\n",
      "* **To translate text:** \"Translate 'Hello, how are you?' into Spanish.\"\n",
      "\n",
      "I'm ready for anything! 😊 \n",
      "\n",
      "dict_values([{'messages': AIMessage(content='Please provide me with a question or a topic you\\'d like to discuss. I\\'m ready to help!  \\n\\nFor example, you could ask me:\\n\\n* **A question about a specific topic:** \"What is the capital of France?\"\\n* **A question that requires reasoning:** \"If all dogs are mammals and Fido is a dog, is Fido a mammal?\"\\n* **A creative writing prompt:** \"Write a short story about a robot who learns to feel emotions.\"\\n* **A request for help:** \"Can you help me brainstorm ideas for a birthday party?\"\\n\\n\\nI\\'m excited to see what you have in mind! 😊 \\n', additional_kwargs={}, response_metadata={'token_usage': {'completion_tokens': 139, 'prompt_tokens': 11, 'total_tokens': 150, 'completion_time': 0.254393606, 'prompt_time': 0.001916206, 'queue_time': 0.24094153799999998, 'total_time': 0.256309812}, 'model_name': 'gemma2-9b-it', 'system_fingerprint': 'fp_10c08bf97d', 'finish_reason': 'stop', 'logprobs': None}, id='run--28db372d-3b01-403a-b248-836b224ae5e9-0', usage_metadata={'input_tokens': 11, 'output_tokens': 139, 'total_tokens': 150})}])\n",
      "content='Please provide me with a question or a topic you\\'d like to discuss. I\\'m ready to help!  \\n\\nFor example, you could ask me:\\n\\n* **A question about a specific topic:** \"What is the capital of France?\"\\n* **A question that requires reasoning:** \"If all dogs are mammals and Fido is a dog, is Fido a mammal?\"\\n* **A creative writing prompt:** \"Write a short story about a robot who learns to feel emotions.\"\\n* **A request for help:** \"Can you help me brainstorm ideas for a birthday party?\"\\n\\n\\nI\\'m excited to see what you have in mind! 😊 \\n' additional_kwargs={} response_metadata={'token_usage': {'completion_tokens': 139, 'prompt_tokens': 11, 'total_tokens': 150, 'completion_time': 0.254393606, 'prompt_time': 0.001916206, 'queue_time': 0.24094153799999998, 'total_time': 0.256309812}, 'model_name': 'gemma2-9b-it', 'system_fingerprint': 'fp_10c08bf97d', 'finish_reason': 'stop', 'logprobs': None} id='run--28db372d-3b01-403a-b248-836b224ae5e9-0' usage_metadata={'input_tokens': 11, 'output_tokens': 139, 'total_tokens': 150}\n",
      "Assistant: Please provide me with a question or a topic you'd like to discuss. I'm ready to help!  \n",
      "\n",
      "For example, you could ask me:\n",
      "\n",
      "* **A question about a specific topic:** \"What is the capital of France?\"\n",
      "* **A question that requires reasoning:** \"If all dogs are mammals and Fido is a dog, is Fido a mammal?\"\n",
      "* **A creative writing prompt:** \"Write a short story about a robot who learns to feel emotions.\"\n",
      "* **A request for help:** \"Can you help me brainstorm ideas for a birthday party?\"\n",
      "\n",
      "\n",
      "I'm excited to see what you have in mind! 😊 \n",
      "\n",
      "dict_values([{'messages': AIMessage(content=\"## A2A Agents: Mastering the Art of Agent-to-Agent Communication\\n\\nA2A agents, short for **Agent-to-Agent** agents, represent a fascinating and increasingly important area in artificial intelligence. \\n\\nEssentially, A2A agents are autonomous software entities that can **communicate and collaborate with each other** to achieve common goals. Unlike traditional agents that primarily interact with the environment, A2A agents focus on **inter-agent interaction**, forming complex networks and ecosystems.\\n\\nHere's a breakdown of key aspects of A2A agents:\\n\\n**1. Purpose and Functionality:**\\n\\n* **Collaboration:** A2A agents can work together to solve problems that are too complex for a single agent to handle.\\n* **Resource Sharing:** Agents can share information, resources, and even tasks to optimize efficiency.\\n* **Task Specialization:** Agents can specialize in specific tasks, allowing for division of labor and improved performance.\\n* **Emergent Behavior:** Through interactions, A2A agents can exhibit emergent behavior, producing complex outcomes not explicitly programmed.\\n\\n**2. Communication and Interaction:**\\n\\n* **Messaging Systems:** Agents typically communicate through structured messages, exchanging information about their state, goals, and intentions.\\n* **Contract-based Interaction:** Agents can establish contracts outlining their responsibilities and expectations, ensuring clear communication and accountability.\\n* **Negotiation and Bargaining:** Agents can negotiate with each other to allocate resources, resolve conflicts, and reach agreements.\\n\\n**3. Applications and Examples:**\\n\\n* **Multi-Robot Systems:** A2A agents can control swarms of robots for tasks like exploration, search and rescue, or construction.\\n* **E-commerce Platforms:** Agents can represent buyers and sellers, negotiating prices, and facilitating transactions.\\n* **Healthcare:** Agents can assist doctors in diagnosing diseases, scheduling appointments, and managing patient records.\\n* **Game Development:** A2A agents can create dynamic and challenging game environments populated by intelligent non-player characters (NPCs).\\n\\n**4. Challenges and Future Directions:**\\n\\n* **Scalability:** Managing large networks of A2A agents can be complex, requiring efficient communication and coordination mechanisms.\\n* **Security and Trust:** Ensuring secure communication and preventing malicious behavior from agents is crucial.\\n* **Explainability and Transparency:** Understanding how A2A agents make decisions and interact can be challenging, requiring techniques for interpretability and explainability.\\n\\nDespite these challenges, A2A agents hold immense potential for revolutionizing various fields. As research progresses, we can expect to see even more innovative applications of this powerful technology.\\n\\n\\n\", additional_kwargs={}, response_metadata={'token_usage': {'completion_tokens': 529, 'prompt_tokens': 14, 'total_tokens': 543, 'completion_time': 0.961818182, 'prompt_time': 0.001919526, 'queue_time': 0.244835906, 'total_time': 0.963737708}, 'model_name': 'gemma2-9b-it', 'system_fingerprint': 'fp_10c08bf97d', 'finish_reason': 'stop', 'logprobs': None}, id='run--1176bae4-fc3f-41c9-b8a4-fb849e7cf757-0', usage_metadata={'input_tokens': 14, 'output_tokens': 529, 'total_tokens': 543})}])\n",
      "content=\"## A2A Agents: Mastering the Art of Agent-to-Agent Communication\\n\\nA2A agents, short for **Agent-to-Agent** agents, represent a fascinating and increasingly important area in artificial intelligence. \\n\\nEssentially, A2A agents are autonomous software entities that can **communicate and collaborate with each other** to achieve common goals. Unlike traditional agents that primarily interact with the environment, A2A agents focus on **inter-agent interaction**, forming complex networks and ecosystems.\\n\\nHere's a breakdown of key aspects of A2A agents:\\n\\n**1. Purpose and Functionality:**\\n\\n* **Collaboration:** A2A agents can work together to solve problems that are too complex for a single agent to handle.\\n* **Resource Sharing:** Agents can share information, resources, and even tasks to optimize efficiency.\\n* **Task Specialization:** Agents can specialize in specific tasks, allowing for division of labor and improved performance.\\n* **Emergent Behavior:** Through interactions, A2A agents can exhibit emergent behavior, producing complex outcomes not explicitly programmed.\\n\\n**2. Communication and Interaction:**\\n\\n* **Messaging Systems:** Agents typically communicate through structured messages, exchanging information about their state, goals, and intentions.\\n* **Contract-based Interaction:** Agents can establish contracts outlining their responsibilities and expectations, ensuring clear communication and accountability.\\n* **Negotiation and Bargaining:** Agents can negotiate with each other to allocate resources, resolve conflicts, and reach agreements.\\n\\n**3. Applications and Examples:**\\n\\n* **Multi-Robot Systems:** A2A agents can control swarms of robots for tasks like exploration, search and rescue, or construction.\\n* **E-commerce Platforms:** Agents can represent buyers and sellers, negotiating prices, and facilitating transactions.\\n* **Healthcare:** Agents can assist doctors in diagnosing diseases, scheduling appointments, and managing patient records.\\n* **Game Development:** A2A agents can create dynamic and challenging game environments populated by intelligent non-player characters (NPCs).\\n\\n**4. Challenges and Future Directions:**\\n\\n* **Scalability:** Managing large networks of A2A agents can be complex, requiring efficient communication and coordination mechanisms.\\n* **Security and Trust:** Ensuring secure communication and preventing malicious behavior from agents is crucial.\\n* **Explainability and Transparency:** Understanding how A2A agents make decisions and interact can be challenging, requiring techniques for interpretability and explainability.\\n\\nDespite these challenges, A2A agents hold immense potential for revolutionizing various fields. As research progresses, we can expect to see even more innovative applications of this powerful technology.\\n\\n\\n\" additional_kwargs={} response_metadata={'token_usage': {'completion_tokens': 529, 'prompt_tokens': 14, 'total_tokens': 543, 'completion_time': 0.961818182, 'prompt_time': 0.001919526, 'queue_time': 0.244835906, 'total_time': 0.963737708}, 'model_name': 'gemma2-9b-it', 'system_fingerprint': 'fp_10c08bf97d', 'finish_reason': 'stop', 'logprobs': None} id='run--1176bae4-fc3f-41c9-b8a4-fb849e7cf757-0' usage_metadata={'input_tokens': 14, 'output_tokens': 529, 'total_tokens': 543}\n",
      "Assistant: ## A2A Agents: Mastering the Art of Agent-to-Agent Communication\n",
      "\n",
      "A2A agents, short for **Agent-to-Agent** agents, represent a fascinating and increasingly important area in artificial intelligence. \n",
      "\n",
      "Essentially, A2A agents are autonomous software entities that can **communicate and collaborate with each other** to achieve common goals. Unlike traditional agents that primarily interact with the environment, A2A agents focus on **inter-agent interaction**, forming complex networks and ecosystems.\n",
      "\n",
      "Here's a breakdown of key aspects of A2A agents:\n",
      "\n",
      "**1. Purpose and Functionality:**\n",
      "\n",
      "* **Collaboration:** A2A agents can work together to solve problems that are too complex for a single agent to handle.\n",
      "* **Resource Sharing:** Agents can share information, resources, and even tasks to optimize efficiency.\n",
      "* **Task Specialization:** Agents can specialize in specific tasks, allowing for division of labor and improved performance.\n",
      "* **Emergent Behavior:** Through interactions, A2A agents can exhibit emergent behavior, producing complex outcomes not explicitly programmed.\n",
      "\n",
      "**2. Communication and Interaction:**\n",
      "\n",
      "* **Messaging Systems:** Agents typically communicate through structured messages, exchanging information about their state, goals, and intentions.\n",
      "* **Contract-based Interaction:** Agents can establish contracts outlining their responsibilities and expectations, ensuring clear communication and accountability.\n",
      "* **Negotiation and Bargaining:** Agents can negotiate with each other to allocate resources, resolve conflicts, and reach agreements.\n",
      "\n",
      "**3. Applications and Examples:**\n",
      "\n",
      "* **Multi-Robot Systems:** A2A agents can control swarms of robots for tasks like exploration, search and rescue, or construction.\n",
      "* **E-commerce Platforms:** Agents can represent buyers and sellers, negotiating prices, and facilitating transactions.\n",
      "* **Healthcare:** Agents can assist doctors in diagnosing diseases, scheduling appointments, and managing patient records.\n",
      "* **Game Development:** A2A agents can create dynamic and challenging game environments populated by intelligent non-player characters (NPCs).\n",
      "\n",
      "**4. Challenges and Future Directions:**\n",
      "\n",
      "* **Scalability:** Managing large networks of A2A agents can be complex, requiring efficient communication and coordination mechanisms.\n",
      "* **Security and Trust:** Ensuring secure communication and preventing malicious behavior from agents is crucial.\n",
      "* **Explainability and Transparency:** Understanding how A2A agents make decisions and interact can be challenging, requiring techniques for interpretability and explainability.\n",
      "\n",
      "Despite these challenges, A2A agents hold immense potential for revolutionizing various fields. As research progresses, we can expect to see even more innovative applications of this powerful technology.\n",
      "\n",
      "\n",
      "\n",
      "dict_values([{'messages': AIMessage(content=\"Please provide me with a question or a topic you'd like to discuss! \\n\\nI can help you with many things, such as:\\n\\n* **Answering questions:** I have access to a vast amount of information and can answer your questions on a wide range of topics.\\n* **Generating creative content:** I can write stories, poems, articles, and even code.\\n* **Summarizing text:** Give me a long piece of text and I can provide you with a concise summary.\\n* **Translating languages:** I can translate text between many different languages.\\n* **Having a conversation:** I can engage in natural-sounding conversations on various subjects.\\n\\nWhat can I do for you today? 😊\\n\", additional_kwargs={}, response_metadata={'token_usage': {'completion_tokens': 149, 'prompt_tokens': 11, 'total_tokens': 160, 'completion_time': 0.270909091, 'prompt_time': 0.001922516, 'queue_time': 0.243452004, 'total_time': 0.272831607}, 'model_name': 'gemma2-9b-it', 'system_fingerprint': 'fp_10c08bf97d', 'finish_reason': 'stop', 'logprobs': None}, id='run--6e065f2d-5d27-4272-8ee4-f743c1d317ac-0', usage_metadata={'input_tokens': 11, 'output_tokens': 149, 'total_tokens': 160})}])\n",
      "content=\"Please provide me with a question or a topic you'd like to discuss! \\n\\nI can help you with many things, such as:\\n\\n* **Answering questions:** I have access to a vast amount of information and can answer your questions on a wide range of topics.\\n* **Generating creative content:** I can write stories, poems, articles, and even code.\\n* **Summarizing text:** Give me a long piece of text and I can provide you with a concise summary.\\n* **Translating languages:** I can translate text between many different languages.\\n* **Having a conversation:** I can engage in natural-sounding conversations on various subjects.\\n\\nWhat can I do for you today? 😊\\n\" additional_kwargs={} response_metadata={'token_usage': {'completion_tokens': 149, 'prompt_tokens': 11, 'total_tokens': 160, 'completion_time': 0.270909091, 'prompt_time': 0.001922516, 'queue_time': 0.243452004, 'total_time': 0.272831607}, 'model_name': 'gemma2-9b-it', 'system_fingerprint': 'fp_10c08bf97d', 'finish_reason': 'stop', 'logprobs': None} id='run--6e065f2d-5d27-4272-8ee4-f743c1d317ac-0' usage_metadata={'input_tokens': 11, 'output_tokens': 149, 'total_tokens': 160}\n",
      "Assistant: Please provide me with a question or a topic you'd like to discuss! \n",
      "\n",
      "I can help you with many things, such as:\n",
      "\n",
      "* **Answering questions:** I have access to a vast amount of information and can answer your questions on a wide range of topics.\n",
      "* **Generating creative content:** I can write stories, poems, articles, and even code.\n",
      "* **Summarizing text:** Give me a long piece of text and I can provide you with a concise summary.\n",
      "* **Translating languages:** I can translate text between many different languages.\n",
      "* **Having a conversation:** I can engage in natural-sounding conversations on various subjects.\n",
      "\n",
      "What can I do for you today? 😊\n",
      "\n",
      "Good Bye, Thank you for using Langraph Framework\n"
     ]
    }
   ],
   "source": [
    "while True:\n",
    "    user_input=input(\"user:\")\n",
    "    if user_input.lower() in ['quit','q']:\n",
    "        print(\"Good Bye, Thank you for using Langraph Framework\")\n",
    "        break\n",
    "    for event in graph.stream({'messages':('user',user_input)}):\n",
    "        print(event.values())\n",
    "        for value in event.values():\n",
    "            print(value['messages'])\n",
    "            print('Assistant:',value['messages'].content)"
   ]
  },
  {
   "cell_type": "code",
   "execution_count": null,
   "id": "cc78900b",
   "metadata": {},
   "outputs": [],
   "source": []
  }
 ],
 "metadata": {
  "kernelspec": {
   "display_name": "base",
   "language": "python",
   "name": "python3"
  },
  "language_info": {
   "codemirror_mode": {
    "name": "ipython",
    "version": 3
   },
   "file_extension": ".py",
   "mimetype": "text/x-python",
   "name": "python",
   "nbconvert_exporter": "python",
   "pygments_lexer": "ipython3",
   "version": "3.12.4"
  }
 },
 "nbformat": 4,
 "nbformat_minor": 5
}
