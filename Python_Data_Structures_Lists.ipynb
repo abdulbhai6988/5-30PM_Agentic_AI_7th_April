{
 "cells": [
  {
   "cell_type": "markdown",
   "id": "7cbb6f51-51ea-49a3-9f07-a0f73f06ef1e",
   "metadata": {},
   "source": [
    "22nd April-FSDS with Agentic AI and Gen AI \n",
    "Python Data Structures"
   ]
  },
  {
   "cell_type": "code",
   "execution_count": 45,
   "id": "65a075aa-053d-4141-9eb5-e0bc9177a758",
   "metadata": {},
   "outputs": [],
   "source": [
    "l=[100,20,30,40,50,60,200]\n",
    "l1=[10,20,10,30,40,50,60,10,2.3,'nit',(11+2j),[1,2,3]]"
   ]
  },
  {
   "cell_type": "code",
   "execution_count": 13,
   "id": "d7da77a5-3089-44bf-8cf7-b32ffe1af63d",
   "metadata": {},
   "outputs": [
    {
     "name": "stdout",
     "output_type": "stream",
     "text": [
      "n\n"
     ]
    }
   ],
   "source": [
    "print(l1[8][0]) #list indexing"
   ]
  },
  {
   "cell_type": "code",
   "execution_count": 15,
   "id": "98777059-e957-4a66-b150-d106e23116f2",
   "metadata": {},
   "outputs": [
    {
     "data": {
      "text/plain": [
       "1"
      ]
     },
     "execution_count": 15,
     "metadata": {},
     "output_type": "execute_result"
    }
   ],
   "source": [
    "l.count(100) #list functions"
   ]
  },
  {
   "cell_type": "code",
   "execution_count": 19,
   "id": "60af02db-ac32-491a-9b72-06d1554cdc81",
   "metadata": {},
   "outputs": [
    {
     "data": {
      "text/plain": [
       "2"
      ]
     },
     "execution_count": 19,
     "metadata": {},
     "output_type": "execute_result"
    }
   ],
   "source": [
    "l1.count(10)"
   ]
  },
  {
   "cell_type": "code",
   "execution_count": 23,
   "id": "5551637c-7be1-439e-bc90-1d35012e16ba",
   "metadata": {},
   "outputs": [
    {
     "data": {
      "text/plain": [
       "[10, 20, 30, 40, 50, 60, 10, 2.3, 'nit', (11+2j), [1, 2, 3]]"
      ]
     },
     "execution_count": 23,
     "metadata": {},
     "output_type": "execute_result"
    }
   ],
   "source": [
    "l1"
   ]
  },
  {
   "cell_type": "code",
   "execution_count": 25,
   "id": "69afbc3b-2d12-49b7-afe9-579725316800",
   "metadata": {},
   "outputs": [],
   "source": [
    "l1.remove([1,2,3]) #removes the firs occurence of the element from the list "
   ]
  },
  {
   "cell_type": "code",
   "execution_count": 27,
   "id": "8bbd8b15-432f-4ca1-9872-cc6c2f9a7015",
   "metadata": {},
   "outputs": [
    {
     "data": {
      "text/plain": [
       "[10, 20, 30, 40, 50, 60, 10, 2.3, 'nit', (11+2j)]"
      ]
     },
     "execution_count": 27,
     "metadata": {},
     "output_type": "execute_result"
    }
   ],
   "source": [
    "l1"
   ]
  },
  {
   "cell_type": "code",
   "execution_count": 47,
   "id": "158a9612-b4b7-4f3f-b681-03d12f22a9a1",
   "metadata": {},
   "outputs": [
    {
     "name": "stdout",
     "output_type": "stream",
     "text": [
      "[20, 10, 30, 40, 50, 60, 10, 2.3, 'nit', (11+2j), [1, 2, 3]]\n"
     ]
    }
   ],
   "source": [
    "l1.remove(10)\n",
    "print(l1)"
   ]
  },
  {
   "cell_type": "code",
   "execution_count": 49,
   "id": "50f77fcf-0b00-40a0-a33c-5ba6aa7959c9",
   "metadata": {},
   "outputs": [],
   "source": [
    "l.append(25) # always adds in the last "
   ]
  },
  {
   "cell_type": "code",
   "execution_count": 51,
   "id": "570c4b01-d5ba-4c3b-ab7d-f744b0d60c71",
   "metadata": {},
   "outputs": [
    {
     "name": "stdout",
     "output_type": "stream",
     "text": [
      "[100, 20, 30, 40, 50, 60, 200, 25]\n"
     ]
    }
   ],
   "source": [
    "print(l)"
   ]
  },
  {
   "cell_type": "code",
   "execution_count": 53,
   "id": "40391fe7-8b90-4387-a5b7-291ece4a506e",
   "metadata": {},
   "outputs": [],
   "source": [
    "l.insert(2,25) # insert(index,value)"
   ]
  },
  {
   "cell_type": "code",
   "execution_count": 55,
   "id": "de2ec094-f22c-4140-a4c5-9a3dca339e7e",
   "metadata": {},
   "outputs": [
    {
     "name": "stdout",
     "output_type": "stream",
     "text": [
      "[100, 20, 25, 30, 40, 50, 60, 200, 25]\n"
     ]
    }
   ],
   "source": [
    "print(l)"
   ]
  },
  {
   "cell_type": "code",
   "execution_count": 57,
   "id": "34ac3ae5-035e-4963-b7aa-802b7f0fb04b",
   "metadata": {},
   "outputs": [
    {
     "data": {
      "text/plain": [
       "25"
      ]
     },
     "execution_count": 57,
     "metadata": {},
     "output_type": "execute_result"
    }
   ],
   "source": [
    "l.pop() # removes the last element and display which element is removed"
   ]
  },
  {
   "cell_type": "code",
   "execution_count": 59,
   "id": "34837693-537e-438f-a076-0daf88762000",
   "metadata": {},
   "outputs": [
    {
     "data": {
      "text/plain": [
       "[100, 20, 25, 30, 40, 50, 60, 200]"
      ]
     },
     "execution_count": 59,
     "metadata": {},
     "output_type": "execute_result"
    }
   ],
   "source": [
    "l"
   ]
  },
  {
   "cell_type": "code",
   "execution_count": 61,
   "id": "2f44743d-4d18-4b32-be53-2512f940ec30",
   "metadata": {},
   "outputs": [
    {
     "data": {
      "text/plain": [
       "[1, 2, 3]"
      ]
     },
     "execution_count": 61,
     "metadata": {},
     "output_type": "execute_result"
    }
   ],
   "source": [
    "l1.pop()"
   ]
  },
  {
   "cell_type": "code",
   "execution_count": 63,
   "id": "0ff24f51-79ad-4685-811e-cbd0eb64baa3",
   "metadata": {},
   "outputs": [
    {
     "data": {
      "text/plain": [
       "[20, 10, 30, 40, 50, 60, 10, 2.3, 'nit', (11+2j)]"
      ]
     },
     "execution_count": 63,
     "metadata": {},
     "output_type": "execute_result"
    }
   ],
   "source": [
    "l1"
   ]
  },
  {
   "cell_type": "code",
   "execution_count": 65,
   "id": "26391901-c98c-49aa-b383-be875f2d92b3",
   "metadata": {},
   "outputs": [],
   "source": [
    "l.remove(100)"
   ]
  },
  {
   "cell_type": "code",
   "execution_count": 67,
   "id": "6385dc76-2612-4720-a25c-83f99da554d7",
   "metadata": {},
   "outputs": [
    {
     "data": {
      "text/plain": [
       "[20, 25, 30, 40, 50, 60, 200]"
      ]
     },
     "execution_count": 67,
     "metadata": {},
     "output_type": "execute_result"
    }
   ],
   "source": [
    "l"
   ]
  },
  {
   "cell_type": "code",
   "execution_count": 69,
   "id": "0c112e32-25e2-4b38-b332-4a0b36ae3b5f",
   "metadata": {},
   "outputs": [
    {
     "ename": "IndexError",
     "evalue": "pop index out of range",
     "output_type": "error",
     "traceback": [
      "\u001b[1;31m---------------------------------------------------------------------------\u001b[0m",
      "\u001b[1;31mIndexError\u001b[0m                                Traceback (most recent call last)",
      "Cell \u001b[1;32mIn[69], line 1\u001b[0m\n\u001b[1;32m----> 1\u001b[0m l\u001b[38;5;241m.\u001b[39mpop(\u001b[38;5;241m20\u001b[39m)\n",
      "\u001b[1;31mIndexError\u001b[0m: pop index out of range"
     ]
    }
   ],
   "source": [
    "l.pop(20)"
   ]
  },
  {
   "cell_type": "code",
   "execution_count": 71,
   "id": "76cc938a-2776-4be4-8c31-54ee95965960",
   "metadata": {},
   "outputs": [
    {
     "data": {
      "text/plain": [
       "20"
      ]
     },
     "execution_count": 71,
     "metadata": {},
     "output_type": "execute_result"
    }
   ],
   "source": [
    "l.pop(0) # pop(index)"
   ]
  },
  {
   "cell_type": "code",
   "execution_count": 73,
   "id": "5b26d743-9c85-4a6a-9c59-cb56bc6accaa",
   "metadata": {},
   "outputs": [
    {
     "data": {
      "text/plain": [
       "[25, 30, 40, 50, 60, 200]"
      ]
     },
     "execution_count": 73,
     "metadata": {},
     "output_type": "execute_result"
    }
   ],
   "source": [
    "l"
   ]
  },
  {
   "cell_type": "code",
   "execution_count": 75,
   "id": "7c5632b1-b26f-4855-a220-9fc112db303c",
   "metadata": {},
   "outputs": [
    {
     "data": {
      "text/plain": [
       "50"
      ]
     },
     "execution_count": 75,
     "metadata": {},
     "output_type": "execute_result"
    }
   ],
   "source": [
    "l.pop(3)"
   ]
  },
  {
   "cell_type": "code",
   "execution_count": 77,
   "id": "b6404b9c-2b0d-4292-85d8-249593e5cdf4",
   "metadata": {},
   "outputs": [
    {
     "data": {
      "text/plain": [
       "[25, 30, 40, 60, 200]"
      ]
     },
     "execution_count": 77,
     "metadata": {},
     "output_type": "execute_result"
    }
   ],
   "source": [
    "l"
   ]
  },
  {
   "cell_type": "code",
   "execution_count": 79,
   "id": "86b7a7d6-bd3f-4e75-97cb-9fbf0d6f52de",
   "metadata": {},
   "outputs": [
    {
     "data": {
      "text/plain": [
       "[20, 10, 30, 40, 50, 60, 10, 2.3, 'nit', (11+2j)]"
      ]
     },
     "execution_count": 79,
     "metadata": {},
     "output_type": "execute_result"
    }
   ],
   "source": [
    "l1"
   ]
  },
  {
   "cell_type": "code",
   "execution_count": 81,
   "id": "d7e92eb2-6327-4339-a529-df6b7507fde7",
   "metadata": {},
   "outputs": [
    {
     "data": {
      "text/plain": [
       "5"
      ]
     },
     "execution_count": 81,
     "metadata": {},
     "output_type": "execute_result"
    }
   ],
   "source": [
    "len(l)"
   ]
  },
  {
   "cell_type": "code",
   "execution_count": 83,
   "id": "4b7716b7-356e-469d-85ad-b4f817678b3d",
   "metadata": {},
   "outputs": [
    {
     "data": {
      "text/plain": [
       "10"
      ]
     },
     "execution_count": 83,
     "metadata": {},
     "output_type": "execute_result"
    }
   ],
   "source": [
    "len(l1)"
   ]
  },
  {
   "cell_type": "code",
   "execution_count": 95,
   "id": "a1cbce9e-ca50-4bbc-b150-44e003f5652f",
   "metadata": {},
   "outputs": [
    {
     "data": {
      "text/plain": [
       "[20, 10, 30, 40, 50, 60, 10, 2.3, 'nit', (11+2j)]"
      ]
     },
     "execution_count": 95,
     "metadata": {},
     "output_type": "execute_result"
    }
   ],
   "source": [
    "l1"
   ]
  },
  {
   "cell_type": "code",
   "execution_count": 97,
   "id": "9416eb6b-0c0c-4e39-a2ec-31e9df4a3d7f",
   "metadata": {},
   "outputs": [],
   "source": [
    "l3=l1.copy()"
   ]
  },
  {
   "cell_type": "code",
   "execution_count": 99,
   "id": "a370742e-1421-4f01-8927-c6b0f93e3d49",
   "metadata": {},
   "outputs": [
    {
     "data": {
      "text/plain": [
       "[20, 10, 30, 40, 50, 60, 10, 2.3, 'nit', (11+2j)]"
      ]
     },
     "execution_count": 99,
     "metadata": {},
     "output_type": "execute_result"
    }
   ],
   "source": [
    "l3"
   ]
  },
  {
   "cell_type": "code",
   "execution_count": 101,
   "id": "e46d7090-831e-4473-ba23-5eeed745e678",
   "metadata": {},
   "outputs": [
    {
     "data": {
      "text/plain": [
       "True"
      ]
     },
     "execution_count": 101,
     "metadata": {},
     "output_type": "execute_result"
    }
   ],
   "source": [
    "l3==l1"
   ]
  },
  {
   "cell_type": "code",
   "execution_count": 103,
   "id": "268ad0b7-0fbe-469c-803f-b6c8c856070a",
   "metadata": {},
   "outputs": [],
   "source": [
    "l1.extend(l3)"
   ]
  },
  {
   "cell_type": "code",
   "execution_count": 105,
   "id": "25131fb2-4cc4-4e52-86c0-5d194c8667d7",
   "metadata": {},
   "outputs": [
    {
     "data": {
      "text/plain": [
       "[20,\n",
       " 10,\n",
       " 30,\n",
       " 40,\n",
       " 50,\n",
       " 60,\n",
       " 10,\n",
       " 2.3,\n",
       " 'nit',\n",
       " (11+2j),\n",
       " 20,\n",
       " 10,\n",
       " 30,\n",
       " 40,\n",
       " 50,\n",
       " 60,\n",
       " 10,\n",
       " 2.3,\n",
       " 'nit',\n",
       " (11+2j)]"
      ]
     },
     "execution_count": 105,
     "metadata": {},
     "output_type": "execute_result"
    }
   ],
   "source": [
    "l1"
   ]
  },
  {
   "cell_type": "code",
   "execution_count": 107,
   "id": "01865965-ceb9-4512-8081-fe2b1ebd3f20",
   "metadata": {},
   "outputs": [
    {
     "data": {
      "text/plain": [
       "[4, 5, 6]"
      ]
     },
     "execution_count": 107,
     "metadata": {},
     "output_type": "execute_result"
    }
   ],
   "source": [
    "l4=[4,5,6]\n",
    "l4"
   ]
  },
  {
   "cell_type": "code",
   "execution_count": 109,
   "id": "2d662357-aa36-41b3-a934-e743075452cb",
   "metadata": {},
   "outputs": [
    {
     "data": {
      "text/plain": [
       "[1, 2]"
      ]
     },
     "execution_count": 109,
     "metadata": {},
     "output_type": "execute_result"
    }
   ],
   "source": [
    "l7=[1,2]\n",
    "l7"
   ]
  },
  {
   "cell_type": "code",
   "execution_count": 111,
   "id": "edd16ec8-8398-4e4d-9955-b418a15a2216",
   "metadata": {},
   "outputs": [],
   "source": [
    "l7.extend(l4) # extend used to merge two list "
   ]
  },
  {
   "cell_type": "code",
   "execution_count": 113,
   "id": "58defaa0-9375-4605-bfc3-eeabd530b701",
   "metadata": {},
   "outputs": [
    {
     "data": {
      "text/plain": [
       "[1, 2, 4, 5, 6]"
      ]
     },
     "execution_count": 113,
     "metadata": {},
     "output_type": "execute_result"
    }
   ],
   "source": [
    "l7"
   ]
  },
  {
   "cell_type": "code",
   "execution_count": 121,
   "id": "59fb583b-0de0-408c-b7ab-09c27fe5cb50",
   "metadata": {},
   "outputs": [],
   "source": [
    "l7.reverse() #descending order"
   ]
  },
  {
   "cell_type": "code",
   "execution_count": 123,
   "id": "dc99e40c-8127-4904-bb65-166a3e94d655",
   "metadata": {},
   "outputs": [
    {
     "data": {
      "text/plain": [
       "[6, 5, 4, 2, 1]"
      ]
     },
     "execution_count": 123,
     "metadata": {},
     "output_type": "execute_result"
    }
   ],
   "source": [
    "l7"
   ]
  },
  {
   "cell_type": "code",
   "execution_count": 125,
   "id": "7ec4f874-0767-46d7-85cf-67dec4534195",
   "metadata": {},
   "outputs": [],
   "source": [
    "l7.sort()#ascending order"
   ]
  },
  {
   "cell_type": "code",
   "execution_count": 127,
   "id": "d6e196a1-9b37-416d-9b04-371115883261",
   "metadata": {},
   "outputs": [
    {
     "data": {
      "text/plain": [
       "[1, 2, 4, 5, 6]"
      ]
     },
     "execution_count": 127,
     "metadata": {},
     "output_type": "execute_result"
    }
   ],
   "source": [
    "l7"
   ]
  },
  {
   "cell_type": "code",
   "execution_count": 131,
   "id": "cddf3dc8-6efe-4bf8-9497-0512444176b6",
   "metadata": {},
   "outputs": [
    {
     "data": {
      "text/plain": [
       "[1, 2, 3]"
      ]
     },
     "execution_count": 131,
     "metadata": {},
     "output_type": "execute_result"
    }
   ],
   "source": [
    "l10=[1,2,3]\n",
    "l10"
   ]
  },
  {
   "cell_type": "code",
   "execution_count": 133,
   "id": "7f520ff2-358f-4a9b-a15c-253d8d00160e",
   "metadata": {},
   "outputs": [
    {
     "data": {
      "text/plain": [
       "[3, 2, 1]"
      ]
     },
     "execution_count": 133,
     "metadata": {},
     "output_type": "execute_result"
    }
   ],
   "source": [
    "l10.reverse()\n",
    "l10"
   ]
  },
  {
   "cell_type": "code",
   "execution_count": 139,
   "id": "e168248a-c5c9-4c5e-8185-853969350fd0",
   "metadata": {},
   "outputs": [
    {
     "data": {
      "text/plain": [
       "[3, 7, 10, 1, 100, 95]"
      ]
     },
     "execution_count": 139,
     "metadata": {},
     "output_type": "execute_result"
    }
   ],
   "source": [
    "l9=[3,7,10,1,100,95]\n",
    "l9"
   ]
  },
  {
   "cell_type": "code",
   "execution_count": 143,
   "id": "ff697de3-34bf-44af-af5f-8fa320bec331",
   "metadata": {},
   "outputs": [
    {
     "data": {
      "text/plain": [
       "[1, 3, 7, 10, 95, 100]"
      ]
     },
     "execution_count": 143,
     "metadata": {},
     "output_type": "execute_result"
    }
   ],
   "source": [
    "l9.sort()\n",
    "l9"
   ]
  },
  {
   "cell_type": "code",
   "execution_count": 147,
   "id": "03b368aa-946f-4ea2-88bf-336fc6ecdc96",
   "metadata": {},
   "outputs": [
    {
     "data": {
      "text/plain": [
       "[100, 95, 10, 7, 3, 1]"
      ]
     },
     "execution_count": 147,
     "metadata": {},
     "output_type": "execute_result"
    }
   ],
   "source": [
    "l9.sort(reverse=True)\n",
    "l9"
   ]
  },
  {
   "cell_type": "code",
   "execution_count": 1,
   "id": "c8cb3b26-1505-4261-928e-ab168cc52585",
   "metadata": {},
   "outputs": [
    {
     "data": {
      "text/plain": [
       "'abc def ghi   '"
      ]
     },
     "execution_count": 1,
     "metadata": {},
     "output_type": "execute_result"
    }
   ],
   "source": [
    "txt= \" abc def ghi   \"\n",
    "txt.lstrip()"
   ]
  },
  {
   "cell_type": "code",
   "execution_count": 3,
   "id": "fceec6c2-407f-4df7-99bc-0fff8f0dbf06",
   "metadata": {},
   "outputs": [
    {
     "data": {
      "text/plain": [
       "' abc def ghi'"
      ]
     },
     "execution_count": 3,
     "metadata": {},
     "output_type": "execute_result"
    }
   ],
   "source": [
    "txt.rstrip()"
   ]
  },
  {
   "cell_type": "markdown",
   "id": "7a1ff465-2a5f-402d-92ce-5e98fee81518",
   "metadata": {},
   "source": [
    "Using Escape Character"
   ]
  },
  {
   "cell_type": "code",
   "execution_count": 8,
   "id": "e69d4b57-eec5-4ee7-8b94-1d52bb64a141",
   "metadata": {},
   "outputs": [
    {
     "ename": "SyntaxError",
     "evalue": "invalid syntax (2806793831.py, line 1)",
     "output_type": "error",
     "traceback": [
      "\u001b[1;36m  Cell \u001b[1;32mIn[8], line 1\u001b[1;36m\u001b[0m\n\u001b[1;33m    mystr=\"My favorite Tv series is \"Game of throne\"\" # using double quote in th estring is not allowed\u001b[0m\n\u001b[1;37m                                     ^\u001b[0m\n\u001b[1;31mSyntaxError\u001b[0m\u001b[1;31m:\u001b[0m invalid syntax\n"
     ]
    }
   ],
   "source": [
    "mystr=\"My favorite Tv series is \"Game of throne\"\" # using double quote in the string is not allowed "
   ]
  },
  {
   "cell_type": "code",
   "execution_count": 10,
   "id": "8c71328a-255a-44a6-8321-5d8dd35df3d1",
   "metadata": {},
   "outputs": [
    {
     "name": "stdout",
     "output_type": "stream",
     "text": [
      "My favourite series is \"Game of throne\"\n"
     ]
    }
   ],
   "source": [
    "# Using the escape chharater to allow illegal characters \n",
    "mystr=\"My favourite series is \\\"Game of throne\\\"\"\n",
    "print(mystr)"
   ]
  },
  {
   "cell_type": "markdown",
   "id": "95bcefe5-b667-43a0-a14a-e5b280a59334",
   "metadata": {},
   "source": [
    "LIST"
   ]
  },
  {
   "cell_type": "code",
   "execution_count": 17,
   "id": "94088dd5-9aa6-4a01-880a-4d810352cb79",
   "metadata": {},
   "outputs": [],
   "source": [
    "list1=[] # Empty List "
   ]
  },
  {
   "cell_type": "code",
   "execution_count": 21,
   "id": "ed50c9ff-4412-491b-b31c-4541187ff255",
   "metadata": {},
   "outputs": [
    {
     "name": "stdout",
     "output_type": "stream",
     "text": [
      "<class 'list'>\n"
     ]
    }
   ],
   "source": [
    "print(type(list1))"
   ]
  },
  {
   "cell_type": "code",
   "execution_count": 23,
   "id": "e9dce2a2-f303-416c-9425-6c2e42c7c1e0",
   "metadata": {},
   "outputs": [],
   "source": [
    "list2=[10,20,30,] # list of int numbers"
   ]
  },
  {
   "cell_type": "code",
   "execution_count": 25,
   "id": "d61fd7d2-9dd2-4d62-84ca-313f40482775",
   "metadata": {},
   "outputs": [],
   "source": [
    "list3=[10.77,30.66,60.89] #list of float numbers"
   ]
  },
  {
   "cell_type": "code",
   "execution_count": 29,
   "id": "0b92e674-1d62-44d8-8b32-06ce6f232a80",
   "metadata": {},
   "outputs": [],
   "source": [
    "list4=['one','two','three'] #list of string"
   ]
  },
  {
   "cell_type": "code",
   "execution_count": 31,
   "id": "b7906d3c-251b-48e3-85b2-894c3011dc15",
   "metadata": {},
   "outputs": [],
   "source": [
    "list5=['asif',25,[50,200],[150,90]] #Nested lists"
   ]
  },
  {
   "cell_type": "code",
   "execution_count": 35,
   "id": "dab44be2-044a-4303-bdf8-c2502e32e36f",
   "metadata": {},
   "outputs": [],
   "source": [
    "list6=[100,'asif',17.765] # list of mixed datatypes "
   ]
  },
  {
   "cell_type": "code",
   "execution_count": 37,
   "id": "79a04c6a-1c29-42db-a3a1-58959f0d7942",
   "metadata": {},
   "outputs": [],
   "source": [
    "list7=['asif',25,[50,100],[150,90],{'john','david'}]"
   ]
  },
  {
   "cell_type": "code",
   "execution_count": 39,
   "id": "63e251c6-f2cf-4ef9-a2a1-3985f19b692f",
   "metadata": {},
   "outputs": [
    {
     "data": {
      "text/plain": [
       "3"
      ]
     },
     "execution_count": 39,
     "metadata": {},
     "output_type": "execute_result"
    }
   ],
   "source": [
    "len(list6)"
   ]
  },
  {
   "cell_type": "code",
   "execution_count": 41,
   "id": "a980e44a-08cd-4c68-8e9d-dbe173afa730",
   "metadata": {},
   "outputs": [
    {
     "data": {
      "text/plain": [
       "10"
      ]
     },
     "execution_count": 41,
     "metadata": {},
     "output_type": "execute_result"
    }
   ],
   "source": [
    "list2[0] # retrive first element"
   ]
  },
  {
   "cell_type": "code",
   "execution_count": 43,
   "id": "1391ab61-6e10-437b-a58f-fbaadf658b37",
   "metadata": {},
   "outputs": [
    {
     "data": {
      "text/plain": [
       "'one'"
      ]
     },
     "execution_count": 43,
     "metadata": {},
     "output_type": "execute_result"
    }
   ],
   "source": [
    "list4[0]"
   ]
  },
  {
   "cell_type": "code",
   "execution_count": 47,
   "id": "91d13fa7-4923-45ef-85b2-c633bebcc396",
   "metadata": {},
   "outputs": [
    {
     "data": {
      "text/plain": [
       "'o'"
      ]
     },
     "execution_count": 47,
     "metadata": {},
     "output_type": "execute_result"
    }
   ],
   "source": [
    "list4[0][0] # nested indexing retrive first character of the first element"
   ]
  },
  {
   "cell_type": "code",
   "execution_count": 49,
   "id": "46473a09-80e2-42d8-8d75-a6d022f6dc7c",
   "metadata": {},
   "outputs": [
    {
     "data": {
      "text/plain": [
       "'three'"
      ]
     },
     "execution_count": 49,
     "metadata": {},
     "output_type": "execute_result"
    }
   ],
   "source": [
    "list4[-1] # reverse indexing"
   ]
  },
  {
   "cell_type": "code",
   "execution_count": 51,
   "id": "815d1ed4-5bb1-4c66-b49f-e0d9102f0a53",
   "metadata": {},
   "outputs": [
    {
     "data": {
      "text/plain": [
       "[150, 90]"
      ]
     },
     "execution_count": 51,
     "metadata": {},
     "output_type": "execute_result"
    }
   ],
   "source": [
    "list5[-1]"
   ]
  },
  {
   "cell_type": "code",
   "execution_count": 87,
   "id": "4a5ef8e0-b6b2-407b-83cb-9c0ec1c68b93",
   "metadata": {},
   "outputs": [],
   "source": [
    "mylist = ['one' , 'two' , 'three' , 'four' , 'five' , 'six' , 'seven' , 'eight']"
   ]
  },
  {
   "cell_type": "code",
   "execution_count": 57,
   "id": "bd9cc166-da57-4779-88e4-9be660d59ed8",
   "metadata": {},
   "outputs": [
    {
     "data": {
      "text/plain": [
       "['one', 'two', 'three']"
      ]
     },
     "execution_count": 57,
     "metadata": {},
     "output_type": "execute_result"
    }
   ],
   "source": [
    "mylist[0:3] # returns all item except the left value "
   ]
  },
  {
   "cell_type": "code",
   "execution_count": 59,
   "id": "a45d5190-dc8f-4b87-99fb-1475d962f5c2",
   "metadata": {},
   "outputs": [
    {
     "data": {
      "text/plain": [
       "['three', 'four', 'five']"
      ]
     },
     "execution_count": 59,
     "metadata": {},
     "output_type": "execute_result"
    }
   ],
   "source": [
    "mylist[2:5]"
   ]
  },
  {
   "cell_type": "code",
   "execution_count": 63,
   "id": "c16cdbe8-92c8-48fc-8925-c159a4652c7e",
   "metadata": {},
   "outputs": [
    {
     "data": {
      "text/plain": [
       "['one', 'two', 'three']"
      ]
     },
     "execution_count": 63,
     "metadata": {},
     "output_type": "execute_result"
    }
   ],
   "source": [
    "mylist[:3] #returns first three items"
   ]
  },
  {
   "cell_type": "code",
   "execution_count": 65,
   "id": "c7918c6c-7261-45f6-8cf1-2cd8a8c0a346",
   "metadata": {},
   "outputs": [
    {
     "data": {
      "text/plain": [
       "['one', 'two']"
      ]
     },
     "execution_count": 65,
     "metadata": {},
     "output_type": "execute_result"
    }
   ],
   "source": [
    "mylist[:2]"
   ]
  },
  {
   "cell_type": "code",
   "execution_count": 67,
   "id": "ced1b240-5848-452a-8095-8236e72851b6",
   "metadata": {},
   "outputs": [
    {
     "data": {
      "text/plain": [
       "['six', 'seven', 'eight']"
      ]
     },
     "execution_count": 67,
     "metadata": {},
     "output_type": "execute_result"
    }
   ],
   "source": [
    "mylist[-3:] # returs last 3 items"
   ]
  },
  {
   "cell_type": "code",
   "execution_count": 69,
   "id": "4aeb51b8-433e-4d20-b18d-4a8eb1221535",
   "metadata": {},
   "outputs": [
    {
     "data": {
      "text/plain": [
       "['seven', 'eight']"
      ]
     },
     "execution_count": 69,
     "metadata": {},
     "output_type": "execute_result"
    }
   ],
   "source": [
    "mylist[-2:]"
   ]
  },
  {
   "cell_type": "code",
   "execution_count": 71,
   "id": "a5ee5696-0965-4865-aa84-15149cacd7a5",
   "metadata": {},
   "outputs": [
    {
     "data": {
      "text/plain": [
       "'eight'"
      ]
     },
     "execution_count": 71,
     "metadata": {},
     "output_type": "execute_result"
    }
   ],
   "source": [
    "mylist[-1]"
   ]
  },
  {
   "cell_type": "code",
   "execution_count": 73,
   "id": "8a59db70-7e0c-4056-b9d8-56720b9ed0a9",
   "metadata": {},
   "outputs": [
    {
     "data": {
      "text/plain": [
       "['one', 'two', 'three', 'four', 'five', 'six', 'seven', 'eight']"
      ]
     },
     "execution_count": 73,
     "metadata": {},
     "output_type": "execute_result"
    }
   ],
   "source": [
    "mylist[:]"
   ]
  },
  {
   "cell_type": "code",
   "execution_count": 89,
   "id": "b19e96d7-2b67-4fe9-b037-91cae557db03",
   "metadata": {},
   "outputs": [
    {
     "data": {
      "text/plain": [
       "['one', 'two', 'three', 'four', 'five', 'six', 'seven', 'eight']"
      ]
     },
     "execution_count": 89,
     "metadata": {},
     "output_type": "execute_result"
    }
   ],
   "source": [
    "mylist"
   ]
  },
  {
   "cell_type": "code",
   "execution_count": 91,
   "id": "cf91ba1e-6653-4ade-8e09-50b2c9f363b3",
   "metadata": {},
   "outputs": [
    {
     "data": {
      "text/plain": [
       "['one', 'two', 'three', 'four', 'five', 'six', 'seven', 'eight', 'nine']"
      ]
     },
     "execution_count": 91,
     "metadata": {},
     "output_type": "execute_result"
    }
   ],
   "source": [
    "mylist.append('nine') #add item to the end of the list\n",
    "mylist"
   ]
  },
  {
   "cell_type": "code",
   "execution_count": 93,
   "id": "c051245c-d246-4ebd-8835-ef7d68810e74",
   "metadata": {},
   "outputs": [
    {
     "data": {
      "text/plain": [
       "['one', 'two', 'three', 'four', 'five', 'six', 'seven', 'eight', 'nine', 'ten']"
      ]
     },
     "execution_count": 93,
     "metadata": {},
     "output_type": "execute_result"
    }
   ],
   "source": [
    "mylist.insert(9,'ten') #add item at index location\n",
    "mylist"
   ]
  },
  {
   "cell_type": "code",
   "execution_count": 101,
   "id": "77cc3dd1-3c09-4286-9a56-c27e51cacf85",
   "metadata": {},
   "outputs": [
    {
     "data": {
      "text/plain": [
       "['one',\n",
       " 'ONE',\n",
       " 'two',\n",
       " 'three',\n",
       " 'four',\n",
       " 'five',\n",
       " 'six',\n",
       " 'seven',\n",
       " 'eight',\n",
       " 'nine',\n",
       " 'ten']"
      ]
     },
     "execution_count": 101,
     "metadata": {},
     "output_type": "execute_result"
    }
   ],
   "source": [
    "mylist.insert(1,'ONE')\n",
    "mylist"
   ]
  },
  {
   "cell_type": "code",
   "execution_count": 103,
   "id": "564f2ad1-4dec-48b4-a6ed-0d2a68415f6f",
   "metadata": {},
   "outputs": [
    {
     "data": {
      "text/plain": [
       "['one', 'two', 'three', 'four', 'five', 'six', 'seven', 'eight', 'nine', 'ten']"
      ]
     },
     "execution_count": 103,
     "metadata": {},
     "output_type": "execute_result"
    }
   ],
   "source": [
    "mylist.remove('ONE') \n",
    "mylist"
   ]
  },
  {
   "cell_type": "code",
   "execution_count": 105,
   "id": "5b5846f4-7c56-467f-8c11-9893a0d831eb",
   "metadata": {},
   "outputs": [
    {
     "data": {
      "text/plain": [
       "['one', 'two', 'three', 'four', 'five', 'six', 'seven', 'eight', 'nine']"
      ]
     },
     "execution_count": 105,
     "metadata": {},
     "output_type": "execute_result"
    }
   ],
   "source": [
    "mylist.pop() # remove lat item form the list\n",
    "mylist "
   ]
  },
  {
   "cell_type": "code",
   "execution_count": 107,
   "id": "9bb042a0-91bc-4063-824d-729b94f23860",
   "metadata": {},
   "outputs": [
    {
     "data": {
      "text/plain": [
       "'nine'"
      ]
     },
     "execution_count": 107,
     "metadata": {},
     "output_type": "execute_result"
    }
   ],
   "source": [
    "mylist.pop(8) # index location removal"
   ]
  },
  {
   "cell_type": "code",
   "execution_count": 109,
   "id": "44ecddcc-7485-40e3-872a-50541e9f3731",
   "metadata": {},
   "outputs": [
    {
     "data": {
      "text/plain": [
       "['one', 'two', 'three', 'four', 'five', 'six', 'seven', 'eight']"
      ]
     },
     "execution_count": 109,
     "metadata": {},
     "output_type": "execute_result"
    }
   ],
   "source": [
    "mylist"
   ]
  },
  {
   "cell_type": "code",
   "execution_count": 111,
   "id": "1cd7fc94-444e-423c-986b-4111d7ed2d7c",
   "metadata": {},
   "outputs": [],
   "source": [
    "del mylist[7] # remove item 7 "
   ]
  },
  {
   "cell_type": "code",
   "execution_count": 113,
   "id": "e7e9295c-97df-421a-9060-d1aa830aabd3",
   "metadata": {},
   "outputs": [
    {
     "data": {
      "text/plain": [
       "['one', 'two', 'three', 'four', 'five', 'six', 'seven']"
      ]
     },
     "execution_count": 113,
     "metadata": {},
     "output_type": "execute_result"
    }
   ],
   "source": [
    "mylist"
   ]
  },
  {
   "cell_type": "code",
   "execution_count": 115,
   "id": "2d377c20-ecbe-45bb-a873-955a70120a6d",
   "metadata": {},
   "outputs": [
    {
     "data": {
      "text/plain": [
       "[1, 2, 3, 'four', 'five', 'six', 'seven']"
      ]
     },
     "execution_count": 115,
     "metadata": {},
     "output_type": "execute_result"
    }
   ],
   "source": [
    "# Change the value of trings \n",
    "mylist[0]=1\n",
    "mylist[1]=2\n",
    "mylist[2]=3\n",
    "mylist"
   ]
  },
  {
   "cell_type": "code",
   "execution_count": 117,
   "id": "1d402720-ed2a-4ba7-a16d-d50203e76aae",
   "metadata": {},
   "outputs": [
    {
     "data": {
      "text/plain": [
       "[]"
      ]
     },
     "execution_count": 117,
     "metadata": {},
     "output_type": "execute_result"
    }
   ],
   "source": [
    "mylist.clear() #Empty List/ Delete all items in the list \n",
    "mylist"
   ]
  },
  {
   "cell_type": "code",
   "execution_count": 119,
   "id": "258eab02-d492-4d48-b35e-10cbe45790b0",
   "metadata": {},
   "outputs": [
    {
     "ename": "NameError",
     "evalue": "name 'mylist' is not defined",
     "output_type": "error",
     "traceback": [
      "\u001b[1;31m---------------------------------------------------------------------------\u001b[0m",
      "\u001b[1;31mNameError\u001b[0m                                 Traceback (most recent call last)",
      "Cell \u001b[1;32mIn[119], line 2\u001b[0m\n\u001b[0;32m      1\u001b[0m \u001b[38;5;28;01mdel\u001b[39;00m mylist \u001b[38;5;66;03m# Delete the whole list\u001b[39;00m\n\u001b[1;32m----> 2\u001b[0m mylist\n",
      "\u001b[1;31mNameError\u001b[0m: name 'mylist' is not defined"
     ]
    }
   ],
   "source": [
    "del mylist # Delete the whole list\n",
    "mylist"
   ]
  },
  {
   "cell_type": "markdown",
   "id": "18dbf0c5-29ac-4e37-ace1-7fd45cb3cc19",
   "metadata": {},
   "source": [
    "Copy List"
   ]
  },
  {
   "cell_type": "code",
   "execution_count": 122,
   "id": "d5c74f16-edd1-4ba0-9f25-03a47b481c21",
   "metadata": {},
   "outputs": [],
   "source": [
    "mylist = ['one' , 'two' , 'three' , 'four' , 'five' , 'six' , 'seven' , 'eight','nine']"
   ]
  },
  {
   "cell_type": "code",
   "execution_count": 124,
   "id": "4fde8d0b-734c-45ec-bc4b-bc8f2816f9af",
   "metadata": {},
   "outputs": [],
   "source": [
    "mylist1=mylist # create a new reference \"mylist1\""
   ]
  },
  {
   "cell_type": "code",
   "execution_count": 128,
   "id": "2d70d9ad-2333-4f48-a9b9-fb3668eb43dc",
   "metadata": {},
   "outputs": [
    {
     "data": {
      "text/plain": [
       "(2919493809344, 2919493809344)"
      ]
     },
     "execution_count": 128,
     "metadata": {},
     "output_type": "execute_result"
    }
   ],
   "source": [
    "id(mylist) , id(mylist1) # as they are copied they will have sam address"
   ]
  },
  {
   "cell_type": "code",
   "execution_count": 130,
   "id": "8a106e95-2d56-425d-a445-d626d9a67fce",
   "metadata": {},
   "outputs": [
    {
     "data": {
      "text/plain": [
       "2919493428800"
      ]
     },
     "execution_count": 130,
     "metadata": {},
     "output_type": "execute_result"
    }
   ],
   "source": [
    "mylist2=mylist.copy() # create a copy of the list\n",
    "id(mylist2)"
   ]
  },
  {
   "cell_type": "code",
   "execution_count": 132,
   "id": "68fdd601-347f-480a-af35-7bafae2d8d0e",
   "metadata": {},
   "outputs": [],
   "source": [
    "mylist[0]=1"
   ]
  },
  {
   "cell_type": "code",
   "execution_count": 134,
   "id": "821dc61a-00be-495c-b836-adb92f321a3d",
   "metadata": {},
   "outputs": [
    {
     "data": {
      "text/plain": [
       "[1, 'two', 'three', 'four', 'five', 'six', 'seven', 'eight', 'nine']"
      ]
     },
     "execution_count": 134,
     "metadata": {},
     "output_type": "execute_result"
    }
   ],
   "source": [
    "mylist"
   ]
  },
  {
   "cell_type": "code",
   "execution_count": 138,
   "id": "5d49d61f-dc92-4ad6-9f9e-41172b8d715b",
   "metadata": {},
   "outputs": [
    {
     "data": {
      "text/plain": [
       "[1, 'two', 'three', 'four', 'five', 'six', 'seven', 'eight', 'nine']"
      ]
     },
     "execution_count": 138,
     "metadata": {},
     "output_type": "execute_result"
    }
   ],
   "source": [
    "mylist1 # as pointing to same list mylist1 will also change"
   ]
  },
  {
   "cell_type": "code",
   "execution_count": 140,
   "id": "d054dd7a-94df-4213-8a1c-6007e09cdb68",
   "metadata": {},
   "outputs": [
    {
     "data": {
      "text/plain": [
       "['one', 'two', 'three', 'four', 'five', 'six', 'seven', 'eight', 'nine']"
      ]
     },
     "execution_count": 140,
     "metadata": {},
     "output_type": "execute_result"
    }
   ],
   "source": [
    "mylist2 # copied will not have any changes made to the original"
   ]
  },
  {
   "cell_type": "markdown",
   "id": "26141dc5-faea-4acc-8101-29c0f46f8beb",
   "metadata": {},
   "source": [
    "Join Lists"
   ]
  },
  {
   "cell_type": "code",
   "execution_count": 203,
   "id": "ec7e7c99-eb2e-43cc-ab46-6a624165587e",
   "metadata": {},
   "outputs": [],
   "source": [
    "list1 = ['one', 'two', 'three', 'four']\n",
    "list2 = ['five', 'six', 'seven', 'eight']"
   ]
  },
  {
   "cell_type": "code",
   "execution_count": 205,
   "id": "9bac2c5f-37e5-4293-b68c-7a5bb7494499",
   "metadata": {},
   "outputs": [
    {
     "data": {
      "text/plain": [
       "['one', 'two', 'three', 'four', 'five', 'six', 'seven', 'eight']"
      ]
     },
     "execution_count": 205,
     "metadata": {},
     "output_type": "execute_result"
    }
   ],
   "source": [
    "list3=list1+list2 # using + operator\n",
    "list3"
   ]
  },
  {
   "cell_type": "code",
   "execution_count": 207,
   "id": "d96c8bc0-2a82-4695-bacd-c940a206a1c3",
   "metadata": {},
   "outputs": [
    {
     "data": {
      "text/plain": [
       "['one', 'two', 'three', 'four', 'five', 'six', 'seven', 'eight']"
      ]
     },
     "execution_count": 207,
     "metadata": {},
     "output_type": "execute_result"
    }
   ],
   "source": [
    "# using extend function\n",
    "list1.extend(list2) #append list2 with list 1\n",
    "list1"
   ]
  },
  {
   "cell_type": "markdown",
   "id": "f0592fd1-0765-4d16-be8e-36dffd5d79cd",
   "metadata": {},
   "source": [
    "List Membership"
   ]
  },
  {
   "cell_type": "code",
   "execution_count": 209,
   "id": "efeb63ff-35fb-4c9a-bb60-ef83f8e22002",
   "metadata": {},
   "outputs": [
    {
     "data": {
      "text/plain": [
       "['one', 'two', 'three', 'four', 'five', 'six', 'seven', 'eight']"
      ]
     },
     "execution_count": 209,
     "metadata": {},
     "output_type": "execute_result"
    }
   ],
   "source": [
    "list1"
   ]
  },
  {
   "cell_type": "code",
   "execution_count": 158,
   "id": "df496cea-60d8-4ef7-acf4-e6fc01ca977a",
   "metadata": {},
   "outputs": [
    {
     "data": {
      "text/plain": [
       "True"
      ]
     },
     "execution_count": 158,
     "metadata": {},
     "output_type": "execute_result"
    }
   ],
   "source": [
    "'one' in list1 # check if one exist "
   ]
  },
  {
   "cell_type": "code",
   "execution_count": 160,
   "id": "f904140b-2f4d-4533-a9a7-bf231ae7290e",
   "metadata": {},
   "outputs": [
    {
     "data": {
      "text/plain": [
       "False"
      ]
     },
     "execution_count": 160,
     "metadata": {},
     "output_type": "execute_result"
    }
   ],
   "source": [
    "'ten' in list1"
   ]
  },
  {
   "cell_type": "code",
   "execution_count": 164,
   "id": "2059256b-fe41-4db5-a11c-05355cc1385a",
   "metadata": {},
   "outputs": [
    {
     "name": "stdout",
     "output_type": "stream",
     "text": [
      "three present\n"
     ]
    }
   ],
   "source": [
    "if 'three' in list1: # checkinh if three exist in the list\n",
    "    print('three present')\n",
    "else:\n",
    "    print('three absent')"
   ]
  },
  {
   "cell_type": "code",
   "execution_count": 166,
   "id": "7e988283-de5f-4432-953d-de6635ee0c16",
   "metadata": {},
   "outputs": [
    {
     "name": "stdout",
     "output_type": "stream",
     "text": [
      "eleven absent\n"
     ]
    }
   ],
   "source": [
    "if 'eleven' in list1: # checking if eleven exist in the list\n",
    "    print('eleven present')\n",
    "else:\n",
    "    print('eleven absent')"
   ]
  },
  {
   "cell_type": "markdown",
   "id": "9a934627-e1a3-43db-96fa-415d12ea35a7",
   "metadata": {},
   "source": [
    "Reverse and Sort List"
   ]
  },
  {
   "cell_type": "code",
   "execution_count": 179,
   "id": "9d116a61-4351-4148-98f0-580d74490467",
   "metadata": {},
   "outputs": [
    {
     "data": {
      "text/plain": [
       "list[slice(None, None, -1)]"
      ]
     },
     "execution_count": 179,
     "metadata": {},
     "output_type": "execute_result"
    }
   ],
   "source": [
    "list1"
   ]
  },
  {
   "cell_type": "code",
   "execution_count": 195,
   "id": "3cd703c0-f298-4ccc-8543-b9de06257ea7",
   "metadata": {},
   "outputs": [
    {
     "data": {
      "text/plain": [
       "['eight', 'seven', 'six', 'five', 'four', 'three', 'two', 'one']"
      ]
     },
     "execution_count": 195,
     "metadata": {},
     "output_type": "execute_result"
    }
   ],
   "source": [
    "list1.reverse()\n",
    "list1"
   ]
  },
  {
   "cell_type": "code",
   "execution_count": 211,
   "id": "f1f073b4-41bc-47d1-98e7-c5fa76d3d5a3",
   "metadata": {},
   "outputs": [
    {
     "data": {
      "text/plain": [
       "['eight', 'seven', 'six', 'five', 'four', 'three', 'two', 'one']"
      ]
     },
     "execution_count": 211,
     "metadata": {},
     "output_type": "execute_result"
    }
   ],
   "source": [
    "list1= list1[::-1]\n",
    "list1"
   ]
  },
  {
   "cell_type": "code",
   "execution_count": 213,
   "id": "616e9448-e1cc-458d-9dfe-069a741f7602",
   "metadata": {},
   "outputs": [
    {
     "data": {
      "text/plain": [
       "[2, 5, 9, 12, 34, 88, 99]"
      ]
     },
     "execution_count": 213,
     "metadata": {},
     "output_type": "execute_result"
    }
   ],
   "source": [
    "mylist3 = [9,5,2,99,12,88,34]\n",
    "mylist3.sort() # Sort list in ascending order\n",
    "mylist3"
   ]
  },
  {
   "cell_type": "code",
   "execution_count": 215,
   "id": "26a0a2f5-d226-4531-8e31-95fd683ad5f8",
   "metadata": {},
   "outputs": [
    {
     "data": {
      "text/plain": [
       "[99, 88, 34, 12, 9, 5, 2]"
      ]
     },
     "execution_count": 215,
     "metadata": {},
     "output_type": "execute_result"
    }
   ],
   "source": [
    "mylist3 = [9,5,2,99,12,88,34]\n",
    "mylist3.sort(reverse=True) # Sort list in descending order\n",
    "mylist3"
   ]
  },
  {
   "cell_type": "code",
   "execution_count": 217,
   "id": "c3ca329f-56f8-4f52-b8ce-9bab1f3e5e75",
   "metadata": {},
   "outputs": [
    {
     "data": {
      "text/plain": [
       "[11, 21, 33, 65, 88, 98]"
      ]
     },
     "execution_count": 217,
     "metadata": {},
     "output_type": "execute_result"
    }
   ],
   "source": [
    "mylist4=[88,65,33,21,11,98]\n",
    "sorted(mylist4) # returns a new sorted list and doesnt change original "
   ]
  },
  {
   "cell_type": "code",
   "execution_count": 219,
   "id": "b2a244cd-83bd-4a25-96c4-5fa786d49932",
   "metadata": {},
   "outputs": [
    {
     "data": {
      "text/plain": [
       "[88, 65, 33, 21, 11, 98]"
      ]
     },
     "execution_count": 219,
     "metadata": {},
     "output_type": "execute_result"
    }
   ],
   "source": [
    "mylist4"
   ]
  },
  {
   "cell_type": "markdown",
   "id": "19bdc8fe-0072-44f9-9522-4f4905fadfbf",
   "metadata": {},
   "source": [
    "loop through a list"
   ]
  },
  {
   "cell_type": "code",
   "execution_count": 222,
   "id": "2f3fe6fd-6a6d-4617-8c05-b26e19a9bf29",
   "metadata": {},
   "outputs": [
    {
     "data": {
      "text/plain": [
       "['eight', 'seven', 'six', 'five', 'four', 'three', 'two', 'one']"
      ]
     },
     "execution_count": 222,
     "metadata": {},
     "output_type": "execute_result"
    }
   ],
   "source": [
    "list1"
   ]
  },
  {
   "cell_type": "code",
   "execution_count": 224,
   "id": "cc4b0624-6ac0-449a-88b8-f7f9d716120f",
   "metadata": {},
   "outputs": [
    {
     "name": "stdout",
     "output_type": "stream",
     "text": [
      "eight\n",
      "seven\n",
      "six\n",
      "five\n",
      "four\n",
      "three\n",
      "two\n",
      "one\n"
     ]
    }
   ],
   "source": [
    "for i in list1:\n",
    "    print(i)"
   ]
  },
  {
   "cell_type": "code",
   "execution_count": 228,
   "id": "03a2dfca-7394-4383-b922-5cd21d981dc2",
   "metadata": {},
   "outputs": [
    {
     "name": "stdout",
     "output_type": "stream",
     "text": [
      "(0, 'eight')\n",
      "(1, 'seven')\n",
      "(2, 'six')\n",
      "(3, 'five')\n",
      "(4, 'four')\n",
      "(5, 'three')\n",
      "(6, 'two')\n",
      "(7, 'one')\n"
     ]
    }
   ],
   "source": [
    "for i in enumerate(list1):\n",
    "    print (i)"
   ]
  },
  {
   "cell_type": "markdown",
   "id": "09d083d6-69b7-46a9-9527-a7b2e0737a26",
   "metadata": {},
   "source": [
    "Count"
   ]
  },
  {
   "cell_type": "code",
   "execution_count": 231,
   "id": "e51e89aa-8c33-4ea5-9a77-aa3b26de6e6c",
   "metadata": {},
   "outputs": [],
   "source": [
    "list10 =['one', 'two', 'three', 'four', 'one', 'one', 'two', 'three']"
   ]
  },
  {
   "cell_type": "code",
   "execution_count": 233,
   "id": "9b1a70b0-c3b5-438d-a762-2b4c52152fb5",
   "metadata": {},
   "outputs": [
    {
     "data": {
      "text/plain": [
       "3"
      ]
     },
     "execution_count": 233,
     "metadata": {},
     "output_type": "execute_result"
    }
   ],
   "source": [
    "list10.count('one')"
   ]
  },
  {
   "cell_type": "code",
   "execution_count": 236,
   "id": "b7b11c48-8082-407c-bf4b-ba0b184c8b23",
   "metadata": {},
   "outputs": [
    {
     "data": {
      "text/plain": [
       "2"
      ]
     },
     "execution_count": 236,
     "metadata": {},
     "output_type": "execute_result"
    }
   ],
   "source": [
    "list10.count('two')"
   ]
  },
  {
   "cell_type": "code",
   "execution_count": 238,
   "id": "9dbd4879-9252-4fcb-aefe-7f3179ef205d",
   "metadata": {},
   "outputs": [
    {
     "data": {
      "text/plain": [
       "1"
      ]
     },
     "execution_count": 238,
     "metadata": {},
     "output_type": "execute_result"
    }
   ],
   "source": [
    "list10.count('four')"
   ]
  },
  {
   "cell_type": "markdown",
   "id": "974770c5-3a97-4cf7-9715-541bc0a8edd5",
   "metadata": {},
   "source": [
    "ALL / ANY"
   ]
  },
  {
   "cell_type": "code",
   "execution_count": 241,
   "id": "34eae81a-7435-4505-bf3d-a25ebbaa7020",
   "metadata": {},
   "outputs": [],
   "source": [
    "L1=[1,2,3,4,0]"
   ]
  },
  {
   "cell_type": "code",
   "execution_count": 243,
   "id": "edd44b4f-4658-4c2e-81c6-6764f3669529",
   "metadata": {},
   "outputs": [
    {
     "data": {
      "text/plain": [
       "False"
      ]
     },
     "execution_count": 243,
     "metadata": {},
     "output_type": "execute_result"
    }
   ],
   "source": [
    "all(L1) #will return false as one value is false (value 0)"
   ]
  },
  {
   "cell_type": "code",
   "execution_count": 247,
   "id": "939fb230-5d60-4688-9a5e-34c8d67b097e",
   "metadata": {},
   "outputs": [
    {
     "data": {
      "text/plain": [
       "True"
      ]
     },
     "execution_count": 247,
     "metadata": {},
     "output_type": "execute_result"
    }
   ],
   "source": [
    "any(L1)"
   ]
  },
  {
   "cell_type": "code",
   "execution_count": 251,
   "id": "32445dca-d875-426d-89f4-dd7c00cec510",
   "metadata": {},
   "outputs": [],
   "source": [
    "L2=[1,2,3,4,True,False]"
   ]
  },
  {
   "cell_type": "code",
   "execution_count": 253,
   "id": "e12b307c-30c4-4c7e-a5e3-d46bd29962cb",
   "metadata": {},
   "outputs": [
    {
     "data": {
      "text/plain": [
       "False"
      ]
     },
     "execution_count": 253,
     "metadata": {},
     "output_type": "execute_result"
    }
   ],
   "source": [
    "all(L2) # returns false as one value is flase "
   ]
  },
  {
   "cell_type": "code",
   "execution_count": 255,
   "id": "946e7b40-0cb0-43a6-818a-f0cd83658a1b",
   "metadata": {},
   "outputs": [
    {
     "data": {
      "text/plain": [
       "True"
      ]
     },
     "execution_count": 255,
     "metadata": {},
     "output_type": "execute_result"
    }
   ],
   "source": [
    "any(L2) # wil"
   ]
  },
  {
   "cell_type": "code",
   "execution_count": null,
   "id": "d8f25591-c6b7-446a-ba24-8522e82da3d7",
   "metadata": {},
   "outputs": [],
   "source": []
  }
 ],
 "metadata": {
  "kernelspec": {
   "display_name": "Python 3 (ipykernel)",
   "language": "python",
   "name": "python3"
  },
  "language_info": {
   "codemirror_mode": {
    "name": "ipython",
    "version": 3
   },
   "file_extension": ".py",
   "mimetype": "text/x-python",
   "name": "python",
   "nbconvert_exporter": "python",
   "pygments_lexer": "ipython3",
   "version": "3.12.4"
  }
 },
 "nbformat": 4,
 "nbformat_minor": 5
}
