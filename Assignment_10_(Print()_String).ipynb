{
 "cells": [
  {
   "cell_type": "markdown",
   "id": "b5efcf6a-8bb5-4186-98c4-ff6033024fb2",
   "metadata": {},
   "source": [
    "## PRINT"
   ]
  },
  {
   "cell_type": "code",
   "execution_count": 3,
   "id": "9049f342-67f2-4a52-b2ad-b2154f90c005",
   "metadata": {},
   "outputs": [
    {
     "data": {
      "text/plain": [
       "20"
      ]
     },
     "execution_count": 3,
     "metadata": {},
     "output_type": "execute_result"
    }
   ],
   "source": [
    "#print is used for an answer\n",
    "a=10\n",
    "b=20\n",
    "a\n",
    "b"
   ]
  },
  {
   "cell_type": "code",
   "execution_count": 5,
   "id": "3e1a7aa0-d649-44af-ad5e-a0cf76e53071",
   "metadata": {},
   "outputs": [
    {
     "name": "stdout",
     "output_type": "stream",
     "text": [
      "10 20\n"
     ]
    }
   ],
   "source": [
    "a=10\n",
    "b=20\n",
    "print(a,b)"
   ]
  },
  {
   "cell_type": "code",
   "execution_count": 7,
   "id": "a2a4c8ea-803b-451e-9aaa-4766ab750522",
   "metadata": {},
   "outputs": [
    {
     "name": "stdout",
     "output_type": "stream",
     "text": [
      "10\n",
      "10 20\n",
      "GenAI\n",
      "12 24 GenAi\n"
     ]
    }
   ],
   "source": [
    "print(10)\n",
    "print(10,20)\n",
    "print('GenAI')\n",
    "print(12,24,'GenAi')"
   ]
  },
  {
   "cell_type": "code",
   "execution_count": 9,
   "id": "7d5a77e5-1f95-4ee2-ae62-370e08a92b5a",
   "metadata": {},
   "outputs": [
    {
     "name": "stdout",
     "output_type": "stream",
     "text": [
      "50\n"
     ]
    }
   ],
   "source": [
    "num1=20\n",
    "num2=30\n",
    "add=num1+num2\n",
    "print(add)"
   ]
  },
  {
   "cell_type": "markdown",
   "id": "f7cba4fa-b818-4f8a-8ffd-68275c21eb86",
   "metadata": {},
   "source": [
    "## Print Result with String "
   ]
  },
  {
   "cell_type": "code",
   "execution_count": 21,
   "id": "d4208667-6df5-4310-9ab9-3cd8a31897d7",
   "metadata": {},
   "outputs": [
    {
     "name": "stdout",
     "output_type": "stream",
     "text": [
      "The sum of 25 and 35 is = 60\n"
     ]
    }
   ],
   "source": [
    "x=25\n",
    "y=35\n",
    "add=x+y\n",
    "print('The sum of',x,'and',y,'is =',add)"
   ]
  },
  {
   "cell_type": "code",
   "execution_count": 23,
   "id": "380a4c4e-ba0c-4d74-add9-eca141b059e0",
   "metadata": {},
   "outputs": [
    {
     "name": "stdout",
     "output_type": "stream",
     "text": [
      "My name is GenAI and i am 20 years old and from hyd\n"
     ]
    }
   ],
   "source": [
    "name='GenAI'\n",
    "age=20\n",
    "city='hyd'\n",
    "#hello my name is GenAI and I am 20 years olo and from hyd\n",
    "print('My name is',name,'and i am',age,'years old and from',city)"
   ]
  },
  {
   "cell_type": "code",
   "execution_count": 27,
   "id": "e6eadb9d-620f-4418-b337-3a3ca225a23d",
   "metadata": {},
   "outputs": [
    {
     "name": "stdout",
     "output_type": "stream",
     "text": [
      "The addition of 34 and 44 is = 78\n"
     ]
    }
   ],
   "source": [
    "x=34\n",
    "y=44\n",
    "add=x+y\n",
    "print('The addition of {} and {} is = {}'.format(x,y,add))"
   ]
  },
  {
   "cell_type": "markdown",
   "id": "940528d1-d303-4bc3-95de-cbc065744915",
   "metadata": {},
   "source": [
    ">first decide how the print statement should be\n",
    "\n",
    ">like:- The addition of 20 and 30 is = 50\n",
    "\n",
    ">then replace the variable position with curly brtacesm { }\n",
    "    \n",
    ">then appply .format(val1,val2,....val-n methodm"
   ]
  },
  {
   "cell_type": "code",
   "execution_count": 31,
   "id": "d4fb97e8-c832-4282-aa09-22d4aa175abf",
   "metadata": {},
   "outputs": [
    {
     "name": "stdout",
     "output_type": "stream",
     "text": [
      "My name is GenAI, I am 21 years old and from hyderabad city\n"
     ]
    }
   ],
   "source": [
    "name='GenAI'\n",
    "age=21\n",
    "city='hyderabad'\n",
    "print(\"My name is {}, I am {} years old and from {} city\".format(name,age,city))"
   ]
  },
  {
   "cell_type": "code",
   "execution_count": 33,
   "id": "0f7799f1-5876-4910-b45d-246b04172589",
   "metadata": {},
   "outputs": [
    {
     "name": "stdout",
     "output_type": "stream",
     "text": [
      "The average of 929, 889, and 673 is = 830.3333333333334 or 830.33\n"
     ]
    }
   ],
   "source": [
    "a=929\n",
    "b=889\n",
    "c=673\n",
    "avg=(a+b+c)/3 # or we can use avg=round(a+b+c)/3,2)\n",
    "avg1=round((a+b+c)/3,2)\n",
    "print('The average of {}, {}, and {} is = {} or {}'.format(a,b,c,avg,avg1))\n"
   ]
  },
  {
   "cell_type": "code",
   "execution_count": 35,
   "id": "0fcb9339-651e-46ac-a698-0ca6cd2a0190",
   "metadata": {},
   "outputs": [
    {
     "data": {
      "text/plain": [
       "830.33"
      ]
     },
     "execution_count": 35,
     "metadata": {},
     "output_type": "execute_result"
    }
   ],
   "source": [
    "round(avg,2)"
   ]
  },
  {
   "cell_type": "markdown",
   "id": "6bdf4383-9440-49c9-80fa-8230cc92651b",
   "metadata": {},
   "source": [
    "## More short format meythod(f string method)\n",
    ">variable should be in curly braces\n",
    "    \n",
    ">and write everything inside quotes ''\n",
    "    \n",
    ">at starting simply add f"
   ]
  },
  {
   "cell_type": "code",
   "execution_count": 38,
   "id": "97ed9856-1119-46f3-bf70-1de70d6e01f0",
   "metadata": {},
   "outputs": [
    {
     "name": "stdout",
     "output_type": "stream",
     "text": [
      "The sum of 23 and 45 is = 68\n"
     ]
    }
   ],
   "source": [
    "a=23\n",
    "b=45\n",
    "add=a+b\n",
    "print(f'The sum of {a} and {b} is = {add}') #easy to understand and most preferable "
   ]
  },
  {
   "cell_type": "code",
   "execution_count": 40,
   "id": "2facc985-330c-4a82-9dce-ab9e5fa5b4ad",
   "metadata": {},
   "outputs": [],
   "source": [
    "name='GenAI'\n",
    "age=20\n",
    "city='hyd'"
   ]
  },
  {
   "cell_type": "code",
   "execution_count": 44,
   "id": "2edadaf7-7b1d-4d96-9b88-12305d099813",
   "metadata": {},
   "outputs": [
    {
     "name": "stdout",
     "output_type": "stream",
     "text": [
      "hello my name is GenAI, and I am 20 years old, from hyd.\n"
     ]
    }
   ],
   "source": [
    "print(f'hello my name is {name}, and I am {age} years old, from {city}.')"
   ]
  },
  {
   "cell_type": "code",
   "execution_count": 48,
   "id": "64f7d8e1-793d-47a3-8289-50acb1d9b0dd",
   "metadata": {},
   "outputs": [
    {
     "name": "stdout",
     "output_type": "stream",
     "text": [
      "The average of 546,852 and 159 is = 519.0\n"
     ]
    }
   ],
   "source": [
    "x=546\n",
    "y=852\n",
    "z=159\n",
    "avg=round((x+y+z)/3,2)\n",
    "print(f'The average of {x},{y} and {z} is = {avg}')"
   ]
  },
  {
   "cell_type": "code",
   "execution_count": 52,
   "id": "26110dc3-f936-45f7-acc6-84975cc0176b",
   "metadata": {},
   "outputs": [
    {
     "name": "stdout",
     "output_type": "stream",
     "text": [
      "the sum of  30 and 40 is = 70\n",
      "The sum of 30 and 40 is= 70\n",
      "The sum of 30 and 40 is = 70\n"
     ]
    }
   ],
   "source": [
    "#lets combine all the formats\n",
    "x=30\n",
    "y=40\n",
    "add=x+y\n",
    "print('the sum of ',x,'and',y,'is =', add)\n",
    "print('The sum of {} and {} is= {}'.format(x,y,add))\n",
    "print(f'The sum of {x} and {y} is = {add}')"
   ]
  },
  {
   "cell_type": "markdown",
   "id": "2b5cb695-8458-41cc-a60d-4484d72fb4f4",
   "metadata": {},
   "source": [
    "## END statement"
   ]
  },
  {
   "cell_type": "code",
   "execution_count": 55,
   "id": "107c45ff-1ec6-4460-bd93-22d3daf7ef23",
   "metadata": {},
   "outputs": [
    {
     "name": "stdout",
     "output_type": "stream",
     "text": [
      "hi\n",
      "good morning\n"
     ]
    }
   ],
   "source": [
    "print('hi') # 1st statement\n",
    "print('good morning')#2nd statement\n",
    "#I want to print like :- hello good morning"
   ]
  },
  {
   "cell_type": "markdown",
   "id": "a825e2a6-f105-4f21-b8ab-c9941be8df06",
   "metadata": {},
   "source": [
    "- Here we will use end statement that joint line from end of one string to starting of other string"
   ]
  },
  {
   "cell_type": "code",
   "execution_count": 60,
   "id": "01a5da21-7384-41e5-80b2-c9e07547f6cc",
   "metadata": {},
   "outputs": [
    {
     "name": "stdout",
     "output_type": "stream",
     "text": [
      "hi good morning\n"
     ]
    }
   ],
   "source": [
    "print('hi ',end='')\n",
    "print('good morning')"
   ]
  },
  {
   "cell_type": "markdown",
   "id": "3c3afe50-8ba7-4d35-89ef-9f8192ebb96c",
   "metadata": {},
   "source": [
    "## Seperator\n",
    "\n",
    "- here one print statement only we use\n",
    "\n",
    "\r",
    "- \n",
    "insisde one print statement we have multipa value\n",
    "\n",
    "- \r\n",
    "we want to seperate these multleal values th anything\n",
    "ng\r"
   ]
  },
  {
   "cell_type": "code",
   "execution_count": 72,
   "id": "81c71b88-9370-4343-a2d3-21b1e5657949",
   "metadata": {},
   "outputs": [
    {
     "name": "stdout",
     "output_type": "stream",
     "text": [
      "hello--->hal--->how are you\n"
     ]
    }
   ],
   "source": [
    "print('hello','hal','how are you',sep='--->')"
   ]
  },
  {
   "cell_type": "code",
   "execution_count": 74,
   "id": "7a88931c-9d5e-489a-8e8b-43371a3e88b7",
   "metadata": {},
   "outputs": [
    {
     "name": "stdout",
     "output_type": "stream",
     "text": [
      "hello&hal&how are you\n"
     ]
    }
   ],
   "source": [
    "print('hello','hal','how are you',sep='&')"
   ]
  },
  {
   "cell_type": "code",
   "execution_count": 76,
   "id": "747560fa-b27f-4315-a984-7168e612ac6f",
   "metadata": {},
   "outputs": [
    {
     "name": "stdout",
     "output_type": "stream",
     "text": [
      "hello@hal@how are you\n"
     ]
    }
   ],
   "source": [
    "print('hello','hal','how are you',sep='@')"
   ]
  },
  {
   "cell_type": "code",
   "execution_count": 78,
   "id": "8a340d5d-21e9-4c6c-9118-a52969845d3f",
   "metadata": {},
   "outputs": [
    {
     "name": "stdout",
     "output_type": "stream",
     "text": [
      "hello hal how are you\n"
     ]
    }
   ],
   "source": [
    "print('hello','hal','how are you',sep=' ')"
   ]
  },
  {
   "cell_type": "code",
   "execution_count": 80,
   "id": "0f0deec6-82f3-401f-b2a2-d26862be17d9",
   "metadata": {},
   "outputs": [
    {
     "name": "stdout",
     "output_type": "stream",
     "text": [
      "3 .\n"
     ]
    }
   ],
   "source": [
    "print(3,'.')"
   ]
  },
  {
   "cell_type": "code",
   "execution_count": 84,
   "id": "9b02eeaf-6d2e-4dac-9feb-0ab370e9e007",
   "metadata": {},
   "outputs": [
    {
     "name": "stdout",
     "output_type": "stream",
     "text": [
      "3.\n"
     ]
    }
   ],
   "source": [
    "print(3,'.',sep='')"
   ]
  },
  {
   "cell_type": "code",
   "execution_count": 88,
   "id": "1437b6ba-7888-46e6-82c6-63b2eb8f0244",
   "metadata": {},
   "outputs": [
    {
     "name": "stdout",
     "output_type": "stream",
     "text": [
      "1 2 3.\n"
     ]
    }
   ],
   "source": [
    "print(1,2,end=' ')\n",
    "print(3,'.',sep='')\n",
    "#will print 1 2 3."
   ]
  },
  {
   "cell_type": "markdown",
   "id": "d9bd29cc-6c67-4090-84be-6442e5cc1410",
   "metadata": {},
   "source": [
    "## Manipulating Strings"
   ]
  },
  {
   "cell_type": "markdown",
   "id": "b8542831-f78f-40ad-addb-6d614766d832",
   "metadata": {},
   "source": [
    "Escape Characters \n",
    "- An escape character is created by typing a backslash `\\` followed by the character you\n",
    "want to insert.\n",
    "Escape character       Prints as\n",
    "- `\\'`                   Single quote\n",
    "\n",
    "- `\\\"`                   Double quote\n",
    "\n",
    "- `\\t`                   Tab\n",
    "  \n",
    "- `\\n`                   Newline (line break)\n",
    "  \n",
    "- `\\\\`                   Backslash\n",
    "  \n",
    "- `\\b`                   Backspace\n",
    "  \n",
    "- `\\ooo`                 Octal value\n",
    "  \n",
    "- `\\r`                   Carriage Return\n",
    "  "
   ]
  },
  {
   "cell_type": "code",
   "execution_count": 95,
   "id": "218e331e-2fb2-4152-a3d1-2778464f60a7",
   "metadata": {},
   "outputs": [
    {
     "name": "stdout",
     "output_type": "stream",
     "text": [
      "Hello there!\n",
      "How are you?\n",
      "I'm doin fine.\n"
     ]
    }
   ],
   "source": [
    "print(\"Hello there!\\nHow are you?\\nI\\'m doin fine.\")"
   ]
  },
  {
   "cell_type": "markdown",
   "id": "67a355c5-93fa-4cbe-9158-f3930e916a3f",
   "metadata": {},
   "source": [
    "## Raw Strings\n",
    "- A raw string entirely ignores all escape characters and prints any backlash that appears in the string."
   ]
  },
  {
   "cell_type": "code",
   "execution_count": 98,
   "id": "adef2e73-a91a-49c6-be37-3729cb6801e0",
   "metadata": {},
   "outputs": [
    {
     "name": "stdout",
     "output_type": "stream",
     "text": [
      "Hello there !\\nHow are you?\\nI\\'m doing fine.\n"
     ]
    }
   ],
   "source": [
    "print(r\"Hello there !\\nHow are you?\\nI\\'m doing fine.\")"
   ]
  },
  {
   "cell_type": "markdown",
   "id": "9735b672-e978-47df-b214-87ccd48daf2a",
   "metadata": {},
   "source": [
    "- Raw strings are mostly used for regular expression definition."
   ]
  },
  {
   "cell_type": "markdown",
   "id": "7ae606fd-5a2d-47f9-9cf6-35792dfd6565",
   "metadata": {},
   "source": [
    "## Multiline Strings"
   ]
  },
  {
   "cell_type": "code",
   "execution_count": 104,
   "id": "7f2ca318-e793-49db-a021-bad713faa18c",
   "metadata": {},
   "outputs": [
    {
     "name": "stdout",
     "output_type": "stream",
     "text": [
      "Dear alice,\n",
      "        Eves cats has been arrested for catnapping,\n",
      "        cat burglary and extortion.\n",
      "\n",
      "    sincerely\n",
      "     Bob\n"
     ]
    }
   ],
   "source": [
    "print(\"\"\"Dear alice,\n",
    "        Eves cats has been arrested for catnapping,\n",
    "        cat burglary and extortion.\n",
    "\n",
    "    sincerely\n",
    "     Bob\"\"\"\n",
    "     )"
   ]
  },
  {
   "cell_type": "markdown",
   "id": "22baf331-5e2d-4b0e-8ed2-f81936c8a34a",
   "metadata": {},
   "source": [
    "## Indexing and Slicing Strings"
   ]
  },
  {
   "cell_type": "code",
   "execution_count": 107,
   "id": "4e875a9e-b590-4572-9b87-f2aceeb9902c",
   "metadata": {},
   "outputs": [
    {
     "data": {
      "text/plain": [
       "'D'"
      ]
     },
     "execution_count": 107,
     "metadata": {},
     "output_type": "execute_result"
    }
   ],
   "source": [
    "s='DatascienceGenAi'\n",
    "s[0]"
   ]
  },
  {
   "cell_type": "code",
   "execution_count": 109,
   "id": "0e274591-f3a0-4163-aba7-5275c897c371",
   "metadata": {},
   "outputs": [
    {
     "data": {
      "text/plain": [
       "'a'"
      ]
     },
     "execution_count": 109,
     "metadata": {},
     "output_type": "execute_result"
    }
   ],
   "source": [
    "s[3]"
   ]
  },
  {
   "cell_type": "code",
   "execution_count": 111,
   "id": "d991776d-e818-4e4a-95bb-cb722aefb6c1",
   "metadata": {},
   "outputs": [
    {
     "data": {
      "text/plain": [
       "'i'"
      ]
     },
     "execution_count": 111,
     "metadata": {},
     "output_type": "execute_result"
    }
   ],
   "source": [
    "s[-1]"
   ]
  },
  {
   "cell_type": "markdown",
   "id": "2bc530c0-a27f-4863-89fc-e74a2bc3bfc9",
   "metadata": {},
   "source": [
    "## Slicing"
   ]
  },
  {
   "cell_type": "code",
   "execution_count": 114,
   "id": "d1e4f213-5cd7-4a14-a2d2-e0701e342e8a",
   "metadata": {},
   "outputs": [
    {
     "data": {
      "text/plain": [
       "'Datas'"
      ]
     },
     "execution_count": 114,
     "metadata": {},
     "output_type": "execute_result"
    }
   ],
   "source": [
    "s[0:5]"
   ]
  },
  {
   "cell_type": "code",
   "execution_count": 116,
   "id": "1ced6055-1398-4358-9261-f6809d1363c8",
   "metadata": {},
   "outputs": [
    {
     "data": {
      "text/plain": [
       "'Datasc'"
      ]
     },
     "execution_count": 116,
     "metadata": {},
     "output_type": "execute_result"
    }
   ],
   "source": [
    "s[:6]"
   ]
  },
  {
   "cell_type": "code",
   "execution_count": 118,
   "id": "9b784aed-3194-4433-b990-e0509bc5d2a9",
   "metadata": {},
   "outputs": [
    {
     "data": {
      "text/plain": [
       "'ienceGenA'"
      ]
     },
     "execution_count": 118,
     "metadata": {},
     "output_type": "execute_result"
    }
   ],
   "source": [
    "s[6:-1]"
   ]
  },
  {
   "cell_type": "code",
   "execution_count": 120,
   "id": "1c0eb692-8f75-4443-b100-42272a486862",
   "metadata": {},
   "outputs": [
    {
     "data": {
      "text/plain": [
       "'iAneGecneicsataD'"
      ]
     },
     "execution_count": 120,
     "metadata": {},
     "output_type": "execute_result"
    }
   ],
   "source": [
    "s[::-1]"
   ]
  },
  {
   "cell_type": "code",
   "execution_count": 122,
   "id": "3e8347af-f725-4096-af76-5d594a161900",
   "metadata": {},
   "outputs": [],
   "source": [
    "f=s[0:5]"
   ]
  },
  {
   "cell_type": "code",
   "execution_count": 124,
   "id": "52fc1ff5-441d-4c35-98e5-c019014e06f3",
   "metadata": {},
   "outputs": [
    {
     "data": {
      "text/plain": [
       "'Datas'"
      ]
     },
     "execution_count": 124,
     "metadata": {},
     "output_type": "execute_result"
    }
   ],
   "source": [
    "f"
   ]
  },
  {
   "cell_type": "markdown",
   "id": "91fcc322-28c0-4d99-b771-1025fea197dc",
   "metadata": {},
   "source": [
    "## The 'in' and 'not in' Operators"
   ]
  },
  {
   "cell_type": "code",
   "execution_count": 127,
   "id": "74db8c15-96a3-4250-b5bf-5d51f2b2a699",
   "metadata": {},
   "outputs": [
    {
     "data": {
      "text/plain": [
       "True"
      ]
     },
     "execution_count": 127,
     "metadata": {},
     "output_type": "execute_result"
    }
   ],
   "source": [
    "'Data' in 'DataScience'"
   ]
  },
  {
   "cell_type": "code",
   "execution_count": 129,
   "id": "ed5991b1-2f8b-4856-bcf6-2107e854d0de",
   "metadata": {},
   "outputs": [
    {
     "data": {
      "text/plain": [
       "True"
      ]
     },
     "execution_count": 129,
     "metadata": {},
     "output_type": "execute_result"
    }
   ],
   "source": [
    "'Data' in 'Data'"
   ]
  },
  {
   "cell_type": "code",
   "execution_count": 133,
   "id": "4e7b6e00-026b-4500-a31d-2892ce43c3d9",
   "metadata": {},
   "outputs": [
    {
     "data": {
      "text/plain": [
       "False"
      ]
     },
     "execution_count": 133,
     "metadata": {},
     "output_type": "execute_result"
    }
   ],
   "source": [
    "'HELLO' in 'Hello World'"
   ]
  },
  {
   "cell_type": "code",
   "execution_count": 135,
   "id": "3134af75-9827-4efd-9928-4ec2162cde73",
   "metadata": {},
   "outputs": [
    {
     "data": {
      "text/plain": [
       "True"
      ]
     },
     "execution_count": 135,
     "metadata": {},
     "output_type": "execute_result"
    }
   ],
   "source": [
    "'' in 'spam'"
   ]
  },
  {
   "cell_type": "code",
   "execution_count": 137,
   "id": "2cfbde9e-5ce9-4162-8bec-a45bfc13c706",
   "metadata": {},
   "outputs": [
    {
     "data": {
      "text/plain": [
       "False"
      ]
     },
     "execution_count": 137,
     "metadata": {},
     "output_type": "execute_result"
    }
   ],
   "source": [
    "'cats' not in 'cats and dogs'"
   ]
  },
  {
   "cell_type": "markdown",
   "id": "4843d83c-1173-41f7-b314-427832eabce9",
   "metadata": {},
   "source": [
    "## Upper(), Lower() and Title()\n",
    "- Transforms a string to upper, lower and title case:"
   ]
  },
  {
   "cell_type": "code",
   "execution_count": 141,
   "id": "febb60d5-818c-45e2-9171-9a72cb9edfe1",
   "metadata": {},
   "outputs": [
    {
     "data": {
      "text/plain": [
       "'DatascienceGenAi'"
      ]
     },
     "execution_count": 141,
     "metadata": {},
     "output_type": "execute_result"
    }
   ],
   "source": [
    "s"
   ]
  },
  {
   "cell_type": "code",
   "execution_count": 143,
   "id": "7edfc1a2-7264-414a-a9b4-6abfcb98174d",
   "metadata": {},
   "outputs": [
    {
     "data": {
      "text/plain": [
       "'DATASCIENCEGENAI'"
      ]
     },
     "execution_count": 143,
     "metadata": {},
     "output_type": "execute_result"
    }
   ],
   "source": [
    "s.upper()"
   ]
  },
  {
   "cell_type": "code",
   "execution_count": 145,
   "id": "e19ad3b3-65c2-4829-8b7e-97d23150faff",
   "metadata": {},
   "outputs": [
    {
     "data": {
      "text/plain": [
       "'datasciencegenai'"
      ]
     },
     "execution_count": 145,
     "metadata": {},
     "output_type": "execute_result"
    }
   ],
   "source": [
    "s.lower()"
   ]
  },
  {
   "cell_type": "code",
   "execution_count": 147,
   "id": "4e9dc383-a179-42a2-bae2-e1a0069326f9",
   "metadata": {},
   "outputs": [
    {
     "data": {
      "text/plain": [
       "'Datasciencegenai'"
      ]
     },
     "execution_count": 147,
     "metadata": {},
     "output_type": "execute_result"
    }
   ],
   "source": [
    "s.title()"
   ]
  },
  {
   "cell_type": "markdown",
   "id": "fb9f093a-6bb2-4791-bdb5-e16e22a2f83a",
   "metadata": {},
   "source": [
    "## isupper() and islower() methods\n",
    "- Return 'True' or 'False' after evaluating if a string is in upper or lower case:"
   ]
  },
  {
   "cell_type": "code",
   "execution_count": 151,
   "id": "01fb8207-e24f-4e06-a34e-2b497334d5a7",
   "metadata": {},
   "outputs": [
    {
     "data": {
      "text/plain": [
       "'DatascienceGenAi'"
      ]
     },
     "execution_count": 151,
     "metadata": {},
     "output_type": "execute_result"
    }
   ],
   "source": [
    "s"
   ]
  },
  {
   "cell_type": "code",
   "execution_count": 153,
   "id": "96c2d023-a0dd-4ca0-a8b2-5011ac200dc9",
   "metadata": {},
   "outputs": [
    {
     "data": {
      "text/plain": [
       "False"
      ]
     },
     "execution_count": 153,
     "metadata": {},
     "output_type": "execute_result"
    }
   ],
   "source": [
    "s.isupper()"
   ]
  },
  {
   "cell_type": "code",
   "execution_count": 157,
   "id": "dae2fa1b-2335-4f13-b35c-b59e55d8d28b",
   "metadata": {},
   "outputs": [
    {
     "data": {
      "text/plain": [
       "False"
      ]
     },
     "execution_count": 157,
     "metadata": {},
     "output_type": "execute_result"
    }
   ],
   "source": [
    "s.islower()"
   ]
  },
  {
   "cell_type": "code",
   "execution_count": 159,
   "id": "edf017e0-6fa3-4159-9c84-480557e1f9fe",
   "metadata": {},
   "outputs": [
    {
     "data": {
      "text/plain": [
       "True"
      ]
     },
     "execution_count": 159,
     "metadata": {},
     "output_type": "execute_result"
    }
   ],
   "source": [
    "'HELLO'.isupper()"
   ]
  },
  {
   "cell_type": "code",
   "execution_count": 161,
   "id": "807e98ad-df7b-4514-9c94-3b2d85c5f1cb",
   "metadata": {},
   "outputs": [
    {
     "data": {
      "text/plain": [
       "True"
      ]
     },
     "execution_count": 161,
     "metadata": {},
     "output_type": "execute_result"
    }
   ],
   "source": [
    "'abc12345'.islower()"
   ]
  },
  {
   "cell_type": "code",
   "execution_count": 163,
   "id": "c68aa273-2c6b-4e56-b3e4-8b7bd44b3511",
   "metadata": {},
   "outputs": [
    {
     "data": {
      "text/plain": [
       "False"
      ]
     },
     "execution_count": 163,
     "metadata": {},
     "output_type": "execute_result"
    }
   ],
   "source": [
    "'12345'.islower()"
   ]
  },
  {
   "cell_type": "code",
   "execution_count": 165,
   "id": "3548e9d6-d6aa-408d-9d08-4fb871fcc135",
   "metadata": {},
   "outputs": [
    {
     "data": {
      "text/plain": [
       "False"
      ]
     },
     "execution_count": 165,
     "metadata": {},
     "output_type": "execute_result"
    }
   ],
   "source": [
    "'12345'.isupper()"
   ]
  },
  {
   "cell_type": "markdown",
   "id": "9c648e2d-a405-4a27-a8b4-4038c45cca76",
   "metadata": {},
   "source": [
    "### The isX string methods\n",
    "Method          Description\n",
    "\n",
    "- isalpha()       returns `True` if the string consists only of letters.\n",
    "  \n",
    "- isalnum()       returns `True` if the string consists only of letters and numbers.\n",
    "  \n",
    "- isdecimal()     returns `True` if the string consists only of numbers.\n",
    "  \n",
    "- isspace()       returns `True` if the string consists only of spaces, tabs, and new-                     lines.\n",
    "  \n",
    "- istitle()       returns `True` if the string consists only of words that begin with an\n",
    "                uppercase letter followed by only lowercase characters."
   ]
  },
  {
   "cell_type": "markdown",
   "id": "10859424-f6ef-48f7-b4ad-85b47cc49664",
   "metadata": {},
   "source": [
    "## startswith() and endswith()"
   ]
  },
  {
   "cell_type": "code",
   "execution_count": 170,
   "id": "f0b10a26-6c6f-456d-b06d-fa5b2f3c796c",
   "metadata": {},
   "outputs": [
    {
     "data": {
      "text/plain": [
       "True"
      ]
     },
     "execution_count": 170,
     "metadata": {},
     "output_type": "execute_result"
    }
   ],
   "source": [
    "'Datascience GenAI'.startswith('Datascience')"
   ]
  },
  {
   "cell_type": "code",
   "execution_count": 174,
   "id": "10166bab-1d18-4b3f-ae90-8703e0cf9736",
   "metadata": {},
   "outputs": [
    {
     "data": {
      "text/plain": [
       "True"
      ]
     },
     "execution_count": 174,
     "metadata": {},
     "output_type": "execute_result"
    }
   ],
   "source": [
    "'Datascience GenAI'.endswith('GenAI')"
   ]
  },
  {
   "cell_type": "code",
   "execution_count": 178,
   "id": "be8af326-8ed5-4076-8432-66cfe06f8569",
   "metadata": {},
   "outputs": [
    {
     "data": {
      "text/plain": [
       "False"
      ]
     },
     "execution_count": 178,
     "metadata": {},
     "output_type": "execute_result"
    }
   ],
   "source": [
    "'abc123'.startswith('abdcdef')"
   ]
  },
  {
   "cell_type": "code",
   "execution_count": 180,
   "id": "431e96ed-fdc4-4384-90a1-354cf9b7ebd9",
   "metadata": {},
   "outputs": [
    {
     "data": {
      "text/plain": [
       "False"
      ]
     },
     "execution_count": 180,
     "metadata": {},
     "output_type": "execute_result"
    }
   ],
   "source": [
    "'abc123'.endswith('12')"
   ]
  },
  {
   "cell_type": "markdown",
   "id": "82a655a9-d86d-4f1b-bd13-1671ef8700c8",
   "metadata": {},
   "source": [
    "## Join() and Split()"
   ]
  },
  {
   "cell_type": "markdown",
   "id": "f77db753-897c-4d94-8e13-f7aab6fa45db",
   "metadata": {},
   "source": [
    "## Join()\n",
    "- The `join()` method takes all the items in an iterable, like a list, dictionary, tuple or set,\n",
    "and joins them into a string. You can also specify a separator"
   ]
  },
  {
   "cell_type": "code",
   "execution_count": 186,
   "id": "fbe22984-ec7a-454b-a7e9-a4868068e664",
   "metadata": {},
   "outputs": [
    {
     "data": {
      "text/plain": [
       "'MynameisSimon'"
      ]
     },
     "execution_count": 186,
     "metadata": {},
     "output_type": "execute_result"
    }
   ],
   "source": [
    "''.join(['My','name','is','Simon'])"
   ]
  },
  {
   "cell_type": "code",
   "execution_count": 190,
   "id": "7bf20f95-bc04-4466-9f1f-70f4513ba854",
   "metadata": {},
   "outputs": [
    {
     "data": {
      "text/plain": [
       "'cats,rats,bats'"
      ]
     },
     "execution_count": 190,
     "metadata": {},
     "output_type": "execute_result"
    }
   ],
   "source": [
    "','.join(['cats','rats','bats'])"
   ]
  },
  {
   "cell_type": "code",
   "execution_count": 192,
   "id": "fabde01b-d42e-48ad-b2bf-a02f5f9fbb88",
   "metadata": {},
   "outputs": [
    {
     "data": {
      "text/plain": [
       "'My name is Simon'"
      ]
     },
     "execution_count": 192,
     "metadata": {},
     "output_type": "execute_result"
    }
   ],
   "source": [
    "' '.join(['My','name','is','Simon'])"
   ]
  },
  {
   "cell_type": "code",
   "execution_count": 194,
   "id": "1a7addd4-fc93-46be-9796-b18d515529a7",
   "metadata": {},
   "outputs": [
    {
     "data": {
      "text/plain": [
       "'myABCnameABCisABCsimon'"
      ]
     },
     "execution_count": 194,
     "metadata": {},
     "output_type": "execute_result"
    }
   ],
   "source": [
    "'ABC'.join(['my','name','is','simon'])"
   ]
  },
  {
   "cell_type": "markdown",
   "id": "b9348040-c47b-460d-81a7-c07732d6295d",
   "metadata": {},
   "source": [
    "### Split()\n",
    "- The `split()` method splits a `string` into a `list`. By default, it will use whitespace to \n",
    "separate the items, but you can also set another character of choice:\r"
   ]
  },
  {
   "cell_type": "code",
   "execution_count": 197,
   "id": "655aea37-cb34-44df-a0fd-d72e4ab0789b",
   "metadata": {},
   "outputs": [
    {
     "data": {
      "text/plain": [
       "['My', 'name', 'is', 'Simon']"
      ]
     },
     "execution_count": 197,
     "metadata": {},
     "output_type": "execute_result"
    }
   ],
   "source": [
    "'My name is Simon'.split()"
   ]
  },
  {
   "cell_type": "code",
   "execution_count": 199,
   "id": "b530b7fe-bedd-4b58-9787-2e00e34a9190",
   "metadata": {},
   "outputs": [
    {
     "data": {
      "text/plain": [
       "['My', 'name', 'is', 'Simon']"
      ]
     },
     "execution_count": 199,
     "metadata": {},
     "output_type": "execute_result"
    }
   ],
   "source": [
    "'MyABCnameABCisABCSimon'.split('ABC')"
   ]
  },
  {
   "cell_type": "code",
   "execution_count": 201,
   "id": "7fd2c4d7-d00a-49c6-8ed9-ecfd4af2a21c",
   "metadata": {},
   "outputs": [
    {
     "data": {
      "text/plain": [
       "['My na', 'e is Si', 'on']"
      ]
     },
     "execution_count": 201,
     "metadata": {},
     "output_type": "execute_result"
    }
   ],
   "source": [
    "'My name is Simon'.split('m')"
   ]
  },
  {
   "cell_type": "code",
   "execution_count": 203,
   "id": "eb24305b-6c6f-469d-8571-7d42c76f0ce9",
   "metadata": {},
   "outputs": [
    {
     "data": {
      "text/plain": [
       "['My', 'name', 'is', 'Simon']"
      ]
     },
     "execution_count": 203,
     "metadata": {},
     "output_type": "execute_result"
    }
   ],
   "source": [
    "' My name is Simon'.split()"
   ]
  },
  {
   "cell_type": "code",
   "execution_count": 205,
   "id": "ee485491-2a63-4e9e-b1dd-9a87056762f0",
   "metadata": {},
   "outputs": [
    {
     "data": {
      "text/plain": [
       "['', 'My', 'name', 'is', 'Simon']"
      ]
     },
     "execution_count": 205,
     "metadata": {},
     "output_type": "execute_result"
    }
   ],
   "source": [
    "' My name is Simon'.split(' ')"
   ]
  },
  {
   "cell_type": "markdown",
   "id": "2c4cc7d9-846a-430b-ba84-0d8ffb301fff",
   "metadata": {},
   "source": [
    "### Justifying Text with rjust(), ljust() and center()"
   ]
  },
  {
   "cell_type": "code",
   "execution_count": 208,
   "id": "3b4edf31-54c2-4cd6-a668-f1f1f1f71c80",
   "metadata": {},
   "outputs": [
    {
     "data": {
      "text/plain": [
       "'     Hello'"
      ]
     },
     "execution_count": 208,
     "metadata": {},
     "output_type": "execute_result"
    }
   ],
   "source": [
    "'Hello'.rjust(10)"
   ]
  },
  {
   "cell_type": "code",
   "execution_count": 210,
   "id": "912ddbf6-4b5d-4ec1-bb3b-3f1948175e14",
   "metadata": {},
   "outputs": [
    {
     "data": {
      "text/plain": [
       "'               Hello'"
      ]
     },
     "execution_count": 210,
     "metadata": {},
     "output_type": "execute_result"
    }
   ],
   "source": [
    "'Hello'.rjust(20)"
   ]
  },
  {
   "cell_type": "code",
   "execution_count": 212,
   "id": "b3133755-f9b2-4ae0-bc26-9aad9710519d",
   "metadata": {},
   "outputs": [
    {
     "data": {
      "text/plain": [
       "'         Hello World'"
      ]
     },
     "execution_count": 212,
     "metadata": {},
     "output_type": "execute_result"
    }
   ],
   "source": [
    "'Hello World'.rjust(20)"
   ]
  },
  {
   "cell_type": "code",
   "execution_count": 214,
   "id": "c420c73d-b7f1-4d2b-8702-7b87c6142e28",
   "metadata": {},
   "outputs": [
    {
     "data": {
      "text/plain": [
       "'Hello     '"
      ]
     },
     "execution_count": 214,
     "metadata": {},
     "output_type": "execute_result"
    }
   ],
   "source": [
    "'Hello'.ljust(10)"
   ]
  },
  {
   "cell_type": "code",
   "execution_count": 216,
   "id": "77f174f4-c3dc-443f-9102-5c94766451c8",
   "metadata": {},
   "outputs": [
    {
     "data": {
      "text/plain": [
       "'       hello        '"
      ]
     },
     "execution_count": 216,
     "metadata": {},
     "output_type": "execute_result"
    }
   ],
   "source": [
    "'hello'.center(20)"
   ]
  },
  {
   "cell_type": "markdown",
   "id": "63ffaba3-f1cc-4799-8883-07429014d16e",
   "metadata": {},
   "source": [
    "- An optional second argument to `rjust()` and `ljust()` will specify a fill character apart \n",
    "from a space character:"
   ]
  },
  {
   "cell_type": "code",
   "execution_count": 220,
   "id": "286be1da-de25-48c2-b4f9-f550358e7096",
   "metadata": {},
   "outputs": [
    {
     "data": {
      "text/plain": [
       "'***************Hello'"
      ]
     },
     "execution_count": 220,
     "metadata": {},
     "output_type": "execute_result"
    }
   ],
   "source": [
    "'Hello'.rjust(20,'*')"
   ]
  },
  {
   "cell_type": "code",
   "execution_count": 222,
   "id": "77b926dd-b8a1-4b77-b0de-b01b6b9b6bce",
   "metadata": {},
   "outputs": [
    {
     "data": {
      "text/plain": [
       "'hello---------------'"
      ]
     },
     "execution_count": 222,
     "metadata": {},
     "output_type": "execute_result"
    }
   ],
   "source": [
    "'hello'.ljust(20,'-')"
   ]
  },
  {
   "cell_type": "code",
   "execution_count": 226,
   "id": "c0c82855-e430-4656-8705-00b73abe33f0",
   "metadata": {},
   "outputs": [
    {
     "data": {
      "text/plain": [
       "'============hello============='"
      ]
     },
     "execution_count": 226,
     "metadata": {},
     "output_type": "execute_result"
    }
   ],
   "source": [
    "'hello'.center(30,'=')"
   ]
  },
  {
   "cell_type": "markdown",
   "id": "3429f98a-ce55-4d1f-862d-16de42721a9d",
   "metadata": {},
   "source": [
    "## Removing whitespace with strip(), rstrip(), and lstrip()"
   ]
  },
  {
   "cell_type": "code",
   "execution_count": 229,
   "id": "795208ce-9738-4f67-9d72-b1a268472b51",
   "metadata": {},
   "outputs": [
    {
     "data": {
      "text/plain": [
       "'          Hi google        '"
      ]
     },
     "execution_count": 229,
     "metadata": {},
     "output_type": "execute_result"
    }
   ],
   "source": [
    "s='          Hi google        '\n",
    "s"
   ]
  },
  {
   "cell_type": "code",
   "execution_count": 233,
   "id": "e193cf3d-95bf-438b-9d3c-5516b8fd26d5",
   "metadata": {},
   "outputs": [
    {
     "data": {
      "text/plain": [
       "'Hi google'"
      ]
     },
     "execution_count": 233,
     "metadata": {},
     "output_type": "execute_result"
    }
   ],
   "source": [
    "s.strip()"
   ]
  },
  {
   "cell_type": "code",
   "execution_count": 235,
   "id": "bb4918dd-c49c-4159-ae0a-9f932ac4bff1",
   "metadata": {},
   "outputs": [
    {
     "data": {
      "text/plain": [
       "'Hi google        '"
      ]
     },
     "execution_count": 235,
     "metadata": {},
     "output_type": "execute_result"
    }
   ],
   "source": [
    "s.lstrip()"
   ]
  },
  {
   "cell_type": "code",
   "execution_count": 237,
   "id": "33eaf0e8-dcd1-45d5-85a3-6082d99811f7",
   "metadata": {},
   "outputs": [
    {
     "data": {
      "text/plain": [
       "'          Hi google'"
      ]
     },
     "execution_count": 237,
     "metadata": {},
     "output_type": "execute_result"
    }
   ],
   "source": [
    "s.rstrip()"
   ]
  },
  {
   "cell_type": "code",
   "execution_count": 239,
   "id": "9c419ccf-a5a1-4e68-8788-c2ccbc2af274",
   "metadata": {},
   "outputs": [
    {
     "data": {
      "text/plain": [
       "'bassbassbassconba'"
      ]
     },
     "execution_count": 239,
     "metadata": {},
     "output_type": "execute_result"
    }
   ],
   "source": [
    "s1='bassbassbassconbassegg'\n",
    "s1.strip('segg')"
   ]
  },
  {
   "cell_type": "markdown",
   "id": "6ee4b7f6-30cf-4a16-94f5-a1f1ca9440e7",
   "metadata": {},
   "source": [
    "### The Count Method\n",
    "- \n",
    "Counts the number of occurrences of a given character or substring in the string it is\r\n",
    "applied to. Can be optionally provided start and end index."
   ]
  },
  {
   "cell_type": "code",
   "execution_count": 243,
   "id": "4e3fb45e-b12e-4929-9b3c-31d03e756dfd",
   "metadata": {},
   "outputs": [
    {
     "data": {
      "text/plain": [
       "3"
      ]
     },
     "execution_count": 243,
     "metadata": {},
     "output_type": "execute_result"
    }
   ],
   "source": [
    "s='one sheep two sheep three sheep'\n",
    "s.count('sheep')"
   ]
  },
  {
   "cell_type": "code",
   "execution_count": 245,
   "id": "44f61d52-6462-4adf-8cd4-e5e16c06da79",
   "metadata": {},
   "outputs": [
    {
     "data": {
      "text/plain": [
       "9"
      ]
     },
     "execution_count": 245,
     "metadata": {},
     "output_type": "execute_result"
    }
   ],
   "source": [
    "s.count('e')"
   ]
  },
  {
   "cell_type": "code",
   "execution_count": 249,
   "id": "7d7bdce2-3c53-4eed-b83a-9108dc691029",
   "metadata": {},
   "outputs": [
    {
     "data": {
      "text/plain": [
       "8"
      ]
     },
     "execution_count": 249,
     "metadata": {},
     "output_type": "execute_result"
    }
   ],
   "source": [
    "s.count('e',6) # returns count of e afte r\"one sh' i.e. 6 chars since the begining of strings "
   ]
  },
  {
   "cell_type": "code",
   "execution_count": 251,
   "id": "32958f2e-c665-4e39-baac-86303df18c7a",
   "metadata": {},
   "outputs": [
    {
     "data": {
      "text/plain": [
       "7"
      ]
     },
     "execution_count": 251,
     "metadata": {},
     "output_type": "execute_result"
    }
   ],
   "source": [
    "s.count('e',7)"
   ]
  },
  {
   "cell_type": "markdown",
   "id": "ee43f4f6-b770-456c-9767-e17629ff79f5",
   "metadata": {},
   "source": [
    "### Replace Method "
   ]
  },
  {
   "cell_type": "markdown",
   "id": "0af4a239-114d-4bbb-837b-4a5729e1e301",
   "metadata": {},
   "source": [
    "- Replaces all occurences of a given substring with another substring. Can be optionally\r\n",
    "provided a third argument to limit the number of replacements. Returns a new string.\r"
   ]
  },
  {
   "cell_type": "code",
   "execution_count": 255,
   "id": "a0bb9db7-8fde-4780-b6fe-900add1ee56c",
   "metadata": {},
   "outputs": [
    {
     "data": {
      "text/plain": [
       "'Data GenAI'"
      ]
     },
     "execution_count": 255,
     "metadata": {},
     "output_type": "execute_result"
    }
   ],
   "source": [
    "t='Data Science'\n",
    "t.replace('Science','GenAI')"
   ]
  },
  {
   "cell_type": "code",
   "execution_count": 259,
   "id": "c0d9ea32-3ba5-496a-b65f-4132197cb923",
   "metadata": {},
   "outputs": [
    {
     "data": {
      "text/plain": [
       "'orange,banana,cherry,apple'"
      ]
     },
     "execution_count": 259,
     "metadata": {},
     "output_type": "execute_result"
    }
   ],
   "source": [
    "f='apple,banana,cherry,apple'\n",
    "f.replace('apple','orange',1)"
   ]
  },
  {
   "cell_type": "code",
   "execution_count": 261,
   "id": "d68366f1-0261-47a9-a8c4-a820255fd8a7",
   "metadata": {},
   "outputs": [
    {
     "data": {
      "text/plain": [
       "'I like oranges, Apples are my favorite fruit'"
      ]
     },
     "execution_count": 261,
     "metadata": {},
     "output_type": "execute_result"
    }
   ],
   "source": [
    "sentence = \"I like apples, Apples are my favorite fruit\"\n",
    "sentence.replace(\"apples\", \"oranges\")\n"
   ]
  },
  {
   "cell_type": "code",
   "execution_count": null,
   "id": "6eb01a71-7227-4ae4-a6d6-c9cd38441876",
   "metadata": {},
   "outputs": [],
   "source": []
  }
 ],
 "metadata": {
  "kernelspec": {
   "display_name": "Python 3 (ipykernel)",
   "language": "python",
   "name": "python3"
  },
  "language_info": {
   "codemirror_mode": {
    "name": "ipython",
    "version": 3
   },
   "file_extension": ".py",
   "mimetype": "text/x-python",
   "name": "python",
   "nbconvert_exporter": "python",
   "pygments_lexer": "ipython3",
   "version": "3.12.4"
  }
 },
 "nbformat": 4,
 "nbformat_minor": 5
}
