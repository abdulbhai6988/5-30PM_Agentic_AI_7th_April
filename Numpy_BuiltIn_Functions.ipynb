{
 "cells": [
  {
   "cell_type": "markdown",
   "id": "e86ee2bf",
   "metadata": {},
   "source": [
    "## Numpy Built-in Functions"
   ]
  },
  {
   "cell_type": "markdown",
   "id": "baa9d354",
   "metadata": {},
   "source": [
    "## 1.Array Creations Functions"
   ]
  },
  {
   "cell_type": "code",
   "execution_count": 1,
   "id": "efe436a8",
   "metadata": {},
   "outputs": [],
   "source": [
    "import numpy as np"
   ]
  },
  {
   "cell_type": "code",
   "execution_count": 2,
   "id": "f4c116b1",
   "metadata": {},
   "outputs": [
    {
     "name": "stdout",
     "output_type": "stream",
     "text": [
      "Array a: [1 2 3]\n"
     ]
    }
   ],
   "source": [
    "#Creat an array from a list\n",
    "a=np.array([1,2,3])\n",
    "print('Array a:',a)"
   ]
  },
  {
   "cell_type": "code",
   "execution_count": 3,
   "id": "c029e068",
   "metadata": {},
   "outputs": [
    {
     "name": "stdout",
     "output_type": "stream",
     "text": [
      "Array b: [0 2 4 6 8]\n"
     ]
    }
   ],
   "source": [
    "#Creating an array with evenly spaced values\n",
    "b=np.arange(0,10,2) # Values from 0 to 10 with step 2\n",
    "print (\"Array b:\",b)"
   ]
  },
  {
   "cell_type": "code",
   "execution_count": 4,
   "id": "41f4fd03",
   "metadata": {},
   "outputs": [
    {
     "name": "stdout",
     "output_type": "stream",
     "text": [
      "Array c: [0.   0.25 0.5  0.75 1.  ]\n"
     ]
    }
   ],
   "source": [
    "#Create an array with linearly spaced values\n",
    "c=np.linspace(0,1,5) # 5 values evenly spaced between 0 and 1\n",
    "print(\"Array c:\",c)"
   ]
  },
  {
   "cell_type": "code",
   "execution_count": 5,
   "id": "802ddbea",
   "metadata": {},
   "outputs": [
    {
     "name": "stdout",
     "output_type": "stream",
     "text": [
      "Array d:\n",
      " [[0. 0. 0.]\n",
      " [0. 0. 0.]]\n"
     ]
    }
   ],
   "source": [
    "#Creating an array filled with zeros\n",
    "d=np.zeros((2,3)) # 2x3 array of zeros\n",
    "print(\"Array d:\\n\",d)"
   ]
  },
  {
   "cell_type": "code",
   "execution_count": 6,
   "id": "e22675eb",
   "metadata": {},
   "outputs": [
    {
     "name": "stdout",
     "output_type": "stream",
     "text": [
      "array e:\n",
      " [[1. 1. 1.]\n",
      " [1. 1. 1.]\n",
      " [1. 1. 1.]\n",
      " [1. 1. 1.]]\n"
     ]
    }
   ],
   "source": [
    "# Create an array filled with ones \n",
    "e=np.ones((4,3)) # 4x3 array of ones\n",
    "print(\"array e:\\n\",e)"
   ]
  },
  {
   "cell_type": "code",
   "execution_count": 7,
   "id": "b8f4dd7a",
   "metadata": {},
   "outputs": [
    {
     "name": "stdout",
     "output_type": "stream",
     "text": [
      "Identity matrix f:\n",
      " [[1. 0. 0. 0.]\n",
      " [0. 1. 0. 0.]\n",
      " [0. 0. 1. 0.]\n",
      " [0. 0. 0. 1.]]\n"
     ]
    }
   ],
   "source": [
    "#Creating an identity matrix\n",
    "f=np.eye(4) #4x4 Identity Matrix\n",
    "print(\"Identity matrix f:\\n\",f)"
   ]
  },
  {
   "cell_type": "markdown",
   "id": "b2e3c19c",
   "metadata": {},
   "source": [
    "## 2. Array Manipulation Fuctions"
   ]
  },
  {
   "cell_type": "code",
   "execution_count": 8,
   "id": "7d6da574",
   "metadata": {},
   "outputs": [
    {
     "name": "stdout",
     "output_type": "stream",
     "text": [
      "Reshapped Array: [[1 2 3]]\n"
     ]
    }
   ],
   "source": [
    "# Reshaping an  array\n",
    "a1=np.array([1,2,3])\n",
    "reshaped=np.reshape(a1,(1,3))# Reshape to 1x3\n",
    "print(\"Reshapped Array:\",reshaped)"
   ]
  },
  {
   "cell_type": "code",
   "execution_count": 9,
   "id": "a0753a12",
   "metadata": {},
   "outputs": [
    {
     "name": "stdout",
     "output_type": "stream",
     "text": [
      "Flattened array : [1 2 3 4]\n"
     ]
    }
   ],
   "source": [
    "#Flattening an array\n",
    "f1=np.array([[1,2],[3,4]])\n",
    "flattened=np.ravel(f1)#Flatten to 1D array\n",
    "print(\"Flattened array :\",flattened)"
   ]
  },
  {
   "cell_type": "code",
   "execution_count": 10,
   "id": "86c71fac",
   "metadata": {},
   "outputs": [
    {
     "name": "stdout",
     "output_type": "stream",
     "text": [
      "Transposed array:\n",
      " [[1 3]\n",
      " [2 4]]\n"
     ]
    }
   ],
   "source": [
    "#Transpose an array \n",
    "e1=np.array([[1,2],[3,4]])\n",
    "transposed=np.transpose(e1) #Transpose the array\n",
    "print(\"Transposed array:\\n\",transposed)"
   ]
  },
  {
   "cell_type": "code",
   "execution_count": 11,
   "id": "9e774a56",
   "metadata": {},
   "outputs": [
    {
     "name": "stdout",
     "output_type": "stream",
     "text": [
      "Stacked arrays:\n",
      " [[1 2]\n",
      " [3 4]]\n"
     ]
    }
   ],
   "source": [
    "#Stacking arrays vertically\n",
    "a2=np.array([1,2])\n",
    "b2=np.array([3,4])\n",
    "stacked=np.vstack([a2,b2]) # stacking a and b vertically\n",
    "print(\"Stacked arrays:\\n\",stacked)"
   ]
  },
  {
   "cell_type": "markdown",
   "id": "6692b043",
   "metadata": {},
   "source": [
    "## 3.Mathematical Functions"
   ]
  },
  {
   "cell_type": "code",
   "execution_count": 12,
   "id": "e2af578b",
   "metadata": {},
   "outputs": [
    {
     "name": "stdout",
     "output_type": "stream",
     "text": [
      "Added 2 to g: [3 4 5 6]\n"
     ]
    }
   ],
   "source": [
    "#Adding Two arrays\n",
    "g=np.array([1,2,3,4])\n",
    "added=np.add(g,2) #adding 2 to each element\n",
    "print(\"Added 2 to g:\",added)"
   ]
  },
  {
   "cell_type": "code",
   "execution_count": 13,
   "id": "a3900a33",
   "metadata": {},
   "outputs": [
    {
     "name": "stdout",
     "output_type": "stream",
     "text": [
      "squared g: [ 1  4  9 16]\n"
     ]
    }
   ],
   "source": [
    "#Square eache element\n",
    "squared =np.power(g,2)#squaring each element\n",
    "print(\"squared g:\",squared)"
   ]
  },
  {
   "cell_type": "code",
   "execution_count": 14,
   "id": "6ddb4799",
   "metadata": {},
   "outputs": [
    {
     "name": "stdout",
     "output_type": "stream",
     "text": [
      "sqrt value of g: [1.         1.41421356 1.73205081 2.        ]\n"
     ]
    }
   ],
   "source": [
    "#Square root of eache element\n",
    "sqrt_val=np.sqrt(g)\n",
    "print(\"sqrt value of g:\",sqrt_val)"
   ]
  },
  {
   "cell_type": "code",
   "execution_count": 15,
   "id": "736d4bdf",
   "metadata": {},
   "outputs": [
    {
     "name": "stdout",
     "output_type": "stream",
     "text": [
      "[1 2 3]\n",
      "[1 2 3 4]\n"
     ]
    }
   ],
   "source": [
    "print(a1)\n",
    "print(g)"
   ]
  },
  {
   "cell_type": "code",
   "execution_count": 16,
   "id": "9122d45f",
   "metadata": {},
   "outputs": [
    {
     "ename": "ValueError",
     "evalue": "shapes (3,) and (4,) not aligned: 3 (dim 0) != 4 (dim 0)",
     "output_type": "error",
     "traceback": [
      "\u001b[1;31m---------------------------------------------------------------------------\u001b[0m",
      "\u001b[1;31mValueError\u001b[0m                                Traceback (most recent call last)",
      "Cell \u001b[1;32mIn[16], line 3\u001b[0m\n\u001b[0;32m      1\u001b[0m \u001b[38;5;66;03m#Dot product of two arrays\u001b[39;00m\n\u001b[0;32m      2\u001b[0m a2\u001b[38;5;241m=\u001b[39mnp\u001b[38;5;241m.\u001b[39marray([\u001b[38;5;241m1\u001b[39m,\u001b[38;5;241m2\u001b[39m,\u001b[38;5;241m3\u001b[39m])\n\u001b[1;32m----> 3\u001b[0m dot_product\u001b[38;5;241m=\u001b[39mnp\u001b[38;5;241m.\u001b[39mdot(a2,g)\u001b[38;5;66;03m# Dot product of a and g\u001b[39;00m\n\u001b[0;32m      4\u001b[0m \u001b[38;5;28mprint\u001b[39m(\u001b[38;5;124m\"\u001b[39m\u001b[38;5;124mDot product of a and g:\u001b[39m\u001b[38;5;124m\"\u001b[39m, dot_product)\n",
      "\u001b[1;31mValueError\u001b[0m: shapes (3,) and (4,) not aligned: 3 (dim 0) != 4 (dim 0)"
     ]
    }
   ],
   "source": [
    "#Dot product of two arrays\n",
    "a2=np.array([1,2,3])\n",
    "dot_product=np.dot(a2,g)# Dot product of a and g\n",
    "print(\"Dot product of a and g:\", dot_product)"
   ]
  },
  {
   "cell_type": "code",
   "execution_count": null,
   "id": "fdfef32f",
   "metadata": {},
   "outputs": [
    {
     "name": "stdout",
     "output_type": "stream",
     "text": [
      "[1 2 3]\n",
      "[1 2 3]\n"
     ]
    }
   ],
   "source": [
    "print(a)\n",
    "print(a1)"
   ]
  },
  {
   "cell_type": "code",
   "execution_count": null,
   "id": "2845ed9d",
   "metadata": {},
   "outputs": [
    {
     "name": "stdout",
     "output_type": "stream",
     "text": [
      "Dot product od a1 and a: 14\n"
     ]
    }
   ],
   "source": [
    "a3=np.array([1,2,3])\n",
    "dot_prod=np.dot(a1,a)\n",
    "print(\"Dot product od a1 and a:\",dot_prod)"
   ]
  },
  {
   "cell_type": "markdown",
   "id": "cc0c5cb7",
   "metadata": {},
   "source": [
    "## 4. Statistical Functions"
   ]
  },
  {
   "cell_type": "code",
   "execution_count": null,
   "id": "44b58b42",
   "metadata": {},
   "outputs": [
    {
     "name": "stdout",
     "output_type": "stream",
     "text": [
      "Mean of s: 2.5\n"
     ]
    }
   ],
   "source": [
    "s=np.array([1,2,3,4])\n",
    "mean=np.mean(s)\n",
    "print(\"Mean of s:\",mean)"
   ]
  },
  {
   "cell_type": "code",
   "execution_count": null,
   "id": "63a4b169",
   "metadata": {},
   "outputs": [
    {
     "name": "stdout",
     "output_type": "stream",
     "text": [
      "Standard deviation of s: 1.118033988749895\n"
     ]
    }
   ],
   "source": [
    "# Standard deviation of an array \n",
    "std_dev=np.std(s)\n",
    "print(\"Standard deviation of s:\",std_dev)"
   ]
  },
  {
   "cell_type": "code",
   "execution_count": null,
   "id": "88eea437",
   "metadata": {},
   "outputs": [
    {
     "name": "stdout",
     "output_type": "stream",
     "text": [
      "Min of s: 1\n"
     ]
    }
   ],
   "source": [
    "# Minimum element of an array\n",
    "minimum=np.min(s)\n",
    "print(\"Min of s:\",minimum)"
   ]
  },
  {
   "cell_type": "code",
   "execution_count": null,
   "id": "6c6ac94b",
   "metadata": {},
   "outputs": [
    {
     "name": "stdout",
     "output_type": "stream",
     "text": [
      "Max of s: 4\n"
     ]
    }
   ],
   "source": [
    "# Maximum elementof an array \n",
    "maximum=np.max(s)\n",
    "print(\"Max of s:\",maximum)"
   ]
  },
  {
   "cell_type": "markdown",
   "id": "61ce958f",
   "metadata": {},
   "source": [
    "## 5.Linear Algebra Fumctions "
   ]
  },
  {
   "cell_type": "code",
   "execution_count": null,
   "id": "edeec3eb",
   "metadata": {},
   "outputs": [],
   "source": [
    "#Creating a matrix\n",
    "matrix=np.array([[1,2],[3,4]])"
   ]
  },
  {
   "cell_type": "code",
   "execution_count": null,
   "id": "d84d0b1e",
   "metadata": {},
   "outputs": [
    {
     "name": "stdout",
     "output_type": "stream",
     "text": [
      "Determinant of matrix : -2.0000000000000004\n"
     ]
    }
   ],
   "source": [
    "# Determinant of matrix \n",
    "determinant=np.linalg.det(matrix)\n",
    "print(\"Determinant of matrix :\",determinant)\n"
   ]
  },
  {
   "cell_type": "code",
   "execution_count": null,
   "id": "26256cda",
   "metadata": {},
   "outputs": [
    {
     "name": "stdout",
     "output_type": "stream",
     "text": [
      "Inverse of matrix:\n",
      " [[-2.   1. ]\n",
      " [ 1.5 -0.5]]\n"
     ]
    }
   ],
   "source": [
    "# Inverse of a matrix\n",
    "inverse=np.linalg.inv(matrix)\n",
    "print(\"Inverse of matrix:\\n\",inverse)"
   ]
  },
  {
   "cell_type": "markdown",
   "id": "a088d62e",
   "metadata": {},
   "source": [
    "## 6.Random Sampling Functions"
   ]
  },
  {
   "cell_type": "code",
   "execution_count": 17,
   "id": "84d2f399",
   "metadata": {},
   "outputs": [
    {
     "name": "stdout",
     "output_type": "stream",
     "text": [
      "random values: [0.21911893 0.09059943 0.34731562]\n"
     ]
    }
   ],
   "source": [
    "#Generating random values between 0 and 1\n",
    "random_vals=np.random.rand(3) #Array of 3 random values between 0 and 1\n",
    "print(\"random values:\",random_vals)"
   ]
  },
  {
   "cell_type": "code",
   "execution_count": 18,
   "id": "0d722574",
   "metadata": {},
   "outputs": [
    {
     "name": "stdout",
     "output_type": "stream",
     "text": [
      "Random Integers: [1 1 7 5 1]\n"
     ]
    }
   ],
   "source": [
    "#Generate random integers\n",
    "rand_ints=np.random.randint(0,10,size=5)#Random integers between 0 and 10\n",
    "print(\"Random Integers:\",rand_ints)"
   ]
  },
  {
   "cell_type": "code",
   "execution_count": 19,
   "id": "6cf66673",
   "metadata": {},
   "outputs": [
    {
     "name": "stdout",
     "output_type": "stream",
     "text": [
      "Random integers: [5 0 3 3 7]\n"
     ]
    }
   ],
   "source": [
    "#Set seed for reproductibility\n",
    "np.random.seed(0)\n",
    "# Generate random integers \n",
    "rand_ints=np.random.randint(0,10, size=5) #Random integers between 0 and 10\n",
    "print(\"Random integers:\",rand_ints)"
   ]
  },
  {
   "cell_type": "markdown",
   "id": "d16971b3",
   "metadata": {
    "vscode": {
     "languageId": "sql"
    }
   },
   "source": [
    "## 7. Boolean & Logical Functions"
   ]
  },
  {
   "cell_type": "code",
   "execution_count": 21,
   "id": "315eab2f",
   "metadata": {},
   "outputs": [
    {
     "name": "stdout",
     "output_type": "stream",
     "text": [
      "All elements True: False\n"
     ]
    }
   ],
   "source": [
    "#Check if all elements are true \n",
    "# all\n",
    "logical_test=np.array([True,False,True])\n",
    "all_true=np.all(logical_test) # Check if all are True\n",
    "print(\"All elements True:\",all_true)"
   ]
  },
  {
   "cell_type": "code",
   "execution_count": 25,
   "id": "d19c044b",
   "metadata": {},
   "outputs": [
    {
     "name": "stdout",
     "output_type": "stream",
     "text": [
      "All elements True: False\n"
     ]
    }
   ],
   "source": [
    "#check if all elements are True\n",
    "logical_test_1=np.array([False,False,False])\n",
    "all_true=np.all(logical_test_1)#check if all True\n",
    "print(\"All elements True:\",all_true)"
   ]
  },
  {
   "cell_type": "code",
   "execution_count": 27,
   "id": "4140a924",
   "metadata": {},
   "outputs": [
    {
     "name": "stdout",
     "output_type": "stream",
     "text": [
      "any elements True: False\n"
     ]
    }
   ],
   "source": [
    "#Check if any elements are True\n",
    "#any\n",
    "any_true=np.any(logical_test)#Check if any are True\n",
    "print(\"any elements True:\",any_true)"
   ]
  },
  {
   "cell_type": "markdown",
   "id": "faba28b0",
   "metadata": {},
   "source": [
    "## 8.Set Operations"
   ]
  },
  {
   "cell_type": "code",
   "execution_count": 28,
   "id": "ff73e559",
   "metadata": {},
   "outputs": [
    {
     "name": "stdout",
     "output_type": "stream",
     "text": [
      "Intersection of a and b: [3 4]\n"
     ]
    }
   ],
   "source": [
    "#Intersection of two arrays\n",
    "set_a=np.array([1,2,3,4])\n",
    "set_b=np.array([3,4,5,6])\n",
    "intersection=np.intersect1d(set_a,set_b)\n",
    "print(\"Intersection of a and b:\",intersection)\n"
   ]
  },
  {
   "cell_type": "code",
   "execution_count": 29,
   "id": "19f92ea8",
   "metadata": {},
   "outputs": [
    {
     "name": "stdout",
     "output_type": "stream",
     "text": [
      "Union of a andb: [1 2 3 4 5 6]\n"
     ]
    }
   ],
   "source": [
    "#Union of two arrays\n",
    "union=np.union1d(set_a,set_b)\n",
    "print(\"Union of a andb:\",union)"
   ]
  },
  {
   "cell_type": "markdown",
   "id": "aef83cb6",
   "metadata": {},
   "source": [
    "## 9. Array Attribute Functions"
   ]
  },
  {
   "cell_type": "code",
   "execution_count": 32,
   "id": "35f378f9",
   "metadata": {},
   "outputs": [
    {
     "name": "stdout",
     "output_type": "stream",
     "text": [
      "Shape of a: (3,)\n",
      "Size of a: 3\n",
      "Number of dimensions of a: 1\n",
      "data type of a: int32\n"
     ]
    }
   ],
   "source": [
    "#Array attributes\n",
    "a=np.array([1,2,3])\n",
    "shape=a.shape #shape of a array\n",
    "size=a.size #number of elements\n",
    "dimensions=a.ndim #number of dimensions\n",
    "stype=a.dtype#Data type of an array\n",
    "\n",
    "print(\"Shape of a:\",shape)\n",
    "print(\"Size of a:\",size)\n",
    "print(\"Number of dimensions of a:\",dimensions)\n",
    "print(\"data type of a:\",stype)"
   ]
  },
  {
   "cell_type": "markdown",
   "id": "5cbb232c",
   "metadata": {},
   "source": [
    "## 10. Other Functions\n"
   ]
  },
  {
   "cell_type": "code",
   "execution_count": 33,
   "id": "b8b6b9d6",
   "metadata": {},
   "outputs": [
    {
     "name": "stdout",
     "output_type": "stream",
     "text": [
      "Copied array: [1 2 3]\n"
     ]
    }
   ],
   "source": [
    "#Create a copy of an array\n",
    "a=np.array([1,2,3])\n",
    "copied_array=np.copy(a)\n",
    "print(\"Copied array:\",copied_array)\n"
   ]
  },
  {
   "cell_type": "code",
   "execution_count": 35,
   "id": "c2543460",
   "metadata": {},
   "outputs": [
    {
     "name": "stdout",
     "output_type": "stream",
     "text": [
      "Size of a in bytes: 12\n"
     ]
    }
   ],
   "source": [
    "#Size in bytes of an array\n",
    "array_size_in_bytes=a.nbytes #Size in bytes\n",
    "print(\"Size of a in bytes:\",array_size_in_bytes)"
   ]
  },
  {
   "cell_type": "code",
   "execution_count": 37,
   "id": "cc77991a",
   "metadata": {},
   "outputs": [
    {
     "name": "stdout",
     "output_type": "stream",
     "text": [
      "Do a and copied_array share memory?\n",
      " False\n"
     ]
    }
   ],
   "source": [
    "#Check if two arrays share memory\n",
    "shared=np.shares_memory(a,copied_array) # CHeck if arrays share memory\n",
    "print(\"Do a and copied_array share memory?\\n\",shared)"
   ]
  }
 ],
 "metadata": {
  "kernelspec": {
   "display_name": "base",
   "language": "python",
   "name": "python3"
  },
  "language_info": {
   "codemirror_mode": {
    "name": "ipython",
    "version": 3
   },
   "file_extension": ".py",
   "mimetype": "text/x-python",
   "name": "python",
   "nbconvert_exporter": "python",
   "pygments_lexer": "ipython3",
   "version": "3.12.4"
  }
 },
 "nbformat": 4,
 "nbformat_minor": 5
}
