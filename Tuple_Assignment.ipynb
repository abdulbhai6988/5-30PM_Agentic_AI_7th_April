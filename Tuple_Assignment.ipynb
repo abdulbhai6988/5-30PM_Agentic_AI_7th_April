{
 "cells": [
  {
   "cell_type": "markdown",
   "id": "5e4a13bc-371f-436c-b5eb-2ef51d7e9872",
   "metadata": {},
   "source": [
    "Tuple Creation"
   ]
  },
  {
   "cell_type": "code",
   "execution_count": 1,
   "id": "0dba6147-99d4-40bf-b3cd-7ac386360d92",
   "metadata": {},
   "outputs": [],
   "source": [
    "tup1=() # empty tuple "
   ]
  },
  {
   "cell_type": "code",
   "execution_count": 5,
   "id": "5dfaee86-7196-4ea6-826e-06048d90faa1",
   "metadata": {},
   "outputs": [],
   "source": [
    "tup2=(1,2,3) \n",
    "tup3=(10.77,30.66,60.89)"
   ]
  },
  {
   "cell_type": "code",
   "execution_count": 11,
   "id": "6b9b6ead-f7d7-456a-9530-4207a6b34f77",
   "metadata": {},
   "outputs": [
    {
     "data": {
      "text/plain": [
       "6"
      ]
     },
     "execution_count": 11,
     "metadata": {},
     "output_type": "execute_result"
    }
   ],
   "source": [
    "tup4=('one','two','three')\n",
    "tup5=('Asif',25,(50,100),(150,90))\n",
    "tup6=(100,'Asif',17.65)\n",
    "tup7=('Asif',25,[50,100],[150,90],{'john','David'},(99,22,33))\n",
    "len(tup7)"
   ]
  },
  {
   "cell_type": "markdown",
   "id": "64025328-520d-4511-a8c4-1b66c017ccda",
   "metadata": {},
   "source": [
    "Tuple Indexing"
   ]
  },
  {
   "cell_type": "code",
   "execution_count": 17,
   "id": "5610e0a4-87fc-4dcf-a987-fb9dca22876a",
   "metadata": {},
   "outputs": [
    {
     "data": {
      "text/plain": [
       "1"
      ]
     },
     "execution_count": 17,
     "metadata": {},
     "output_type": "execute_result"
    }
   ],
   "source": [
    "tup2[0]"
   ]
  },
  {
   "cell_type": "code",
   "execution_count": 19,
   "id": "f1f5ea4c-5ad2-483f-ace8-d0b42058571d",
   "metadata": {},
   "outputs": [
    {
     "data": {
      "text/plain": [
       "'one'"
      ]
     },
     "execution_count": 19,
     "metadata": {},
     "output_type": "execute_result"
    }
   ],
   "source": [
    "tup4[0]"
   ]
  },
  {
   "cell_type": "code",
   "execution_count": 23,
   "id": "d1fffe07-c72e-496c-b217-62b956943fea",
   "metadata": {},
   "outputs": [
    {
     "data": {
      "text/plain": [
       "'o'"
      ]
     },
     "execution_count": 23,
     "metadata": {},
     "output_type": "execute_result"
    }
   ],
   "source": [
    "tup4[0][0] #nested indexing- Access the first character of the first tuple element"
   ]
  },
  {
   "cell_type": "code",
   "execution_count": 27,
   "id": "7274a13f-ea43-4ae5-84f3-927f044f6b46",
   "metadata": {},
   "outputs": [
    {
     "data": {
      "text/plain": [
       "'three'"
      ]
     },
     "execution_count": 27,
     "metadata": {},
     "output_type": "execute_result"
    }
   ],
   "source": [
    "tup4[-1]"
   ]
  },
  {
   "cell_type": "code",
   "execution_count": 29,
   "id": "2738f88c-aba4-4ceb-beaa-21f75a37559f",
   "metadata": {},
   "outputs": [
    {
     "data": {
      "text/plain": [
       "(150, 90)"
      ]
     },
     "execution_count": 29,
     "metadata": {},
     "output_type": "execute_result"
    }
   ],
   "source": [
    "tup5[-1]"
   ]
  },
  {
   "cell_type": "markdown",
   "id": "2bf6381e-4d9d-42eb-b0f2-9d5ba4adb9f5",
   "metadata": {},
   "source": [
    "Tuple Slicing"
   ]
  },
  {
   "cell_type": "code",
   "execution_count": 65,
   "id": "f56ad352-91dc-41aa-a153-fe960cf018d5",
   "metadata": {},
   "outputs": [],
   "source": [
    "mytuple=('one','two','three','four','five','six','seven','eight')"
   ]
  },
  {
   "cell_type": "code",
   "execution_count": 34,
   "id": "22d887a5-9bf5-46f5-b8d0-594c8ffdf010",
   "metadata": {},
   "outputs": [
    {
     "data": {
      "text/plain": [
       "('one', 'two', 'three')"
      ]
     },
     "execution_count": 34,
     "metadata": {},
     "output_type": "execute_result"
    }
   ],
   "source": [
    "mytuple[0:3]"
   ]
  },
  {
   "cell_type": "code",
   "execution_count": 36,
   "id": "29193980-ee97-4cc4-94d7-70184ea9849a",
   "metadata": {},
   "outputs": [
    {
     "data": {
      "text/plain": [
       "('three', 'four', 'five')"
      ]
     },
     "execution_count": 36,
     "metadata": {},
     "output_type": "execute_result"
    }
   ],
   "source": [
    "mytuple[2:5]"
   ]
  },
  {
   "cell_type": "code",
   "execution_count": 38,
   "id": "b1a1dfd5-8760-47b1-85c0-2a6e10b4adf1",
   "metadata": {},
   "outputs": [
    {
     "data": {
      "text/plain": [
       "('one', 'two', 'three')"
      ]
     },
     "execution_count": 38,
     "metadata": {},
     "output_type": "execute_result"
    }
   ],
   "source": [
    "mytuple[:3]"
   ]
  },
  {
   "cell_type": "code",
   "execution_count": 40,
   "id": "e69feaeb-033d-4913-a08a-059f686720b2",
   "metadata": {},
   "outputs": [
    {
     "data": {
      "text/plain": [
       "('one', 'two')"
      ]
     },
     "execution_count": 40,
     "metadata": {},
     "output_type": "execute_result"
    }
   ],
   "source": [
    "mytuple[:2]"
   ]
  },
  {
   "cell_type": "code",
   "execution_count": 42,
   "id": "2707396b-e979-4d44-abe3-c0d2493a9a8f",
   "metadata": {},
   "outputs": [
    {
     "data": {
      "text/plain": [
       "('six', 'seven', 'eight')"
      ]
     },
     "execution_count": 42,
     "metadata": {},
     "output_type": "execute_result"
    }
   ],
   "source": [
    "mytuple[-3:]"
   ]
  },
  {
   "cell_type": "code",
   "execution_count": 44,
   "id": "a3004f30-ecf2-4265-8a58-ad14bb7bcb01",
   "metadata": {},
   "outputs": [
    {
     "data": {
      "text/plain": [
       "('seven', 'eight')"
      ]
     },
     "execution_count": 44,
     "metadata": {},
     "output_type": "execute_result"
    }
   ],
   "source": [
    "mytuple[-2:]"
   ]
  },
  {
   "cell_type": "code",
   "execution_count": 46,
   "id": "218b10c2-b1c2-489b-a376-f25b7f399c97",
   "metadata": {},
   "outputs": [
    {
     "data": {
      "text/plain": [
       "'eight'"
      ]
     },
     "execution_count": 46,
     "metadata": {},
     "output_type": "execute_result"
    }
   ],
   "source": [
    "mytuple[-1]"
   ]
  },
  {
   "cell_type": "code",
   "execution_count": 49,
   "id": "d2288e65-d3da-47a2-a7af-f1fb4f9c2c12",
   "metadata": {},
   "outputs": [
    {
     "data": {
      "text/plain": [
       "('one', 'two', 'three', 'four', 'five', 'six', 'seven', 'eight')"
      ]
     },
     "execution_count": 49,
     "metadata": {},
     "output_type": "execute_result"
    }
   ],
   "source": [
    "mytuple[:]"
   ]
  },
  {
   "cell_type": "markdown",
   "id": "533be066-a711-40d1-bbcc-4fab0393994d",
   "metadata": {},
   "source": [
    "Remove & Change Items "
   ]
  },
  {
   "cell_type": "code",
   "execution_count": 54,
   "id": "28d293b8-8635-460b-8f76-6c7a42a2831d",
   "metadata": {},
   "outputs": [
    {
     "data": {
      "text/plain": [
       "('one', 'two', 'three', 'four', 'five', 'six', 'seven', 'eight')"
      ]
     },
     "execution_count": 54,
     "metadata": {},
     "output_type": "execute_result"
    }
   ],
   "source": [
    "mytuple"
   ]
  },
  {
   "cell_type": "code",
   "execution_count": 56,
   "id": "4e1e85b7-3596-4352-9ace-15790364016b",
   "metadata": {},
   "outputs": [
    {
     "ename": "TypeError",
     "evalue": "'tuple' object doesn't support item deletion",
     "output_type": "error",
     "traceback": [
      "\u001b[1;31m---------------------------------------------------------------------------\u001b[0m",
      "\u001b[1;31mTypeError\u001b[0m                                 Traceback (most recent call last)",
      "Cell \u001b[1;32mIn[56], line 1\u001b[0m\n\u001b[1;32m----> 1\u001b[0m \u001b[38;5;28;01mdel\u001b[39;00m mytuple[\u001b[38;5;241m0\u001b[39m]\n",
      "\u001b[1;31mTypeError\u001b[0m: 'tuple' object doesn't support item deletion"
     ]
    }
   ],
   "source": [
    "del mytuple[0] # tuples are immutable which means we cant delete tuple items"
   ]
  },
  {
   "cell_type": "code",
   "execution_count": 58,
   "id": "339a8f87-8253-4bd5-aea5-002e8e39fcec",
   "metadata": {},
   "outputs": [
    {
     "ename": "TypeError",
     "evalue": "'tuple' object does not support item assignment",
     "output_type": "error",
     "traceback": [
      "\u001b[1;31m---------------------------------------------------------------------------\u001b[0m",
      "\u001b[1;31mTypeError\u001b[0m                                 Traceback (most recent call last)",
      "Cell \u001b[1;32mIn[58], line 1\u001b[0m\n\u001b[1;32m----> 1\u001b[0m mytuple[\u001b[38;5;241m0\u001b[39m]\u001b[38;5;241m=\u001b[39m\u001b[38;5;241m1\u001b[39m\n",
      "\u001b[1;31mTypeError\u001b[0m: 'tuple' object does not support item assignment"
     ]
    }
   ],
   "source": [
    "mytuple[0]=1 # Tuples are immutable which means we cant change tuple items "
   ]
  },
  {
   "cell_type": "code",
   "execution_count": 60,
   "id": "3e54482b-4891-4c5c-ab23-10a2d48d2ff4",
   "metadata": {},
   "outputs": [],
   "source": [
    "del mytuple # deleting the entire tuple is possible "
   ]
  },
  {
   "cell_type": "markdown",
   "id": "f0c485e0-ee97-4434-a3c7-698ad3a36030",
   "metadata": {},
   "source": [
    "Loop through a Tuple "
   ]
  },
  {
   "cell_type": "code",
   "execution_count": 67,
   "id": "ffff3f8b-1d39-4a8d-a34c-d52ee2549618",
   "metadata": {},
   "outputs": [
    {
     "data": {
      "text/plain": [
       "('one', 'two', 'three', 'four', 'five', 'six', 'seven', 'eight')"
      ]
     },
     "execution_count": 67,
     "metadata": {},
     "output_type": "execute_result"
    }
   ],
   "source": [
    "mytuple"
   ]
  },
  {
   "cell_type": "code",
   "execution_count": 69,
   "id": "7ff80332-1b27-4e13-ad48-cdb73c99d12e",
   "metadata": {},
   "outputs": [
    {
     "name": "stdout",
     "output_type": "stream",
     "text": [
      "one\n",
      "two\n",
      "three\n",
      "four\n",
      "five\n",
      "six\n",
      "seven\n",
      "eight\n"
     ]
    }
   ],
   "source": [
    "for i in mytuple:\n",
    "    print(i)"
   ]
  },
  {
   "cell_type": "code",
   "execution_count": 71,
   "id": "743131b2-d8cb-40fb-afc1-bf1ff44e80d6",
   "metadata": {},
   "outputs": [
    {
     "name": "stdout",
     "output_type": "stream",
     "text": [
      "(0, 'one')\n",
      "(1, 'two')\n",
      "(2, 'three')\n",
      "(3, 'four')\n",
      "(4, 'five')\n",
      "(5, 'six')\n",
      "(6, 'seven')\n",
      "(7, 'eight')\n"
     ]
    }
   ],
   "source": [
    "for i in enumerate(mytuple):\n",
    "    print(i)"
   ]
  },
  {
   "cell_type": "markdown",
   "id": "21931661-95b8-4bdd-ad14-efea1f03e674",
   "metadata": {},
   "source": [
    "Tuple Membership"
   ]
  },
  {
   "cell_type": "code",
   "execution_count": 74,
   "id": "42003190-8f7a-420d-af6c-7fec3144ee65",
   "metadata": {},
   "outputs": [
    {
     "data": {
      "text/plain": [
       "('one', 'two', 'three', 'four', 'five', 'six', 'seven', 'eight')"
      ]
     },
     "execution_count": 74,
     "metadata": {},
     "output_type": "execute_result"
    }
   ],
   "source": [
    "mytuple"
   ]
  },
  {
   "cell_type": "code",
   "execution_count": 78,
   "id": "c1a4f141-cf80-4d74-95d3-5ae82a8e2365",
   "metadata": {},
   "outputs": [
    {
     "data": {
      "text/plain": [
       "True"
      ]
     },
     "execution_count": 78,
     "metadata": {},
     "output_type": "execute_result"
    }
   ],
   "source": [
    "'one' in mytuple "
   ]
  },
  {
   "cell_type": "code",
   "execution_count": 80,
   "id": "82b5c594-8174-4c83-abe4-12ea70d633dc",
   "metadata": {},
   "outputs": [
    {
     "data": {
      "text/plain": [
       "False"
      ]
     },
     "execution_count": 80,
     "metadata": {},
     "output_type": "execute_result"
    }
   ],
   "source": [
    "'ten' in mytuple"
   ]
  },
  {
   "cell_type": "code",
   "execution_count": 82,
   "id": "6b14e11c-9c39-4975-a5d4-6d8a38d7dc58",
   "metadata": {},
   "outputs": [
    {
     "name": "stdout",
     "output_type": "stream",
     "text": [
      "three present\n"
     ]
    }
   ],
   "source": [
    "if 'three' in mytuple:\n",
    "    print('three present')\n",
    "else:\n",
    "    print('three absent')"
   ]
  },
  {
   "cell_type": "code",
   "execution_count": 84,
   "id": "59e45a60-18e8-4670-8bdd-0a6aa092976e",
   "metadata": {},
   "outputs": [
    {
     "name": "stdout",
     "output_type": "stream",
     "text": [
      "eleven absent\n"
     ]
    }
   ],
   "source": [
    "if 'eleven' in mytuple:\n",
    "    print('eleven present')\n",
    "else:\n",
    "    print('eleven absent')"
   ]
  },
  {
   "cell_type": "markdown",
   "id": "97070f47-ec09-4ee2-a509-ff3082253062",
   "metadata": {},
   "source": [
    "Index Position"
   ]
  },
  {
   "cell_type": "code",
   "execution_count": 87,
   "id": "8c62b326-13c2-452f-8f74-4ff94b3fa0d8",
   "metadata": {},
   "outputs": [
    {
     "data": {
      "text/plain": [
       "('one', 'two', 'three', 'four', 'five', 'six', 'seven', 'eight')"
      ]
     },
     "execution_count": 87,
     "metadata": {},
     "output_type": "execute_result"
    }
   ],
   "source": [
    "mytuple "
   ]
  },
  {
   "cell_type": "code",
   "execution_count": 91,
   "id": "98ac2f76-0ff9-458c-987b-2870bca7b175",
   "metadata": {},
   "outputs": [
    {
     "data": {
      "text/plain": [
       "0"
      ]
     },
     "execution_count": 91,
     "metadata": {},
     "output_type": "execute_result"
    }
   ],
   "source": [
    "mytuple.index('one')"
   ]
  },
  {
   "cell_type": "code",
   "execution_count": 93,
   "id": "f2df532b-de3c-4b7b-8622-ea2f5d41c6c2",
   "metadata": {},
   "outputs": [
    {
     "data": {
      "text/plain": [
       "4"
      ]
     },
     "execution_count": 93,
     "metadata": {},
     "output_type": "execute_result"
    }
   ],
   "source": [
    "mytuple.index('five')"
   ]
  },
  {
   "cell_type": "markdown",
   "id": "2537794a-4e0f-4930-b1f3-c428a9ce9b3f",
   "metadata": {},
   "source": [
    "Sorting"
   ]
  },
  {
   "cell_type": "code",
   "execution_count": 98,
   "id": "d3f4970f-aa47-471c-9ce8-f13200e4af4e",
   "metadata": {},
   "outputs": [],
   "source": [
    "mytuple1=(43,67,99,12,6,90,67)"
   ]
  },
  {
   "cell_type": "code",
   "execution_count": 100,
   "id": "45763fd9-4727-42fa-bc56-c165c83723ae",
   "metadata": {},
   "outputs": [
    {
     "data": {
      "text/plain": [
       "[6, 12, 43, 67, 67, 90, 99]"
      ]
     },
     "execution_count": 100,
     "metadata": {},
     "output_type": "execute_result"
    }
   ],
   "source": [
    "sorted(mytuple1)"
   ]
  },
  {
   "cell_type": "code",
   "execution_count": 102,
   "id": "77efc096-8468-455b-ad12-52feeebbcd90",
   "metadata": {},
   "outputs": [
    {
     "data": {
      "text/plain": [
       "[99, 90, 67, 67, 43, 12, 6]"
      ]
     },
     "execution_count": 102,
     "metadata": {},
     "output_type": "execute_result"
    }
   ],
   "source": [
    "sorted(mytuple1,reverse=True)"
   ]
  }
 ],
 "metadata": {
  "kernelspec": {
   "display_name": "Python 3 (ipykernel)",
   "language": "python",
   "name": "python3"
  },
  "language_info": {
   "codemirror_mode": {
    "name": "ipython",
    "version": 3
   },
   "file_extension": ".py",
   "mimetype": "text/x-python",
   "name": "python",
   "nbconvert_exporter": "python",
   "pygments_lexer": "ipython3",
   "version": "3.12.4"
  }
 },
 "nbformat": 4,
 "nbformat_minor": 5
}
