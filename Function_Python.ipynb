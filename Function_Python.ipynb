{
 "cells": [
  {
   "cell_type": "code",
   "execution_count": 1,
   "id": "64f498cc-d97d-4c05-837c-0f9d12766e1f",
   "metadata": {},
   "outputs": [],
   "source": [
    "def greet():\n",
    "    print('good evening')"
   ]
  },
  {
   "cell_type": "code",
   "execution_count": 2,
   "id": "79348617-53dc-4f36-9bea-12451123b502",
   "metadata": {},
   "outputs": [
    {
     "name": "stdout",
     "output_type": "stream",
     "text": [
      "good evening\n"
     ]
    }
   ],
   "source": [
    "greet()"
   ]
  },
  {
   "cell_type": "code",
   "execution_count": 3,
   "id": "570ea7b3-fc74-4b17-8327-a16de17ab328",
   "metadata": {},
   "outputs": [
    {
     "name": "stdout",
     "output_type": "stream",
     "text": [
      "good evening\n",
      "good evening\n",
      "good evening\n"
     ]
    }
   ],
   "source": [
    "def greet():\n",
    "    print('good evening')\n",
    "greet()\n",
    "def greet():\n",
    "    print('good evening')\n",
    "greet()\n",
    "def greet():\n",
    "    print('good evening')\n",
    "greet()"
   ]
  },
  {
   "cell_type": "code",
   "execution_count": 4,
   "id": "a84463c7-03fb-4994-83e4-aa8cb02b088b",
   "metadata": {},
   "outputs": [
    {
     "name": "stdout",
     "output_type": "stream",
     "text": [
      "good evening\n",
      "\n",
      "good evening\n",
      "\n",
      "good evening\n"
     ]
    }
   ],
   "source": [
    "greet()\n",
    "print()\n",
    "greet()\n",
    "print()\n",
    "greet()"
   ]
  },
  {
   "cell_type": "code",
   "execution_count": 5,
   "id": "64205805-12e2-400e-acef-ace28919e499",
   "metadata": {},
   "outputs": [
    {
     "name": "stdout",
     "output_type": "stream",
     "text": [
      "9\n"
     ]
    }
   ],
   "source": [
    "def add(x,y):\n",
    "    c=x+y\n",
    "    print(c)\n",
    "add(4,5)"
   ]
  },
  {
   "cell_type": "code",
   "execution_count": 6,
   "id": "14c5fa51-3dfd-4f80-b434-ad3e194d199e",
   "metadata": {},
   "outputs": [
    {
     "ename": "TypeError",
     "evalue": "add() takes 1 positional argument but 2 were given",
     "output_type": "error",
     "traceback": [
      "\u001b[1;31m---------------------------------------------------------------------------\u001b[0m",
      "\u001b[1;31mTypeError\u001b[0m                                 Traceback (most recent call last)",
      "Cell \u001b[1;32mIn[6], line 4\u001b[0m\n\u001b[0;32m      2\u001b[0m     c\u001b[38;5;241m=\u001b[39mx\u001b[38;5;241m+\u001b[39my\n\u001b[0;32m      3\u001b[0m     \u001b[38;5;28mprint\u001b[39m(c)\n\u001b[1;32m----> 4\u001b[0m add(\u001b[38;5;241m4\u001b[39m,\u001b[38;5;241m5\u001b[39m)\n",
      "\u001b[1;31mTypeError\u001b[0m: add() takes 1 positional argument but 2 were given"
     ]
    }
   ],
   "source": [
    "def add(x):\n",
    "    c=x+y\n",
    "    print(c)\n",
    "add(4,5)"
   ]
  },
  {
   "cell_type": "code",
   "execution_count": 15,
   "id": "dddee6fc-5094-4702-8008-258f434104ca",
   "metadata": {},
   "outputs": [
    {
     "ename": "TypeError",
     "evalue": "add() missing 1 required positional argument: 'z'",
     "output_type": "error",
     "traceback": [
      "\u001b[1;31m---------------------------------------------------------------------------\u001b[0m",
      "\u001b[1;31mTypeError\u001b[0m                                 Traceback (most recent call last)",
      "Cell \u001b[1;32mIn[15], line 4\u001b[0m\n\u001b[0;32m      2\u001b[0m     c\u001b[38;5;241m=\u001b[39mx\u001b[38;5;241m+\u001b[39my\n\u001b[0;32m      3\u001b[0m     \u001b[38;5;28mprint\u001b[39m(c)\n\u001b[1;32m----> 4\u001b[0m add(\u001b[38;5;241m4\u001b[39m,\u001b[38;5;241m5\u001b[39m)\n",
      "\u001b[1;31mTypeError\u001b[0m: add() missing 1 required positional argument: 'z'"
     ]
    }
   ],
   "source": [
    "def add(x,y,z):\n",
    "    c=x+y\n",
    "    print(c)\n",
    "add(4,5)"
   ]
  },
  {
   "cell_type": "code",
   "execution_count": null,
   "id": "a209cf25-4d82-443b-ad10-71a8c7f40a80",
   "metadata": {},
   "outputs": [],
   "source": [
    "def add(x,y):\n",
    "    c=x+y\n",
    "    print(c)\n",
    "add(4,5,7)"
   ]
  },
  {
   "cell_type": "code",
   "execution_count": 18,
   "id": "c93a53e1-5ca8-436c-a069-4eecb2e15865",
   "metadata": {},
   "outputs": [
    {
     "name": "stdout",
     "output_type": "stream",
     "text": [
      "good evening\n",
      "\n",
      "9\n"
     ]
    }
   ],
   "source": [
    "def greet():\n",
    "    print('good evening')\n",
    "greet()\n",
    "print()\n",
    "def add(x,y):\n",
    "    c=x+y\n",
    "    print(c)\n",
    "add(4,5)"
   ]
  },
  {
   "cell_type": "code",
   "execution_count": 20,
   "id": "d627eff9-9d7c-4783-8f9f-3d1250a79dd0",
   "metadata": {},
   "outputs": [
    {
     "name": "stdout",
     "output_type": "stream",
     "text": [
      "good evening\n",
      "66\n",
      "33\n"
     ]
    }
   ],
   "source": [
    "def greet():\n",
    "    print('good evening')\n",
    "def add(x,y):\n",
    "    c=x+y\n",
    "    print(c)\n",
    "def sub(x,y):\n",
    "    c=x-y\n",
    "    print(c)\n",
    "greet()\n",
    "add(23,43)\n",
    "sub(45,12)"
   ]
  },
  {
   "cell_type": "code",
   "execution_count": 22,
   "id": "145296a1-98f8-4b5a-9820-e3b215857121",
   "metadata": {},
   "outputs": [
    {
     "data": {
      "text/plain": [
       "57"
      ]
     },
     "execution_count": 22,
     "metadata": {},
     "output_type": "execute_result"
    }
   ],
   "source": [
    "def add(x,y):\n",
    "    c=x+y\n",
    "    return c\n",
    "add(34,23)"
   ]
  },
  {
   "cell_type": "code",
   "execution_count": 24,
   "id": "cbf465c6-bcbe-43c6-9b2f-e5695d0d63ae",
   "metadata": {},
   "outputs": [
    {
     "name": "stdout",
     "output_type": "stream",
     "text": [
      "120\n",
      "-80\n"
     ]
    }
   ],
   "source": [
    "def add(x,y):\n",
    "    c=x+y\n",
    "    return c\n",
    "def sub(x,y):\n",
    "    d=x-y\n",
    "    return d\n",
    "    \n",
    "print(add(20,100))\n",
    "print(sub(20,100))"
   ]
  },
  {
   "cell_type": "code",
   "execution_count": 26,
   "id": "da9af485-17dd-40a8-a87d-e1a50a12c320",
   "metadata": {},
   "outputs": [
    {
     "name": "stdout",
     "output_type": "stream",
     "text": [
      "(46, -22)\n",
      "<class 'tuple'>\n"
     ]
    }
   ],
   "source": [
    "def add_sub(x,y):\n",
    "    c=x+y\n",
    "    d=x-y\n",
    "    return c,d,\n",
    "res=add_sub(12,34)\n",
    "print(res)\n",
    "print(type(res))"
   ]
  },
  {
   "cell_type": "code",
   "execution_count": 28,
   "id": "1fb32dac-218c-4379-a1e3-0f5a80307e38",
   "metadata": {},
   "outputs": [
    {
     "name": "stdout",
     "output_type": "stream",
     "text": [
      "46\n",
      "-22\n",
      "<class 'int'>\n",
      "<class 'int'>\n"
     ]
    }
   ],
   "source": [
    "def add_sub(x,y):\n",
    "    c=x+y\n",
    "    d=x-y\n",
    "    return c,d,\n",
    "res1,res2=add_sub(12,34)\n",
    "print(res1)\n",
    "print(res2)\n",
    "\n",
    "print(type(res1))\n",
    "print(type(res2))\n",
    "\n"
   ]
  },
  {
   "cell_type": "markdown",
   "id": "46d66197-5d28-410a-a28d-9c4ded0e8c69",
   "metadata": {},
   "source": [
    "# Function arguments:\n"
   ]
  },
  {
   "cell_type": "code",
   "execution_count": 31,
   "id": "b7d6e8e8-b420-46c1-bcf3-a4b87e292979",
   "metadata": {},
   "outputs": [
    {
     "name": "stdout",
     "output_type": "stream",
     "text": [
      "8\n"
     ]
    }
   ],
   "source": [
    "def update():\n",
    "    x=8\n",
    "    print(x)\n",
    "update()"
   ]
  },
  {
   "cell_type": "code",
   "execution_count": 33,
   "id": "829bb281-2534-492b-8c6e-5ffaa90a9b3c",
   "metadata": {},
   "outputs": [
    {
     "ename": "TypeError",
     "evalue": "update() takes 0 positional arguments but 1 was given",
     "output_type": "error",
     "traceback": [
      "\u001b[1;31m---------------------------------------------------------------------------\u001b[0m",
      "\u001b[1;31mTypeError\u001b[0m                                 Traceback (most recent call last)",
      "Cell \u001b[1;32mIn[33], line 4\u001b[0m\n\u001b[0;32m      2\u001b[0m     x\u001b[38;5;241m=\u001b[39m\u001b[38;5;241m8\u001b[39m\n\u001b[0;32m      3\u001b[0m     \u001b[38;5;28mprint\u001b[39m(x)\n\u001b[1;32m----> 4\u001b[0m update(\u001b[38;5;241m8\u001b[39m)\n",
      "\u001b[1;31mTypeError\u001b[0m: update() takes 0 positional arguments but 1 was given"
     ]
    }
   ],
   "source": [
    "def update():\n",
    "    x=8\n",
    "    print(x)\n",
    "update(8)"
   ]
  },
  {
   "cell_type": "code",
   "execution_count": 35,
   "id": "2753245a-deee-4fa7-bd36-b98255e68e1f",
   "metadata": {},
   "outputs": [
    {
     "data": {
      "text/plain": [
       "8"
      ]
     },
     "execution_count": 35,
     "metadata": {},
     "output_type": "execute_result"
    }
   ],
   "source": [
    "def update(x): #update function take the value from the user \n",
    "    x=8\n",
    "    return x\n",
    "update(8)"
   ]
  },
  {
   "cell_type": "code",
   "execution_count": 37,
   "id": "2ea29d79-625a-450f-abb7-2976ba47b8ff",
   "metadata": {},
   "outputs": [
    {
     "data": {
      "text/plain": [
       "8"
      ]
     },
     "execution_count": 37,
     "metadata": {},
     "output_type": "execute_result"
    }
   ],
   "source": [
    "def update(x): #update function take the value from the user \n",
    "    x=8\n",
    "    return x\n",
    "update(10)"
   ]
  },
  {
   "cell_type": "code",
   "execution_count": 39,
   "id": "5ed3ab07-18ec-427e-9f43-f7b63b426072",
   "metadata": {},
   "outputs": [
    {
     "name": "stdout",
     "output_type": "stream",
     "text": [
      "8\n",
      "10\n"
     ]
    }
   ],
   "source": [
    "def update(x):\n",
    "    x=8\n",
    "    return x\n",
    "a=10\n",
    "print(update(a))\n",
    "print(a)"
   ]
  },
  {
   "cell_type": "markdown",
   "id": "2e8c60f4-6c6a-4534-a4ee-2efa8e12e33d",
   "metadata": {},
   "source": [
    "# Function without argument -not required any thing\n",
    "# Function with argument -- divide into 2 parts \n",
    "- FORMAL ARGUMENT\n",
    "- ACTUAL ARGUMENT"
   ]
  },
  {
   "cell_type": "code",
   "execution_count": 42,
   "id": "591c137f-bca3-4d71-a2af-c45da4f3d998",
   "metadata": {},
   "outputs": [
    {
     "data": {
      "text/plain": [
       "9"
      ]
     },
     "execution_count": 42,
     "metadata": {},
     "output_type": "execute_result"
    }
   ],
   "source": [
    "def add(x,y): #x&y us called --FORMAL ARGUMENT\n",
    "    c=x+y\n",
    "    return c\n",
    "add(4,5) #4&5 is called -ACTUAL ARGUMENT"
   ]
  },
  {
   "cell_type": "markdown",
   "id": "dd45dff3-fcbd-4f44-a467-543cb8be3c01",
   "metadata": {},
   "source": [
    "# Postional Argument"
   ]
  },
  {
   "cell_type": "code",
   "execution_count": 45,
   "id": "8735af37-98a4-4af9-a698-d7ee3fbd6479",
   "metadata": {},
   "outputs": [
    {
     "data": {
      "text/plain": [
       "9"
      ]
     },
     "execution_count": 45,
     "metadata": {},
     "output_type": "execute_result"
    }
   ],
   "source": [
    "def add(x,y,z,m,n,o,a,u):\n",
    "    c=x+y\n",
    "    return c\n",
    "add(4,5,0,7,4,64,5,68)"
   ]
  },
  {
   "cell_type": "code",
   "execution_count": 47,
   "id": "c00618c3-592c-46f6-a3a4-ae67696d3f9c",
   "metadata": {},
   "outputs": [
    {
     "name": "stdout",
     "output_type": "stream",
     "text": [
      "nit\n",
      "22\n"
     ]
    }
   ],
   "source": [
    "def person(name,age):\n",
    "    print(name)\n",
    "    print(age)\n",
    "person('nit',22)"
   ]
  },
  {
   "cell_type": "code",
   "execution_count": 49,
   "id": "5571812c-123d-4e13-8a79-0bbcf91e8223",
   "metadata": {},
   "outputs": [
    {
     "name": "stdout",
     "output_type": "stream",
     "text": [
      "22\n",
      "nit\n"
     ]
    }
   ],
   "source": [
    "def person(name,age):\n",
    "    print(name)\n",
    "    print(age)\n",
    "person(22,'nit')"
   ]
  },
  {
   "cell_type": "code",
   "execution_count": 51,
   "id": "457b96ae-ed32-472b-abe8-e1bbfe1e9247",
   "metadata": {},
   "outputs": [
    {
     "name": "stdout",
     "output_type": "stream",
     "text": [
      "22\n"
     ]
    },
    {
     "ename": "TypeError",
     "evalue": "can only concatenate str (not \"int\") to str",
     "output_type": "error",
     "traceback": [
      "\u001b[1;31m---------------------------------------------------------------------------\u001b[0m",
      "\u001b[1;31mTypeError\u001b[0m                                 Traceback (most recent call last)",
      "Cell \u001b[1;32mIn[51], line 4\u001b[0m\n\u001b[0;32m      2\u001b[0m     \u001b[38;5;28mprint\u001b[39m(name)\n\u001b[0;32m      3\u001b[0m     \u001b[38;5;28mprint\u001b[39m(age\u001b[38;5;241m+\u001b[39m\u001b[38;5;241m1\u001b[39m)\n\u001b[1;32m----> 4\u001b[0m person(\u001b[38;5;241m22\u001b[39m, \u001b[38;5;124m'\u001b[39m\u001b[38;5;124mnit\u001b[39m\u001b[38;5;124m'\u001b[39m)\n",
      "Cell \u001b[1;32mIn[51], line 3\u001b[0m, in \u001b[0;36mperson\u001b[1;34m(name, age)\u001b[0m\n\u001b[0;32m      1\u001b[0m \u001b[38;5;28;01mdef\u001b[39;00m \u001b[38;5;21mperson\u001b[39m(name,age):\n\u001b[0;32m      2\u001b[0m     \u001b[38;5;28mprint\u001b[39m(name)\n\u001b[1;32m----> 3\u001b[0m     \u001b[38;5;28mprint\u001b[39m(age\u001b[38;5;241m+\u001b[39m\u001b[38;5;241m1\u001b[39m)\n",
      "\u001b[1;31mTypeError\u001b[0m: can only concatenate str (not \"int\") to str"
     ]
    }
   ],
   "source": [
    "def person(name,age):\n",
    "    print(name)\n",
    "    print(age+1)\n",
    "person(22, 'nit')"
   ]
  },
  {
   "cell_type": "markdown",
   "id": "73b88cc3-322e-4dad-ac01-7666db29dbf1",
   "metadata": {},
   "source": [
    "# Keyword Argument"
   ]
  },
  {
   "cell_type": "code",
   "execution_count": 54,
   "id": "173a9f64-59c9-4fa1-aeae-dc9d448f7efc",
   "metadata": {},
   "outputs": [
    {
     "name": "stdout",
     "output_type": "stream",
     "text": [
      "nit\n",
      "23\n"
     ]
    }
   ],
   "source": [
    "def person(name,age):\n",
    "    print(name)\n",
    "    print(age+1)\n",
    "person(age=22,name='nit')"
   ]
  },
  {
   "cell_type": "code",
   "execution_count": 56,
   "id": "6e9cdb67-e13d-4b54-8478-f329523088b5",
   "metadata": {},
   "outputs": [
    {
     "ename": "TypeError",
     "evalue": "person() missing 1 required positional argument: 'salary'",
     "output_type": "error",
     "traceback": [
      "\u001b[1;31m---------------------------------------------------------------------------\u001b[0m",
      "\u001b[1;31mTypeError\u001b[0m                                 Traceback (most recent call last)",
      "Cell \u001b[1;32mIn[56], line 5\u001b[0m\n\u001b[0;32m      3\u001b[0m     \u001b[38;5;28mprint\u001b[39m(age\u001b[38;5;241m+\u001b[39m\u001b[38;5;241m1\u001b[39m)\n\u001b[0;32m      4\u001b[0m     \u001b[38;5;28mprint\u001b[39m(\u001b[38;5;124m'\u001b[39m\u001b[38;5;124msir job chaiye\u001b[39m\u001b[38;5;124m'\u001b[39m)\n\u001b[1;32m----> 5\u001b[0m person(age\u001b[38;5;241m=\u001b[39m\u001b[38;5;241m22\u001b[39m, name\u001b[38;5;241m=\u001b[39m\u001b[38;5;124m'\u001b[39m\u001b[38;5;124mnit\u001b[39m\u001b[38;5;124m'\u001b[39m)\n",
      "\u001b[1;31mTypeError\u001b[0m: person() missing 1 required positional argument: 'salary'"
     ]
    }
   ],
   "source": [
    "def person(name,age,salary):\n",
    "    print(name)\n",
    "    print(age+1)\n",
    "    print('sir job chaiye')\n",
    "person(age=22, name='nit')"
   ]
  },
  {
   "cell_type": "markdown",
   "id": "c63338dd-a059-45cd-aecc-5967e69ed2bf",
   "metadata": {},
   "source": [
    "# Default argument"
   ]
  },
  {
   "cell_type": "code",
   "execution_count": 59,
   "id": "820bd140-db5f-4c7e-8b27-68c88c53bfe2",
   "metadata": {},
   "outputs": [
    {
     "name": "stdout",
     "output_type": "stream",
     "text": [
      "nit\n",
      "20\n",
      "21\n"
     ]
    }
   ],
   "source": [
    "def person(name,age,age2):\n",
    "    print(name)\n",
    "    print(age)\n",
    "    print(age2)\n",
    "person(age=20,name='nit',age2=21)\n",
    "#this called keyboard arguments"
   ]
  },
  {
   "cell_type": "code",
   "execution_count": 61,
   "id": "c246c837-6525-4f32-9228-0220e3c1874d",
   "metadata": {},
   "outputs": [
    {
     "ename": "TypeError",
     "evalue": "person() missing 1 required positional argument: 'age'",
     "output_type": "error",
     "traceback": [
      "\u001b[1;31m---------------------------------------------------------------------------\u001b[0m",
      "\u001b[1;31mTypeError\u001b[0m                                 Traceback (most recent call last)",
      "Cell \u001b[1;32mIn[61], line 4\u001b[0m\n\u001b[0;32m      2\u001b[0m     \u001b[38;5;28mprint\u001b[39m(name)\n\u001b[0;32m      3\u001b[0m     \u001b[38;5;28mprint\u001b[39m(age)\n\u001b[1;32m----> 4\u001b[0m person(\u001b[38;5;124m'\u001b[39m\u001b[38;5;124mnit\u001b[39m\u001b[38;5;124m'\u001b[39m)\n",
      "\u001b[1;31mTypeError\u001b[0m: person() missing 1 required positional argument: 'age'"
     ]
    }
   ],
   "source": [
    "def person(name,age):\n",
    "    print(name)\n",
    "    print(age)\n",
    "person('nit')"
   ]
  },
  {
   "cell_type": "code",
   "execution_count": 63,
   "id": "e2da6525-f4cb-4aa3-8917-b3f9b3e64ab2",
   "metadata": {},
   "outputs": [
    {
     "name": "stdout",
     "output_type": "stream",
     "text": [
      "nit\n",
      "18\n"
     ]
    }
   ],
   "source": [
    "def person(name,age=18):\n",
    "    print(name)\n",
    "    print(age)\n",
    "    \n",
    "person('nit') "
   ]
  },
  {
   "cell_type": "code",
   "execution_count": 65,
   "id": "a653da05-b9b0-4697-a323-4af12256b805",
   "metadata": {},
   "outputs": [
    {
     "name": "stdout",
     "output_type": "stream",
     "text": [
      "nit\n",
      "40\n"
     ]
    }
   ],
   "source": [
    "def person(name, age=18):\n",
    "    print(name)\n",
    "    print(age)\n",
    "    \n",
    "person('nit',age= 40) "
   ]
  }
 ],
 "metadata": {
  "kernelspec": {
   "display_name": "Python 3 (ipykernel)",
   "language": "python",
   "name": "python3"
  },
  "language_info": {
   "codemirror_mode": {
    "name": "ipython",
    "version": 3
   },
   "file_extension": ".py",
   "mimetype": "text/x-python",
   "name": "python",
   "nbconvert_exporter": "python",
   "pygments_lexer": "ipython3",
   "version": "3.12.4"
  }
 },
 "nbformat": 4,
 "nbformat_minor": 5
}
